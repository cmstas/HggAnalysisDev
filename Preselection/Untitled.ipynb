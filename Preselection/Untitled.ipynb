{
 "cells": [
  {
   "cell_type": "code",
   "execution_count": 1,
   "metadata": {},
   "outputs": [],
   "source": [
    "from condor_utils import make_htcondor_cluster"
   ]
  },
  {
   "cell_type": "code",
   "execution_count": 4,
   "metadata": {},
   "outputs": [],
   "source": [
    "from dask.distributed import Client\n",
    "client = Client(\"tcp://169.228.130.74:14520\")"
   ]
  },
  {
   "cell_type": "code",
   "execution_count": 5,
   "metadata": {},
   "outputs": [
    {
     "data": {
      "text/html": [
       "<table style=\"border: 2px solid white;\">\n",
       "<tr>\n",
       "<td style=\"vertical-align: top; border: 0px solid white\">\n",
       "<h3 style=\"text-align: left;\">Client</h3>\n",
       "<ul style=\"text-align: left; list-style: none; margin: 0; padding: 0;\">\n",
       "  <li><b>Scheduler: </b>tcp://169.228.130.74:14520</li>\n",
       "  <li><b>Dashboard: </b><a href='http://169.228.130.74:4654/status' target='_blank'>http://169.228.130.74:4654/status</a></li>\n",
       "</ul>\n",
       "</td>\n",
       "<td style=\"vertical-align: top; border: 0px solid white\">\n",
       "<h3 style=\"text-align: left;\">Cluster</h3>\n",
       "<ul style=\"text-align: left; list-style:none; margin: 0; padding: 0;\">\n",
       "  <li><b>Workers: </b>53</li>\n",
       "  <li><b>Cores: </b>53</li>\n",
       "  <li><b>Memory: </b>318.00 GB</li>\n",
       "</ul>\n",
       "</td>\n",
       "</tr>\n",
       "</table>"
      ],
      "text/plain": [
       "<Client: 'tcp://169.228.130.74:14520' processes=53 threads=53, memory=318.00 GB>"
      ]
     },
     "execution_count": 5,
     "metadata": {},
     "output_type": "execute_result"
    }
   ],
   "source": [
    "client"
   ]
  },
  {
   "cell_type": "code",
   "execution_count": 22,
   "metadata": {},
   "outputs": [
    {
     "data": {
      "text/plain": [
       "{'tcp://169.228.132.170:27247': {'type': 'Worker',\n",
       "  'id': 1,\n",
       "  'host': '169.228.132.170',\n",
       "  'resources': {},\n",
       "  'local_directory': '/srv/temp/dask-worker-space/dask-worker-space/worker-hbb4z5sz',\n",
       "  'name': 1,\n",
       "  'nthreads': 1,\n",
       "  'memory_limit': 6000000000,\n",
       "  'last_seen': 1612391231.7368848,\n",
       "  'services': {'dashboard': 30724},\n",
       "  'metrics': {'numtreescached': 0,\n",
       "   'eventsprocessed': '0.00M',\n",
       "   'cpu': 2.0,\n",
       "   'memory': 464470016,\n",
       "   'time': 1612391231.7351692,\n",
       "   'read_bytes': 3593195.086565603,\n",
       "   'write_bytes': 576045.2811716902,\n",
       "   'num_fds': 26,\n",
       "   'executing': 1,\n",
       "   'in_memory': 13,\n",
       "   'ready': 0,\n",
       "   'in_flight': 0,\n",
       "   'bandwidth': {'total': 100000000, 'workers': {}, 'types': {}}},\n",
       "  'nanny': 'tcp://169.228.132.170:21760'}}"
      ]
     },
     "execution_count": 22,
     "metadata": {},
     "output_type": "execute_result"
    },
    {
     "name": "stderr",
     "output_type": "stream",
     "text": [
      "distributed.client - ERROR - Failed to reconnect to scheduler after 10.00 seconds, closing client\n",
      "_GatheringFuture exception was never retrieved\n",
      "future: <_GatheringFuture finished exception=CancelledError()>\n",
      "concurrent.futures._base.CancelledError\n"
     ]
    }
   ],
   "source": [
    "client.retire_workers([k for k,v in client.processing().items() if v])"
   ]
  },
  {
   "cell_type": "code",
   "execution_count": 1,
   "metadata": {},
   "outputs": [
    {
     "ename": "ModuleNotFoundError",
     "evalue": "No module named 'awkward'",
     "output_type": "error",
     "traceback": [
      "\u001b[0;31m---------------------------------------------------------------------------\u001b[0m",
      "\u001b[0;31mModuleNotFoundError\u001b[0m                       Traceback (most recent call last)",
      "\u001b[1;32m/home/giacomoz/Remotes/UAFX/Analysis/HggAnalysisDev/Preselection/Untitled.ipynb Cell 5'\u001b[0m in \u001b[0;36m<cell line: 1>\u001b[0;34m()\u001b[0m\n\u001b[0;32m----> <a href='vscode-notebook-cell:/home/giacomoz/Remotes/UAFX/Analysis/HggAnalysisDev/Preselection/Untitled.ipynb#ch0000004?line=0'>1</a>\u001b[0m \u001b[39mimport\u001b[39;00m \u001b[39mawkward\u001b[39;00m \u001b[39mas\u001b[39;00m \u001b[39mak\u001b[39;00m\n\u001b[1;32m      <a href='vscode-notebook-cell:/home/giacomoz/Remotes/UAFX/Analysis/HggAnalysisDev/Preselection/Untitled.ipynb#ch0000004?line=1'>2</a>\u001b[0m \u001b[39mimport\u001b[39;00m \u001b[39muproot\u001b[39;00m\n\u001b[1;32m      <a href='vscode-notebook-cell:/home/giacomoz/Remotes/UAFX/Analysis/HggAnalysisDev/Preselection/Untitled.ipynb#ch0000004?line=2'>3</a>\u001b[0m \u001b[39mimport\u001b[39;00m \u001b[39mnumpy\u001b[39;00m \u001b[39mas\u001b[39;00m \u001b[39mnp\u001b[39;00m\n",
      "\u001b[0;31mModuleNotFoundError\u001b[0m: No module named 'awkward'"
     ]
    }
   ],
   "source": [
    "import awkward as ak\n",
    "import uproot\n",
    "import numpy as np\n",
    "from yahist import Hist1D, Hist2D"
   ]
  },
  {
   "cell_type": "code",
   "execution_count": null,
   "metadata": {},
   "outputs": [],
   "source": []
  }
 ],
 "metadata": {
  "interpreter": {
   "hash": "767d51c1340bd893661ea55ea3124f6de3c7a262a8b4abca0554b478b1e2ff90"
  },
  "kernelspec": {
   "display_name": "Python 2.7.5 64-bit",
   "language": "python",
   "name": "python3"
  },
  "language_info": {
   "codemirror_mode": {
    "name": "ipython",
    "version": 3
   },
   "file_extension": ".py",
   "mimetype": "text/x-python",
   "name": "python",
   "nbconvert_exporter": "python",
   "pygments_lexer": "ipython3",
   "version": "3.10.4"
  }
 },
 "nbformat": 4,
 "nbformat_minor": 4
}
