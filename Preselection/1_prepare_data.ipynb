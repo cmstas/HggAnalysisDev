{
 "cells": [
  {
   "cell_type": "code",
   "execution_count": 2,
   "metadata": {
    "scrolled": true
   },
   "outputs": [],
   "source": [
    "%matplotlib inline\n",
    "import pandas as pd\n",
    "import uproot\n",
    "import matplotlib.pyplot as plt\n",
    "import numpy as np\n",
    "import glob\n",
    "import uproot4\n",
    "\n",
    "from dask.distributed import Client, LocalCluster\n",
    "from yahist import Hist1D, Hist2D\n",
    "\n",
    "from condor_utils import make_htcondor_cluster\n",
    "from utils import get_results, clear_tree_cache, plot_timeflow"
   ]
  },
  {
   "cell_type": "markdown",
   "metadata": {},
   "source": [
    "## Skim Parameters"
   ]
  },
  {
   "cell_type": "code",
   "execution_count": 26,
   "metadata": {},
   "outputs": [],
   "source": [
    "year         = '2018'\n",
    "skim_version = 'v4'  #currently available x3 or v4"
   ]
  },
  {
   "cell_type": "markdown",
   "metadata": {},
   "source": [
    "## cross section (wrong ZH xs??)"
   ]
  },
  {
   "cell_type": "code",
   "execution_count": 27,
   "metadata": {},
   "outputs": [
    {
     "data": {
      "text/plain": [
       "{'2018': {'DYJets': 6529.0,\n",
       "  'ttbar': 831.76,\n",
       "  'ttG': 4.078,\n",
       "  'ttGG': 0.01687,\n",
       "  'ZG': 55.6,\n",
       "  'WG': 191.4,\n",
       "  'GJets_HT40To100': 18640.0,\n",
       "  'GJets_HT100To200': 8631.0,\n",
       "  'GJets_HT200To400': 2185.0,\n",
       "  'GJets_HT400To600': 257.7,\n",
       "  'GJets_HT600ToInf': 85.4,\n",
       "  'QCD_pT30To40': 24810.0,\n",
       "  'QCD_pT40ToInf': 118100.0,\n",
       "  'Diphoton': 84.4,\n",
       "  'ZH': 0.002006453,\n",
       "  'VH': 0.00512,\n",
       "  'signal': 0.0098},\n",
       " '2017': {'DYJets': 6529.0,\n",
       "  'ttbar': 831.76,\n",
       "  'ttG': 4.078,\n",
       "  'ttGG': 0.01687,\n",
       "  'ZG': 55.6,\n",
       "  'WG': 191.4,\n",
       "  'GJets_HT40To100': 18640.0,\n",
       "  'GJets_HT100To200': 8631.0,\n",
       "  'GJets_HT200To400': 2185.0,\n",
       "  'GJets_HT400To600': 257.7,\n",
       "  'GJets_HT600ToInf': 85.4,\n",
       "  'QCD_pT30To40': 24810.0,\n",
       "  'QCD_pT40ToInf': 118100.0,\n",
       "  'Diphoton': 84.4,\n",
       "  'ZH': 0.002006453,\n",
       "  'VH': 0.00512,\n",
       "  'signal': 0.0098},\n",
       " '2016': {'DYJets': 5941.0,\n",
       "  'ttbar': 830.0,\n",
       "  'ttG': 3.819,\n",
       "  'ttGG': 0.01731,\n",
       "  'ZG': 123.8,\n",
       "  'WG': 510.6,\n",
       "  'GJets_HT40To100': 23100.0,\n",
       "  'GJets_HT100To200': 9110.0,\n",
       "  'GJets_HT200To400': 2280.0,\n",
       "  'GJets_HT400To600': 273.0,\n",
       "  'GJets_HT600ToInf': 94.5,\n",
       "  'QCD_pT30To40': 22110.0,\n",
       "  'QCD_pT40ToInf': 113400.0,\n",
       "  'Diphoton': 84.4,\n",
       "  'ZH': 0.002006453,\n",
       "  'VH': 0.00512,\n",
       "  'signal': 0.0098}}"
      ]
     },
     "execution_count": 27,
     "metadata": {},
     "output_type": "execute_result"
    }
   ],
   "source": [
    "xs = {}\n",
    "\n",
    "xs['2018'] = {\n",
    "    \"DYJets\"            : 6529.0,\n",
    "    \"ttbar\"             : 831.76, \n",
    "    \"ttG\"               : 4.078, \n",
    "    \"ttGG\"              : 0.01687, \n",
    "    \"ZG\"                : 55.6, \n",
    "    \"WG\"                : 191.4,\n",
    "    \"GJets_HT40To100\"   : 18640.0, \n",
    "    \"GJets_HT100To200\"  : 8631.0,\n",
    "    \"GJets_HT200To400\"  : 2185.0,\n",
    "    \"GJets_HT400To600\"  : 257.7,\n",
    "    \"GJets_HT600ToInf\"  : 85.4,\n",
    "    \"QCD_pT30To40\"      : 24810.0,\n",
    "    \"QCD_pT40ToInf\"     : 118100.0,\n",
    "    \"Diphoton\"          : 84.4,\n",
    "    \"ZH\"                : 0.002006453, #https://github.com/cms-analysis/flashgg/blob/dev_legacy_runII/MetaData/data/cross_sections.json\n",
    "    \"VH\"                : 0.00512, #https://github.com/cmstas/HggAnalysisDev/blob/main/Preselection/data/samples_and_scale1fb_ttH.json#L394\n",
    "    \"signal\"            : 0.0098 #fb, all bkg are in pb\n",
    "} \n",
    "\n",
    "xs['2017'] = xs['2018']\n",
    "\n",
    "xs['2016'] = {\n",
    "    \"DYJets\"            : 5941.0,\n",
    "    \"ttbar\"             : 830., \n",
    "    \"ttG\"               : 3.819, \n",
    "    \"ttGG\"              : 0.01731, \n",
    "    \"ZG\"                : 123.8, \n",
    "    \"WG\"                : 510.6,\n",
    "    \"GJets_HT40To100\"   : 23100.0, \n",
    "    \"GJets_HT100To200\"  : 9110.0,\n",
    "    \"GJets_HT200To400\"  : 2280.0,\n",
    "    \"GJets_HT400To600\"  : 273.0,\n",
    "    \"GJets_HT600ToInf\"  : 94.5,\n",
    "    \"QCD_pT30To40\"      : 22110.0,\n",
    "    \"QCD_pT40ToInf\"     : 113400.0,\n",
    "    \"Diphoton\"          : 84.4,\n",
    "    \"ZH\"                : 0.002006453, #https://github.com/cms-analysis/flashgg/blob/dev_legacy_runII/MetaData/data/cross_sections.json\n",
    "    \"VH\"                : 0.00512, #https://github.com/cmstas/HggAnalysisDev/blob/main/Preselection/data/samples_and_scale1fb_ttH.json#L394\n",
    "    \"signal\"            : 0.0098 #fb, all bkg are in pb\n",
    "}\n",
    "\n",
    "xs"
   ]
  },
  {
   "cell_type": "code",
   "execution_count": 29,
   "metadata": {},
   "outputs": [],
   "source": [
    "import json\n",
    "filename = './metadata/xsection_'+skim_version+'.json'\n",
    "with open(filename, \"w\") as f:\n",
    "    json.dump(xs, f, indent=4)"
   ]
  },
  {
   "cell_type": "markdown",
   "metadata": {},
   "source": [
    "## total weight"
   ]
  },
  {
   "cell_type": "code",
   "execution_count": 5,
   "metadata": {},
   "outputs": [],
   "source": [
    "#from dask.distributed import Client\n",
    "#client = Client('tcp://169.228.130.5:18875')\n",
    "#client"
   ]
  },
  {
   "cell_type": "code",
   "execution_count": 7,
   "metadata": {},
   "outputs": [
    {
     "data": {
      "text/html": [
       "<table style=\"border: 2px solid white;\">\n",
       "<tr>\n",
       "<td style=\"vertical-align: top; border: 0px solid white\">\n",
       "<h3 style=\"text-align: left;\">Client</h3>\n",
       "<ul style=\"text-align: left; list-style: none; margin: 0; padding: 0;\">\n",
       "  <li><b>Scheduler: </b>tcp://127.0.0.1:26675</li>\n",
       "  <li><b>Dashboard: </b><a href='http://127.0.0.1:8787/status' target='_blank'>http://127.0.0.1:8787/status</a></li>\n",
       "</ul>\n",
       "</td>\n",
       "<td style=\"vertical-align: top; border: 0px solid white\">\n",
       "<h3 style=\"text-align: left;\">Cluster</h3>\n",
       "<ul style=\"text-align: left; list-style:none; margin: 0; padding: 0;\">\n",
       "  <li><b>Workers: </b>24</li>\n",
       "  <li><b>Cores: </b>24</li>\n",
       "  <li><b>Memory: </b>96.00 GB</li>\n",
       "</ul>\n",
       "</td>\n",
       "</tr>\n",
       "</table>"
      ],
      "text/plain": [
       "<Client: 'tcp://127.0.0.1:26675' processes=24 threads=24, memory=96.00 GB>"
      ]
     },
     "execution_count": 7,
     "metadata": {},
     "output_type": "execute_result"
    }
   ],
   "source": [
    "from dask.distributed import Client\n",
    "client = Client(memory_limit='4GB', n_workers=24, threads_per_worker=1)\n",
    "client"
   ]
  },
  {
   "cell_type": "code",
   "execution_count": 36,
   "metadata": {},
   "outputs": [],
   "source": [
    "client.shutdown()"
   ]
  },
  {
   "cell_type": "code",
   "execution_count": 22,
   "metadata": {},
   "outputs": [],
   "source": [
    "def get_totWeight(args):\n",
    "    fname = args[0]\n",
    "    f = uproot4.open(fname)\n",
    "    t = f[\"Runs\"]\n",
    "    return np.sum(t[\"genEventSumw\"].array())"
   ]
  },
  {
   "cell_type": "code",
   "execution_count": 33,
   "metadata": {},
   "outputs": [
    {
     "name": "stdout",
     "output_type": "stream",
     "text": [
      "start process DYJets\n",
      "start process ttbar\n",
      "start process ttG\n",
      "start process ttGG\n",
      "start process ZG\n",
      "start process WG\n",
      "start process GJets_HT40To100\n",
      "start process GJets_HT100To200\n",
      "start process GJets_HT200To400\n",
      "start process GJets_HT400To600\n",
      "start process GJets_HT600ToInf\n",
      "start process QCD_pT30To40\n",
      "start process QCD_pT40ToInf\n",
      "start process Diphoton\n",
      "start process VH\n",
      "start process signal\n"
     ]
    }
   ],
   "source": [
    "from dask.distributed import as_completed\n",
    "\n",
    "futures_w = {}\n",
    "results_w = {}\n",
    "\n",
    "for key in chunks:\n",
    "    if \"EGamma\" in key or \"DoubleEG\" in key: continue\n",
    "    print (\"start process {}\".format(key))\n",
    "    futures_w[key] = client.map(get_totWeight, chunks[key], retries=5)\n",
    "    \n",
    "    results_local = []\n",
    "    while len(results_local) < len(chunks[key]): \n",
    "        ac = as_completed(futures_w[key], with_results=True)\n",
    "        for future, result in ac:\n",
    "            results_local.append(result)\n",
    "            \n",
    "    results_w[key] = np.sum(np.array(results_local))"
   ]
  },
  {
   "cell_type": "code",
   "execution_count": 34,
   "metadata": {
    "scrolled": false
   },
   "outputs": [
    {
     "data": {
      "text/plain": [
       "{'DYJets': 17799598587.564648,\n",
       " 'ttbar': 292228710764.1156,\n",
       " 'ttG': 33778755.65431488,\n",
       " 'ttGG': 25147.44199621101,\n",
       " 'ZG': 4275148495.5808506,\n",
       " 'WG': 9350616834.534428,\n",
       " 'GJets_HT40To100': 7948819.204814303,\n",
       " 'GJets_HT100To200': 9795369.458845828,\n",
       " 'GJets_HT200To400': 17788245.78757894,\n",
       " 'GJets_HT400To600': 4650962.691182763,\n",
       " 'GJets_HT600ToInf': 4970069.563275842,\n",
       " 'QCD_pT30To40': 14597800.0,\n",
       " 'QCD_pT40ToInf': 18997403.0,\n",
       " 'Diphoton': 6074273.1,\n",
       " 'VH': 3800454.18850238,\n",
       " 'signal': 917906.0}"
      ]
     },
     "execution_count": 34,
     "metadata": {},
     "output_type": "execute_result"
    }
   ],
   "source": [
    "results_w"
   ]
  },
  {
   "cell_type": "code",
   "execution_count": 35,
   "metadata": {},
   "outputs": [],
   "source": [
    "filename_w = './metadata/totalWeights_'+year+'_'+skim_version+'.json'\n",
    "with open(filename_w, \"w\") as f:\n",
    "    json.dump(results_w, f, indent=4)"
   ]
  },
  {
   "cell_type": "markdown",
   "metadata": {},
   "source": [
    "## file chunks (NOTE: missing QCD & signal for 2018 !)"
   ]
  },
  {
   "cell_type": "code",
   "execution_count": 30,
   "metadata": {},
   "outputs": [
    {
     "name": "stdout",
     "output_type": "stream",
     "text": [
      "CPU times: user 106 ms, sys: 26.9 ms, total: 133 ms\n",
      "Wall time: 510 ms\n"
     ]
    }
   ],
   "source": [
    "%%time\n",
    "filepath     = '/hadoop/cms/store/user/legianni/ProjectMetis/'\n",
    "\n",
    "DY_files               =  ''\n",
    "ttbar_files            =  ''\n",
    "ttGG_files             =  ''\n",
    "ttG_files              =  ''\n",
    "ZG_files               =  ''\n",
    "WG_files               =  ''\n",
    "GJets_HT40To100_files  =  ''\n",
    "GJets_HT100To200_files =  ''\n",
    "GJets_HT200To400_files =  ''\n",
    "GJets_HT400To600_files =  ''\n",
    "GJets_HT600ToInf_files =  ''\n",
    "QCD_pT30To40_files     =  ''\n",
    "QCD_pT40ToInf_files    =  ''\n",
    "Diphoton_files         =  ''\n",
    "bkg_res_ZH             =  ''\n",
    "bkg_res_VH             =  ''\n",
    "sig_                   =  ''\n",
    "data_fileset           =  {}\n",
    "\n",
    "if year == '2018':\n",
    "    DY_files               =  filepath + \"DYJetsToLL_M-50_TuneCP5_13TeV-amcatnloFXFX-pythia8_18____\" + skim_version + \"/*root\"                 \n",
    "    ttbar_files            =  filepath + \"TTJets_TuneCP5_13TeV-amcatnloFXFX-pythia8_18____\" + skim_version + \"/*root\"\n",
    "    ttG_files              =  filepath + 'TTGJets_TuneCP5_13TeV-amcatnloFXFX-madspin-pythia8_18____' + skim_version + \"/*root\"\n",
    "    ttGG_files             =  filepath + 'TTGG_0Jets_TuneCP5_13TeV_amcatnlo_madspin_pythia8_18____' + skim_version + \"/*root\"\n",
    "    ZG_files               =  filepath + \"ZGToLLG_01J_5f_TuneCP5_13TeV-amcatnloFXFX-pythia8_18*____\" + skim_version + \"/*root\"                \n",
    "    WG_files               =  filepath + \"WGToLNuG_01J_5f_TuneCP5_13TeV-amcatnloFXFX-pythia8_18____\" + skim_version + \"/*root\"                         \n",
    "    GJets_HT40To100_files  =  filepath + \"GJets_HT-40To100_TuneCP5_13TeV-madgraphMLM-pythia8_18____\" + skim_version + \"/*root\"                 \n",
    "    GJets_HT100To200_files =  filepath + \"GJets_HT-100To200_TuneCP5_13TeV-madgraphMLM-pythia8_18____\" + skim_version + \"/*root\"                \n",
    "    GJets_HT200To400_files =  filepath + \"GJets_HT-200To400_TuneCP5_13TeV-madgraphMLM-pythia8_18____\" + skim_version + \"/*root\"                \n",
    "    GJets_HT400To600_files =  filepath + \"GJets_HT-400To600_TuneCP5_13TeV-madgraphMLM-pythia8_18____\" + skim_version + \"/*root\"                \n",
    "    GJets_HT600ToInf_files =  filepath + \"GJets_HT-600ToInf_TuneCP5_13TeV-madgraphMLM-pythia8_18____\" + skim_version + \"/*root\"                \n",
    "    #these 2 files seem 2017 rather than 2018\n",
    "    QCD_pT30To40_files     =  filepath + \"QCD_Pt-30to40_DoubleEMEnriched_MGG-80toInf_TuneCP5_13TeV_Pythia8_17____\" + skim_version + \"/*root\"   \n",
    "    QCD_pT40ToInf_files    =  filepath + \"QCD_Pt-40toInf_DoubleEMEnriched_MGG-80toInf_TuneCP5_13TeV_Pythia8_17____\" + skim_version + \"//*root\" \n",
    "    Diphoton_files         =  filepath + \"DiPhotonJetsBox_MGG-80toInf_13TeV-Sherpa_18____\" + skim_version + \"/*root\"                           \n",
    "    bkg_res_ZH             =  filepath + \"ggZH_HToGG_ZToLL_M125_TuneCP5_13TeV-powheg-pythia8_18____\" + skim_version + \"/*.root\"\n",
    "    bkg_res_VH             =  filepath + \"VHToGG_M125_13TeV_amcatnloFXFX_madspin_pythia8_18____\" + skim_version + \"/*.root\"\n",
    "    #using 2017 signal sample!!\n",
    "    sig_                   =  filepath + \"HHggtautau_Era2017____\" + skim_version + \"/*.root\"\n",
    "    data_fileset = {\n",
    "        \"EGamma_2018A\":glob.glob(filepath + \"EGamma_Run2018A____\" + skim_version + \"/*root\"),\n",
    "        \"EGamma_2018B\":glob.glob(filepath + \"EGamma_Run2018B____\" + skim_version + \"/*root\"),\n",
    "        \"EGamma_2018C\":glob.glob(filepath + \"EGamma_Run2018C____\" + skim_version + \"/*root\"),\n",
    "        \"EGamma_2018D\":glob.glob(filepath + \"EGamma_Run2018D____\" + skim_version + \"/*root\")\n",
    "    }\n",
    "    #remove corrupted files :( \n",
    "    #data_fileset['EGamma_2018D'].remove('/hadoop/cms/store/user/legianni/ProjectMetis/EGamma_Run2018D____v4/test_nanoaodSkim_367.root')\n",
    "\n",
    "elif year == '2017':\n",
    "    DY_files               =  filepath + \"DYJetsToLL_M-50_TuneCP5_13TeV-amcatnloFXFX-pythia8_17____\" + skim_version + \"/*root\"                 \n",
    "    ttbar_files            =  filepath + \"TTJets_TuneCP5_13TeV-amcatnloFXFX-pythia8_17____\" + skim_version + \"/*root\"                          \n",
    "    ttG_files              =  filepath + 'TTGJets_TuneCP5_13TeV-amcatnloFXFX-madspin-pythia8_17*____' + skim_version + \"/*root\"\n",
    "    ttGG_files             =  filepath + 'TTGG_0Jets_TuneCP5_13TeV_amcatnlo_madspin_pythia8_17____' + skim_version + \"/*root\"\n",
    "    ZG_files               =  filepath + \"ZGToLLG_01J_5f_TuneCP5_13TeV-amcatnloFXFX-pythia8_17____\" + skim_version + \"/*root\"                \n",
    "    WG_files               =  filepath + \"WGToLNuG_01J_5f_TuneCP5_13TeV-amcatnloFXFX-pythia8_17____\" + skim_version + \"/*root\"                         \n",
    "    GJets_HT40To100_files  =  filepath + \"GJets_HT-40To100_TuneCP5_13TeV-madgraphMLM-pythia8_17____\" + skim_version + \"/*root\"                 \n",
    "    GJets_HT100To200_files =  filepath + \"GJets_HT-100To200_TuneCP5_13TeV-madgraphMLM-pythia8_17____\" + skim_version + \"/*root\"                \n",
    "    GJets_HT200To400_files =  filepath + \"GJets_HT-200To400_TuneCP5_13TeV-madgraphMLM-pythia8_17____\" + skim_version + \"/*root\"                \n",
    "    GJets_HT400To600_files =  filepath + \"GJets_HT-400To600_TuneCP5_13TeV-madgraphMLM-pythia8_17____\" + skim_version + \"/*root\"                \n",
    "    GJets_HT600ToInf_files =  filepath + \"GJets_HT-600ToInf_TuneCP5_13TeV-madgraphMLM-pythia8_17____\" + skim_version + \"/*root\"                \n",
    "    QCD_pT30To40_files     =  filepath + \"QCD_Pt-30to40_DoubleEMEnriched_MGG-80toInf_TuneCP5_13TeV_Pythia8_17____\" + skim_version + \"/*root\"   \n",
    "    QCD_pT40ToInf_files    =  filepath + \"QCD_Pt-40toInf_DoubleEMEnriched_MGG-80toInf_TuneCP5_13TeV_Pythia8_17____\" + skim_version + \"//*root\" \n",
    "    Diphoton_files         =  filepath + \"DiPhotonJetsBox_MGG-80toInf_13TeV-Sherpa_17____\" + skim_version + \"/*root\"                           \n",
    "    bkg_res_ZH             =  filepath + \"ggZH_HToGG_ZToLL_M125_13TeV_powheg_pythia8_17____\" + skim_version + \"/*.root\"\n",
    "    bkg_res_VH             =  filepath + \"VHToGG_M125_13TeV_amcatnloFXFX_madspin_pythia8_17____\" + skim_version + \"/*.root\"\n",
    "    sig_                   =  filepath + \"HHggtautau_Era2017____\" + skim_version + \"/*root\"\n",
    "\n",
    "    data_fileset = {\n",
    "    \"DoubleEG_Run2017B\":glob.glob(filepath + \"DoubleEG_Run2017B____\" + skim_version + \"/*root\"),\n",
    "    \"DoubleEG_Run2017C\":glob.glob(filepath + \"DoubleEG_Run2017C____\" + skim_version + \"/*root\"),\n",
    "    \"DoubleEG_Run2017D\":glob.glob(filepath + \"DoubleEG_Run2017D____\" + skim_version + \"/*root\"),\n",
    "    \"DoubleEG_Run2017E\":glob.glob(filepath + \"DoubleEG_Run2017E____\" + skim_version + \"/*root\"),\n",
    "    \"DoubleEG_Run2017F\":glob.glob(filepath + \"DoubleEG_Run2017F____\" + skim_version + \"/*root\")\n",
    "    }\n",
    "\n",
    "elif year == '2016':\n",
    "    DY_files               =  filepath + \"DYJetsToLL_M-50_TuneCUETP8M1_13TeV-amcatnloFXFX-pythia8_16____\" + skim_version + \"/*root\"                 \n",
    "    ttbar_files            =  filepath + \"TTJets_TuneCUETP8M2T4_13TeV-amcatnloFXFX-pythia8_16____\" + skim_version + \"/*root\"                          \n",
    "    ttG_files              =  filepath + 'TTGJets_TuneCUETP8M1_13TeV-amcatnloFXFX-madspin-pythia8_16*____' + skim_version + \"/*root\"\n",
    "    ttGG_files             =  filepath + 'TTGG_0Jets_TuneCUETP8M1_13TeV_amcatnlo_madspin_pythia8_16____' + skim_version + \"/*root\"\n",
    "    ZG_files               =  filepath + \"ZGTo2LG_TuneCUETP8M1_13TeV-amcatnloFXFX-pythia8_16____\" + skim_version + \"/*root\"                \n",
    "    WG_files               =  filepath + \"WGToLNuG_TuneCUETP8M1_13TeV-amcatnloFXFX-pythia8_16*____\" + skim_version + \"/*root\"                         \n",
    "    GJets_HT40To100_files  =  filepath + \"GJets_HT-40To100_TuneCUETP8M1_13TeV-madgraphMLM-pythia8_16*____\" + skim_version + \"/*root\"                 \n",
    "    GJets_HT100To200_files =  filepath + \"GJets_HT-100To200_TuneCUETP8M1_13TeV-madgraphMLM-pythia8_16*____\" + skim_version + \"/*root\"                \n",
    "    GJets_HT200To400_files =  filepath + \"GJets_HT-200To400_TuneCUETP8M1_13TeV-madgraphMLM-pythia8_16*____\" + skim_version + \"/*root\"                \n",
    "    GJets_HT400To600_files =  filepath + \"GJets_HT-400To600_TuneCUETP8M1_13TeV-madgraphMLM-pythia8_16*____\" + skim_version + \"/*root\"                \n",
    "    GJets_HT600ToInf_files =  filepath + \"GJets_HT-600ToInf_TuneCUETP8M1_13TeV-madgraphMLM-pythia8_16*____\" + skim_version + \"/*root\"                \n",
    "    QCD_pT30To40_files     =  filepath + \"QCD_Pt-30to40_DoubleEMEnriched_MGG-80toInf_TuneCUETP8M1_13TeV_Pythia8_16____\" + skim_version + \"/*root\"   \n",
    "    QCD_pT40ToInf_files    =  filepath + \"QCD_Pt-40toInf_DoubleEMEnriched_MGG-80toInf_TuneCUETP8M1_13TeV_Pythia8_16____\" + skim_version + \"//*root\" \n",
    "    Diphoton_files         =  filepath + \"DiPhotonJetsBox_MGG-80toInf_13TeV-Sherpa_16____\" + skim_version + \"/*root\"                           \n",
    "    #bkg_res_ZH             =  ''           MISSING??  USE 2017\n",
    "    bkg_res_ZH             =  filepath + \"ggZH_HToGG_ZToLL_M125_13TeV_powheg_pythia8_17____\" + skim_version + \"/*.root\"\n",
    "    bkg_res_VH             =  filepath + \"VHToGG_M125_13TeV_amcatnloFXFX_madspin_pythia8_16____\" + skim_version + \"/*.root\"\n",
    "    sig_                   =  filepath + \"HHggtautau_Era2016____\" + skim_version + \"/*root\"\n",
    "\n",
    "    data_fileset = {\n",
    "    \"DoubleEG_Run2016B\"  :glob.glob(filepath + \"DoubleEG_Run2016B____\"   + skim_version + \"/*root\"),\n",
    "    \"DoubleEG_Run2016B-2\":glob.glob(filepath + \"DoubleEG_Run2016B-2____\" + skim_version + \"/*root\"),\n",
    "    \"DoubleEG_Run2016C\"  :glob.glob(filepath + \"DoubleEG_Run2016C____\"   + skim_version + \"/*root\"),\n",
    "    \"DoubleEG_Run2016D\"  :glob.glob(filepath + \"DoubleEG_Run2016D____\"   + skim_version + \"/*root\"),\n",
    "    \"DoubleEG_Run2016E\"  :glob.glob(filepath + \"DoubleEG_Run2016E____\"   + skim_version + \"/*root\"),\n",
    "    \"DoubleEG_Run2016F\"  :glob.glob(filepath + \"DoubleEG_Run2016F____\"   + skim_version + \"/*root\"),\n",
    "    \"DoubleEG_Run2016G\"  :glob.glob(filepath + \"DoubleEG_Run2016G____\"   + skim_version + \"/*root\"),\n",
    "    \"DoubleEG_Run2016H\"  :glob.glob(filepath + \"DoubleEG_Run2016H____\"   + skim_version + \"/*root\")\n",
    "    }\n",
    "else :\n",
    "    print ('year not recognised.')\n",
    "\n",
    "\n",
    "import glob\n",
    "background_fileset = {\n",
    "    \"DYJets\": glob.glob(DY_files),\n",
    "    \"ttbar\": glob.glob(ttbar_files),\n",
    "    \"ttG\": glob.glob(ttG_files),\n",
    "    \"ttGG\": glob.glob(ttGG_files),\n",
    "    \"ZG\": glob.glob(ZG_files),\n",
    "    \"WG\": glob.glob(WG_files),\n",
    "    \"GJets_HT40To100\": glob.glob(GJets_HT40To100_files),\n",
    "    \"GJets_HT100To200\": glob.glob(GJets_HT100To200_files),\n",
    "    \"GJets_HT200To400\": glob.glob(GJets_HT200To400_files),\n",
    "    \"GJets_HT400To600\": glob.glob(GJets_HT400To600_files),\n",
    "    \"GJets_HT600ToInf\": glob.glob(GJets_HT600ToInf_files),\n",
    "    \"QCD_pT30To40\": glob.glob(QCD_pT30To40_files),\n",
    "    \"QCD_pT40ToInf\": glob.glob(QCD_pT40ToInf_files),\n",
    "    \"Diphoton\": glob.glob(Diphoton_files)\n",
    "}\n",
    "\n",
    "background_res_fileset = {\n",
    "    #\"ZH\":glob.glob( bkg_res_ZH ),\n",
    "    \"VH\":glob.glob( bkg_res_VH ),\n",
    "} \n",
    "\n",
    "signal_fileset = {\n",
    "    \"signal\":glob.glob( sig_ ),\n",
    "}\n",
    "\n",
    "filesets = {\"data\": data_fileset,\n",
    "            \"background\": background_fileset,\n",
    "            \"background_res\": background_res_fileset,\n",
    "            \"signal\": signal_fileset}"
   ]
  },
  {
   "cell_type": "code",
   "execution_count": 31,
   "metadata": {},
   "outputs": [
    {
     "name": "stdout",
     "output_type": "stream",
     "text": [
      "EGamma_2018A: total 5330291 events, got 240 files, return 240 chunks\n",
      "EGamma_2018B: total 2930675 events, got 98 files, return 98 chunks\n",
      "EGamma_2018C: total 2741760 events, got 110 files, return 110 chunks\n",
      "EGamma_2018D: total 13290273 events, got 426 files, return 426 chunks\n",
      "DYJets: total 1038 events, got 1 files, return 1 chunks\n",
      "ttbar: total 218450 events, got 171 files, return 171 chunks\n",
      "ttG: total 100983 events, got 7 files, return 7 chunks\n",
      "ttGG: total 297085 events, got 3 files, return 3 chunks\n",
      "ZG: total 325140 events, got 40 files, return 40 chunks\n",
      "WG: total 118375 events, got 21 files, return 21 chunks\n",
      "GJets_HT40To100: total 18333 events, got 6 files, return 6 chunks\n",
      "GJets_HT100To200: total 41666 events, got 9 files, return 9 chunks\n",
      "GJets_HT200To400: total 135132 events, got 15 files, return 15 chunks\n",
      "GJets_HT400To600: total 36974 events, got 7 files, return 7 chunks\n",
      "GJets_HT600ToInf: total 37204 events, got 9 files, return 9 chunks\n",
      "QCD_pT30To40: total 5220 events, got 10 files, return 10 chunks\n",
      "QCD_pT40ToInf: total 40013 events, got 12 files, return 12 chunks\n",
      "Diphoton: total 1650607 events, got 16 files, return 16 chunks\n",
      "VH: total 148145 events, got 1 files, return 1 chunks\n",
      "signal: total 501948 events, got 23 files, return 23 chunks\n",
      "\n",
      "total events to be processed: 2.80e+07\n",
      "total chunks: 1225\n",
      "CPU times: user 41.2 s, sys: 11.2 s, total: 52.4 s\n",
      "Wall time: 2min 36s\n"
     ]
    }
   ],
   "source": [
    "%%time\n",
    "import utils\n",
    "\n",
    "chunk_size = 5e5\n",
    "chunks = {}\n",
    "tot_evts = 0\n",
    "tot_chunks = 0\n",
    "\n",
    "for cat in [\"data\", \"background\", \"background_res\", \"signal\"]:\n",
    "    fileset = filesets[cat]\n",
    "    for key in fileset:\n",
    "        fnames = fileset[key]\n",
    "        cks, evts = utils.get_chunking(tuple(fnames),chunk_size,treename=\"Events\")\n",
    "        chunks[key] = cks\n",
    "        tot_evts += evts\n",
    "        tot_chunks += len(cks)\n",
    "        print(\"{}: total {} events, got {} files, return {} chunks\".format(key, evts, len(fnames), len(cks))) \n",
    "print()\n",
    "#print(chunks.keys())\n",
    "print (\"total events to be processed: {0:8.2e}\".format(tot_evts) )\n",
    "print (\"total chunks: {}\".format(tot_chunks))"
   ]
  },
  {
   "cell_type": "code",
   "execution_count": 32,
   "metadata": {},
   "outputs": [],
   "source": [
    "filename_chunk = './metadata/chunklist_'+year+'_'+skim_version+'.json'\n",
    "with open(filename_chunk, \"w\") as f:\n",
    "    json.dump(chunks, f, indent=4)"
   ]
  },
  {
   "cell_type": "code",
   "execution_count": null,
   "metadata": {},
   "outputs": [],
   "source": []
  }
 ],
 "metadata": {
  "kernelspec": {
   "display_name": "Python 3",
   "language": "python",
   "name": "python3"
  },
  "language_info": {
   "codemirror_mode": {
    "name": "ipython",
    "version": 3
   },
   "file_extension": ".py",
   "mimetype": "text/x-python",
   "name": "python",
   "nbconvert_exporter": "python",
   "pygments_lexer": "ipython3",
   "version": "3.8.6"
  }
 },
 "nbformat": 4,
 "nbformat_minor": 4
}
