{
 "cells": [
  {
   "cell_type": "code",
   "execution_count": 1,
   "metadata": {
    "scrolled": true
   },
   "outputs": [
    {
     "name": "stderr",
     "output_type": "stream",
     "text": [
      "/home/users/bsathian/miniconda3/envs/analysisenv/lib/python3.7/site-packages/uproot3/__init__.py:138: FutureWarning: Consider switching from 'uproot3' to 'uproot', since the new interface became the default in 2020.\n",
      "\n",
      "    pip install -U uproot\n",
      "\n",
      "In Python:\n",
      "\n",
      "    >>> import uproot\n",
      "    >>> with uproot.open(...) as file:\n",
      "    ...\n",
      "\n",
      "  FutureWarning\n",
      "/home/users/bsathian/miniconda3/envs/analysisenv/lib/python3.7/site-packages/awkward0/__init__.py:23: FutureWarning: Consider switching from 'awkward0' to 'awkward', since the new interface became the default in 2020.\n",
      "\n",
      "    pip install -U awkward\n",
      "\n",
      "In Python:\n",
      "\n",
      "    >>> import awkward as ak\n",
      "    >>> new_style_array = ak.from_awkward0(old_style_array)\n",
      "    >>> old_style_array = ak.to_awkward0(new_style_array)\n",
      "\n",
      "  FutureWarning\n"
     ]
    }
   ],
   "source": [
    "%matplotlib inline\n",
    "import pandas as pd\n",
    "import uproot\n",
    "import matplotlib.pyplot as plt\n",
    "import numpy as np\n",
    "import glob\n",
    "import uproot4\n",
    "\n",
    "from dask.distributed import Client, LocalCluster\n",
    "from yahist import Hist1D, Hist2D\n",
    "\n",
    "from condor_utils import make_htcondor_cluster\n",
    "from utils import get_results, clear_tree_cache, plot_timeflow"
   ]
  },
  {
   "cell_type": "markdown",
   "metadata": {},
   "source": [
    "## Skim Parameters"
   ]
  },
  {
   "cell_type": "code",
   "execution_count": 16,
   "metadata": {},
   "outputs": [],
   "source": [
    "year         = '2017'\n",
    "skim_version = 'v4'  #currently available x3 or v4"
   ]
  },
  {
   "cell_type": "markdown",
   "metadata": {},
   "source": [
    "## cross section"
   ]
  },
  {
   "cell_type": "code",
   "execution_count": 17,
   "metadata": {},
   "outputs": [
    {
     "data": {
      "text/plain": [
       "{'DYJets': 5941.0,\n",
       " 'ttbar': 831.76,\n",
       " 'ZG': 55.6,\n",
       " 'WG': 191.4,\n",
       " 'GJets_HT40To100': 23100.0,\n",
       " 'GJets_HT100To200': 8631.0,\n",
       " 'GJets_HT200To400': 2280.0,\n",
       " 'GJets_HT400To600': 273.0,\n",
       " 'GJets_HT600ToInf': 94.5,\n",
       " 'QCD_pT30To40': 24810.0,\n",
       " 'QCD_pT40ToInf': 113400.0,\n",
       " 'Diphoton': 84.4,\n",
       " 'ZH': 0.002006453,\n",
       " 'VH': 0.002257,\n",
       " 'signal': 0.0098}"
      ]
     },
     "execution_count": 17,
     "metadata": {},
     "output_type": "execute_result"
    }
   ],
   "source": [
    "xs = {\n",
    "    \"DYJets\": 5941.0,\n",
    "    \"ttbar\": 831.76, \n",
    "    \"ZG\": 55.6, \n",
    "    \"WG\": 191.4,\n",
    "    \"GJets_HT40To100\": 23100.0, \n",
    "    \"GJets_HT100To200\": 8631.0,\n",
    "    \"GJets_HT200To400\": 2280.0,\n",
    "    \"GJets_HT400To600\": 273.0,\n",
    "    \"GJets_HT600ToInf\": 94.5,\n",
    "    \"QCD_pT30To40\": 24810.0,\n",
    "    \"QCD_pT40ToInf\": 113400.0,\n",
    "    \"Diphoton\": 84.4,\n",
    "    \"ZH\": 0.002006453, #https://github.com/cms-analysis/flashgg/blob/dev_legacy_runII/MetaData/data/cross_sections.json\n",
    "    \"VH\": 0.002257, #https://github.com/cms-analysis/flashgg/blob/dev_legacy_runII/MetaData/data/cross_sections.json\n",
    "    \"signal\": 0.0098 #fb, all bkg are in pb\n",
    "} \n",
    "xs"
   ]
  },
  {
   "cell_type": "code",
   "execution_count": 18,
   "metadata": {},
   "outputs": [],
   "source": [
    "import json\n",
    "filename = './metadata/xsection_'+year+'_'+skim_version+'.json'\n",
    "with open(filename, \"w\") as f:\n",
    "    json.dump(xs, f, indent=4)"
   ]
  },
  {
   "cell_type": "markdown",
   "metadata": {},
   "source": [
    "## total weight"
   ]
  },
  {
   "cell_type": "code",
   "execution_count": null,
   "metadata": {},
   "outputs": [],
   "source": [
    "#from dask.distributed import Client\n",
    "#client = Client('tcp://169.228.130.5:18875')\n",
    "#client"
   ]
  },
  {
   "cell_type": "code",
   "execution_count": 5,
   "metadata": {},
   "outputs": [
    {
     "name": "stderr",
     "output_type": "stream",
     "text": [
      "/home/users/bsathian/miniconda3/envs/analysisenv/lib/python3.7/site-packages/distributed/node.py:155: UserWarning: Port 8787 is already in use.\n",
      "Perhaps you already have a cluster running?\n",
      "Hosting the HTTP server on port 17249 instead\n",
      "  http_address[\"port\"], self.http_server.port\n"
     ]
    },
    {
     "data": {
      "text/html": [
       "<table style=\"border: 2px solid white;\">\n",
       "<tr>\n",
       "<td style=\"vertical-align: top; border: 0px solid white\">\n",
       "<h3 style=\"text-align: left;\">Client</h3>\n",
       "<ul style=\"text-align: left; list-style: none; margin: 0; padding: 0;\">\n",
       "  <li><b>Scheduler: </b>tcp://127.0.0.1:29354</li>\n",
       "  <li><b>Dashboard: </b><a href='http://127.0.0.1:17249/status' target='_blank'>http://127.0.0.1:17249/status</a></li>\n",
       "</ul>\n",
       "</td>\n",
       "<td style=\"vertical-align: top; border: 0px solid white\">\n",
       "<h3 style=\"text-align: left;\">Cluster</h3>\n",
       "<ul style=\"text-align: left; list-style:none; margin: 0; padding: 0;\">\n",
       "  <li><b>Workers: </b>16</li>\n",
       "  <li><b>Cores: </b>16</li>\n",
       "  <li><b>Memory: </b>64.00 GB</li>\n",
       "</ul>\n",
       "</td>\n",
       "</tr>\n",
       "</table>"
      ],
      "text/plain": [
       "<Client: 'tcp://127.0.0.1:29354' processes=16 threads=16, memory=64.00 GB>"
      ]
     },
     "execution_count": 5,
     "metadata": {},
     "output_type": "execute_result"
    }
   ],
   "source": [
    "#local dask client running on the UAFs\n",
    "from dask.distributed import Client\n",
    "client = Client(memory_limit='4GB', n_workers=16, threads_per_worker=1)\n",
    "client"
   ]
  },
  {
   "cell_type": "code",
   "execution_count": null,
   "metadata": {},
   "outputs": [],
   "source": []
  },
  {
   "cell_type": "code",
   "execution_count": 6,
   "metadata": {},
   "outputs": [],
   "source": [
    "def get_totWeight(args):\n",
    "    fname = args[0]\n",
    "    f = uproot4.open(fname)\n",
    "    t = f[\"Runs\"]\n",
    "    return np.sum(t[\"genEventSumw\"].array())"
   ]
  },
  {
   "cell_type": "markdown",
   "metadata": {},
   "source": [
    "## file chunks (NOTE: missing QCD for 2018 and other processes!)"
   ]
  },
  {
   "cell_type": "code",
   "execution_count": 7,
   "metadata": {},
   "outputs": [
    {
     "name": "stdout",
     "output_type": "stream",
     "text": [
      "CPU times: user 14.8 ms, sys: 2.65 ms, total: 17.4 ms\n",
      "Wall time: 122 ms\n"
     ]
    }
   ],
   "source": [
    "%%time\n",
    "filepath     = '/hadoop/cms/store/user/legianni/ProjectMetis/'\n",
    "\n",
    "DY_files               =  ''\n",
    "ttbar_files            =  ''\n",
    "ZG_files               =  ''\n",
    "WG_files               =  ''\n",
    "GJets_HT40To100_files  =  ''\n",
    "GJets_HT100To200_files =  ''\n",
    "GJets_HT200To400_files =  ''\n",
    "GJets_HT400To600_files =  ''\n",
    "GJets_HT600ToInf_files =  ''\n",
    "QCD_pT30To40_files     =  ''\n",
    "QCD_pT40ToInf_files    =  ''\n",
    "Diphoton_files         =  ''\n",
    "bkg_res_ZH             =  ''\n",
    "bkg_res_VH             =  ''\n",
    "sig_                   =  ''\n",
    "data_fileset           =  {}\n",
    "\n",
    "if year == '2018':\n",
    "    DY_files               =  filepath + \"DYJetsToLL_M-50_TuneCP5_13TeV-amcatnloFXFX-pythia8_18____\" + skim_version + \"/*root\"                 \n",
    "    ttbar_files            =  filepath + \"TTJets_TuneCP5_13TeV-amcatnloFXFX-pythia8_18____\" + skim_version + \"/*root\"                          \n",
    "    ZG_files               =  filepath + \"ZGToLLG_01J_5f_TuneCP5_13TeV-amcatnloFXFX-pythia8_18_3____\" + skim_version + \"/*root\"                \n",
    "    WG_files               =  filepath + \"WGToLNuG_TuneCP5_13TeV-madgraphMLM-pythia8_18____\" + skim_version + \"/*root\"                         \n",
    "    GJets_HT40To100_files  =  filepath + \"GJets_HT-40To100_TuneCP5_13TeV-madgraphMLM-pythia8_18____\" + skim_version + \"/*root\"                 \n",
    "    GJets_HT100To200_files =  filepath + \"GJets_HT-100To200_TuneCP5_13TeV-madgraphMLM-pythia8_18____\" + skim_version + \"/*root\"                \n",
    "    GJets_HT200To400_files =  filepath + \"GJets_HT-200To400_TuneCP5_13TeV-madgraphMLM-pythia8_18____\" + skim_version + \"/*root\"                \n",
    "    GJets_HT400To600_files =  filepath + \"GJets_HT-400To600_TuneCP5_13TeV-madgraphMLM-pythia8_18____\" + skim_version + \"/*root\"                \n",
    "    GJets_HT600ToInf_files =  filepath + \"GJets_HT-600ToInf_TuneCP5_13TeV-madgraphMLM-pythia8_18____\" + skim_version + \"/*root\"                \n",
    "    #these 2 files seem 2017 rather than 2018\n",
    "    QCD_pT30To40_files     =  filepath + \"QCD_Pt-30to40_DoubleEMEnriched_MGG-80toInf_TuneCP5_13TeV_Pythia8_17____\" + skim_version + \"/*root\"   \n",
    "    QCD_pT40ToInf_files    =  filepath + \"QCD_Pt-40toInf_DoubleEMEnriched_MGG-80toInf_TuneCP5_13TeV_Pythia8_17____\" + skim_version + \"//*root\" \n",
    "    Diphoton_files         =  filepath + \"DiPhotonJetsBox_MGG-80toInf_13TeV-Sherpa_18____\" + skim_version + \"/*root\"                           \n",
    "    bkg_res_ZH             =  filepath + \"ggZH_HToGG_ZToLL_M125_TuneCP5_13TeV-powheg-pythia8_18____\" + skim_version + \"/*.root\"\n",
    "    bkg_res_VH             =  filepath + \"VHToGG_M125_13TeV_amcatnloFXFX_madspin_pythia8_18____\" + skim_version + \"/*.root\"\n",
    "    sig_                   =  filepath + \"HHggtautau_Era2018_private_prova_vera/*.root\"\n",
    "    data_fileset = {\n",
    "        \"EGamma_2018A\":glob.glob(filepath + \"EGamma_Run2018A____\" + skim_version + \"/*root\"),\n",
    "        \"EGamma_2018B\":glob.glob(filepath + \"EGamma_Run2018B____\" + skim_version + \"/*root\"),\n",
    "        \"EGamma_2018C\":glob.glob(filepath + \"EGamma_Run2018C____\" + skim_version + \"/*root\"),\n",
    "        \"EGamma_2018D\":glob.glob(filepath + \"EGamma_Run2018D____\" + skim_version + \"/*root\")\n",
    "    }\n",
    "\n",
    "elif year == '2017':\n",
    "    DY_files               =  filepath + \"DYJetsToLL_M-50_TuneCP5_13TeV-amcatnloFXFX-pythia8_17____\" + skim_version + \"/*root\"                 \n",
    "    ttbar_files            =  filepath + \"TTJets_TuneCP5_13TeV-amcatnloFXFX-pythia8_17____\" + skim_version + \"/*root\"                          \n",
    "    ZG_files               =  filepath + \"ZGToLLG_01J_5f_TuneCP5_13TeV-amcatnloFXFX-pythia8_17____\" + skim_version + \"/*root\"                \n",
    "    WG_files               =  filepath + \"WGToLNuG_TuneCP5_13TeV-madgraphMLM-pythia8_17____\" + skim_version + \"/*root\"                         \n",
    "    GJets_HT40To100_files  =  filepath + \"GJets_HT-40To100_TuneCP5_13TeV-madgraphMLM-pythia8_17____\" + skim_version + \"/*root\"                 \n",
    "    GJets_HT100To200_files =  filepath + \"GJets_HT-100To200_TuneCP5_13TeV-madgraphMLM-pythia8_17____\" + skim_version + \"/*root\"                \n",
    "    GJets_HT200To400_files =  filepath + \"GJets_HT-200To400_TuneCP5_13TeV-madgraphMLM-pythia8_17____\" + skim_version + \"/*root\"                \n",
    "    GJets_HT400To600_files =  filepath + \"GJets_HT-400To600_TuneCP5_13TeV-madgraphMLM-pythia8_17____\" + skim_version + \"/*root\"                \n",
    "    GJets_HT600ToInf_files =  filepath + \"GJets_HT-600ToInf_TuneCP5_13TeV-madgraphMLM-pythia8_17____\" + skim_version + \"/*root\"                \n",
    "    QCD_pT30To40_files     =  filepath + \"QCD_Pt-30to40_DoubleEMEnriched_MGG-80toInf_TuneCP5_13TeV_Pythia8_17____\" + skim_version + \"/*root\"   \n",
    "    QCD_pT40ToInf_files    =  filepath + \"QCD_Pt-40toInf_DoubleEMEnriched_MGG-80toInf_TuneCP5_13TeV_Pythia8_17____\" + skim_version + \"//*root\" \n",
    "    Diphoton_files         =  filepath + \"DiPhotonJetsBox_MGG-80toInf_13TeV-Sherpa_17____\" + skim_version + \"/*root\"                           \n",
    "    bkg_res_ZH             =  filepath + \"ggZH_HToGG_ZToLL_M125_13TeV_powheg_pythia8_17____\" + skim_version + \"/*.root\"\n",
    "    bkg_res_VH             =  filepath + \"VHToGG_M125_13TeV_amcatnloFXFX_madspin_pythia8_17____\" + skim_version + \"/*.root\"\n",
    "    sig_                   =  filepath + \"HHggtautau_Era2017____\" + skim_version + \"/*root\"\n",
    "\n",
    "    data_fileset = {\n",
    "    \"DoubleEG_Run2017B\":glob.glob(filepath + \"DoubleEG_Run2017B____\" + skim_version + \"/*root\"),\n",
    "    \"DoubleEG_Run2017C\":glob.glob(filepath + \"DoubleEG_Run2017C____\" + skim_version + \"/*root\"),\n",
    "    \"DoubleEG_Run2017D\":glob.glob(filepath + \"DoubleEG_Run2017D____\" + skim_version + \"/*root\"),\n",
    "    \"DoubleEG_Run2017E\":glob.glob(filepath + \"DoubleEG_Run2017E____\" + skim_version + \"/*root\"),\n",
    "    \"DoubleEG_Run2017F\":glob.glob(filepath + \"DoubleEG_Run2017F____\" + skim_version + \"/*root\")\n",
    "    }\n",
    "\n",
    "elif year == '2016':\n",
    "    DY_files               =  filepath + \"DYJetsToLL_M-10to50_TuneCUETP8M1_13TeV-amcatnloFXFX-pythia8_16____\" + skim_version + \"/*root\"                 \n",
    "    ttbar_files            =  filepath + \"TTJets_TuneCUETP8M2T4_13TeV-amcatnloFXFX-pythia8_16____\" + skim_version + \"/*root\"                          \n",
    "    ZG_files               =  filepath + \"ZGTo2LG_TuneCUETP8M1_13TeV-amcatnloFXFX-pythia8_16____\" + skim_version + \"/*root\"                \n",
    "    WG_files               =  filepath + \"WGToLNuG_TuneCUETP8M1_13TeV-madgraphMLM-pythia8_16____\" + skim_version + \"/*root\"                         \n",
    "    GJets_HT40To100_files  =  filepath + \"GJets_HT-40To100_TuneCUETP8M1_13TeV-madgraphMLM-pythia8_16_2____\" + skim_version + \"/*root\"                 \n",
    "    GJets_HT100To200_files =  filepath + \"GJets_HT-100To200_TuneCUETP8M1_13TeV-madgraphMLM-pythia8_16_2____\" + skim_version + \"/*root\"                \n",
    "    GJets_HT200To400_files =  filepath + \"GJets_HT-200To400_TuneCUETP8M1_13TeV-madgraphMLM-pythia8_16_2____\" + skim_version + \"/*root\"                \n",
    "    GJets_HT400To600_files =  filepath + \"GJets_HT-400To600_TuneCUETP8M1_13TeV-madgraphMLM-pythia8_16____\" + skim_version + \"/*root\"                \n",
    "    GJets_HT600ToInf_files =  filepath + \"GJets_HT-600ToInf_TuneCUETP8M1_13TeV-madgraphMLM-pythia8_16____\" + skim_version + \"/*root\"                \n",
    "    QCD_pT30To40_files     =  filepath + \"QCD_Pt-30to40_DoubleEMEnriched_MGG-80toInf_TuneCUETP8M1_13TeV_Pythia8_16____\" + skim_version + \"/*root\"   \n",
    "    QCD_pT40ToInf_files    =  filepath + \"QCD_Pt-40toInf_DoubleEMEnriched_MGG-80toInf_TuneCUETP8M1_13TeV_Pythia8_16____\" + skim_version + \"//*root\" \n",
    "    Diphoton_files         =  filepath + \"DiPhotonJetsBox_MGG-80toInf_13TeV-Sherpa_16____\" + skim_version + \"/*root\"                           \n",
    "    #bkg_res_ZH             =  ''           MISSING??  USE 2017\n",
    "    bkg_res_ZH             =  filepath + \"ggZH_HToGG_ZToLL_M125_13TeV_powheg_pythia8_17____\" + skim_version + \"/*.root\"\n",
    "    bkg_res_VH             =  filepath + \"VHToGG_M125_13TeV_amcatnloFXFX_madspin_pythia8_16____\" + skim_version + \"/*.root\"\n",
    "    #sig_                   =  ''           MISSING??  USE 2017\n",
    "    sig_                   =  filepath + \"HHggtautau_Era2017____\" + skim_version + \"/*root\"\n",
    "\n",
    "    data_fileset = {\n",
    "    \"DoubleEG_Run2016B\":glob.glob(filepath + \"DoubleEG_Run2016B-2____\" + skim_version + \"/*root\"),\n",
    "    \"DoubleEG_Run2016C\":glob.glob(filepath + \"DoubleEG_Run2016C____\" + skim_version + \"/*root\"),\n",
    "    \"DoubleEG_Run2016D\":glob.glob(filepath + \"DoubleEG_Run2016D____\" + skim_version + \"/*root\"),\n",
    "    \"DoubleEG_Run2016E\":glob.glob(filepath + \"DoubleEG_Run2016E____\" + skim_version + \"/*root\"),\n",
    "    \"DoubleEG_Run2016F\":glob.glob(filepath + \"DoubleEG_Run2016F____\" + skim_version + \"/*root\")\n",
    "    }\n",
    "else :\n",
    "    print ('year not recognised.')\n",
    "\n",
    "\n",
    "import glob\n",
    "background_fileset = {\n",
    "    \"DYJets\": glob.glob(DY_files),\n",
    "    \"ttbar\": glob.glob(ttbar_files),\n",
    "    \"ZG\": glob.glob(ZG_files),\n",
    "    \"WG\": glob.glob(WG_files),\n",
    "    \"GJets_HT40To100\": glob.glob(GJets_HT40To100_files),\n",
    "    \"GJets_HT100To200\": glob.glob(GJets_HT100To200_files),\n",
    "    \"GJets_HT200To400\": glob.glob(GJets_HT200To400_files),\n",
    "    \"GJets_HT400To600\": glob.glob(GJets_HT400To600_files),\n",
    "    \"GJets_HT600ToInf\": glob.glob(GJets_HT600ToInf_files),\n",
    "    \"QCD_pT30To40\": glob.glob(QCD_pT30To40_files),\n",
    "    \"QCD_pT40ToInf\": glob.glob(QCD_pT40ToInf_files),\n",
    "    \"Diphoton\": glob.glob(Diphoton_files)\n",
    "}\n",
    "\n",
    "background_res_fileset = {\n",
    "    \"ZH\":glob.glob( bkg_res_ZH ),\n",
    "    \"VH\":glob.glob( bkg_res_VH ),\n",
    "} \n",
    "\n",
    "signal_fileset = {\n",
    "    \"signal\":glob.glob( sig_ ),\n",
    "}\n",
    "\n",
    "filesets = {\"data\": data_fileset,\n",
    "            \"background\": background_fileset,\n",
    "            \"background_res\": background_res_fileset,\n",
    "            \"signal\": signal_fileset}"
   ]
  },
  {
   "cell_type": "code",
   "execution_count": 8,
   "metadata": {},
   "outputs": [
    {
     "name": "stdout",
     "output_type": "stream",
     "text": [
      "DoubleEG_Run2016B: total 2057609 events, got 47 files, return 47 chunks\n",
      "DoubleEG_Run2016C: total 943210 events, got 22 files, return 22 chunks\n",
      "DoubleEG_Run2016D: total 1475151 events, got 24 files, return 24 chunks\n",
      "DoubleEG_Run2016E: total 1449865 events, got 19 files, return 19 chunks\n",
      "DoubleEG_Run2016F: total 1049420 events, got 16 files, return 16 chunks\n",
      "DYJets: total 745 events, got 25 files, return 25 chunks\n",
      "ttbar: total 21935 events, got 9 files, return 9 chunks\n",
      "ZG: total 96156 events, got 5 files, return 5 chunks\n",
      "WG: total 10387 events, got 3 files, return 3 chunks\n",
      "GJets_HT40To100: total 8886 events, got 3 files, return 3 chunks\n",
      "GJets_HT100To200: total 17120 events, got 2 files, return 2 chunks\n",
      "GJets_HT200To400: total 68525 events, got 5 files, return 5 chunks\n",
      "GJets_HT400To600: total 18748 events, got 2 files, return 2 chunks\n",
      "GJets_HT600ToInf: total 17921 events, got 2 files, return 2 chunks\n",
      "QCD_pT30To40: total 5342 events, got 7 files, return 7 chunks\n",
      "QCD_pT40ToInf: total 17391 events, got 6 files, return 6 chunks\n",
      "Diphoton: total 6807277 events, got 23 files, return 23 chunks\n",
      "ZH: total 163087 events, got 2 files, return 2 chunks\n",
      "VH: total 79845 events, got 1 files, return 1 chunks\n",
      "signal: total 501948 events, got 23 files, return 23 chunks\n",
      "\n",
      "total events to be processed: 1.48e+07\n",
      "total chunks: 246\n",
      "CPU times: user 6.84 s, sys: 1.09 s, total: 7.94 s\n",
      "Wall time: 9.85 s\n"
     ]
    }
   ],
   "source": [
    "%%time\n",
    "import utils\n",
    "\n",
    "chunk_size = 5e5\n",
    "chunks = {}\n",
    "tot_evts = 0\n",
    "tot_chunks = 0\n",
    "\n",
    "for cat in [\"data\", \"background\", \"background_res\", \"signal\"]:\n",
    "    fileset = filesets[cat]\n",
    "    for key in fileset:\n",
    "        fnames = fileset[key]\n",
    "        cks, evts = utils.get_chunking(tuple(fnames),chunk_size,treename=\"Events\")\n",
    "        chunks[key] = cks\n",
    "        tot_evts += evts\n",
    "        tot_chunks += len(cks)\n",
    "        print(\"{}: total {} events, got {} files, return {} chunks\".format(key, evts, len(fnames), len(cks))) \n",
    "print()\n",
    "#print(chunks.keys())\n",
    "print (\"total events to be processed: {0:8.2e}\".format(tot_evts) )\n",
    "print (\"total chunks: {}\".format(tot_chunks))"
   ]
  },
  {
   "cell_type": "code",
   "execution_count": 9,
   "metadata": {},
   "outputs": [],
   "source": [
    "filename_chunk = './metadata/chunklist_'+year+'_'+skim_version+'.json'\n",
    "with open(filename_chunk, \"w\") as f:\n",
    "    json.dump(chunks, f, indent=4)"
   ]
  },
  {
   "cell_type": "code",
   "execution_count": 10,
   "metadata": {},
   "outputs": [
    {
     "name": "stdout",
     "output_type": "stream",
     "text": [
      "start process DYJets\n",
      "start process ttbar\n",
      "start process ZG\n",
      "start process WG\n",
      "start process GJets_HT40To100\n",
      "start process GJets_HT100To200\n",
      "start process GJets_HT200To400\n",
      "start process GJets_HT400To600\n",
      "start process GJets_HT600ToInf\n",
      "start process QCD_pT30To40\n",
      "start process QCD_pT40ToInf\n",
      "start process Diphoton\n",
      "start process ZH\n",
      "start process VH\n",
      "start process signal\n"
     ]
    }
   ],
   "source": [
    "from dask.distributed import as_completed\n",
    "\n",
    "futures_w = {}\n",
    "results_w = {}\n",
    "\n",
    "for key in chunks:\n",
    "    if \"EGamma\" in key or \"DoubleEG\" in key: continue\n",
    "    print (\"start process {}\".format(key))\n",
    "    futures_w[key] = client.map(get_totWeight, chunks[key], retries=5)\n",
    "    \n",
    "    results_local = []\n",
    "    while len(results_local) < len(chunks[key]): \n",
    "        ac = as_completed(futures_w[key], with_results=True)\n",
    "        for future, result in ac:\n",
    "            results_local.append(result)\n",
    "            \n",
    "    results_w[key] = np.sum(np.array(results_local))"
   ]
  },
  {
   "cell_type": "code",
   "execution_count": 11,
   "metadata": {},
   "outputs": [
    {
     "data": {
      "text/plain": [
       "{'DYJets': 2050236733020.589,\n",
       " 'ttbar': 50185035551.38839,\n",
       " 'ZG': 3213875682.239999,\n",
       " 'WG': 6103817.0,\n",
       " 'GJets_HT40To100': 4858154.0,\n",
       " 'GJets_HT100To200': 4972282.0,\n",
       " 'GJets_HT200To400': 10404907.0,\n",
       " 'GJets_HT400To600': 2529729.0,\n",
       " 'GJets_HT600ToInf': 2463946.0,\n",
       " 'QCD_pT30To40': 17881707.540976815,\n",
       " 'QCD_pT40ToInf': 12971481.0,\n",
       " 'Diphoton': 27856298.400000002,\n",
       " 'ZH': 1855.5990000000006,\n",
       " 'VH': 1862202.4355189996,\n",
       " 'signal': 917906.0}"
      ]
     },
     "execution_count": 11,
     "metadata": {},
     "output_type": "execute_result"
    }
   ],
   "source": [
    "results_w"
   ]
  },
  {
   "cell_type": "code",
   "execution_count": 13,
   "metadata": {},
   "outputs": [
    {
     "data": {
      "text/plain": [
       "{'DYJets': 2050236733020.589,\n",
       " 'ttbar': 50185035551.38839,\n",
       " 'ZG': 3213875682.239999,\n",
       " 'WG': 6103817.0,\n",
       " 'GJets_HT40To100': 4858154.0,\n",
       " 'GJets_HT100To200': 4972282.0,\n",
       " 'GJets_HT200To400': 10404907.0,\n",
       " 'GJets_HT400To600': 2529729.0,\n",
       " 'GJets_HT600ToInf': 2463946.0,\n",
       " 'QCD_pT30To40': 17881707.540976815,\n",
       " 'QCD_pT40ToInf': 12971481.0,\n",
       " 'Diphoton': 27856298.400000002,\n",
       " 'ZH': 1855.5990000000006,\n",
       " 'VH': 1862202.4355189996,\n",
       " 'signal': 917906.0}"
      ]
     },
     "execution_count": 13,
     "metadata": {},
     "output_type": "execute_result"
    }
   ],
   "source": [
    "results_w"
   ]
  },
  {
   "cell_type": "code",
   "execution_count": 12,
   "metadata": {},
   "outputs": [],
   "source": [
    "filename_w = './metadata/totalWeights_'+year+'_'+skim_version+'.json'\n",
    "with open(filename_w, \"w\") as f:\n",
    "    json.dump(results_w, f, indent=4)"
   ]
  },
  {
   "cell_type": "code",
   "execution_count": null,
   "metadata": {},
   "outputs": [],
   "source": [
    "#2017 v4\n",
    "results_w = {'DYJets': 3023385135017.175,\n",
    " 'ttbar': 297880706283.4699,\n",
    " 'ZG': 3303364320.6753006,\n",
    " 'WG': 6282853.0,\n",
    " 'GJets_HT40To100': 5570696.0,\n",
    " 'GJets_HT100To200': 9957110.0,\n",
    " 'GJets_HT200To400': 18524305.0,\n",
    " 'GJets_HT400To600': 4640128.0,\n",
    " 'GJets_HT600ToInf': 3278039.0,\n",
    " 'QCD_pT30To40': 14597800.0,\n",
    " 'QCD_pT40ToInf': 18997403.0,\n",
    " 'Diphoton': 21370895.19999999,\n",
    " 'ZH': 1855.5990000000006,\n",
    " 'VH': 4100171.4112320007,\n",
    " 'signal': 917906.0}"
   ]
  },
  {
   "cell_type": "code",
   "execution_count": null,
   "metadata": {},
   "outputs": [],
   "source": [
    "#2018\n",
    "results_w = {\n",
    " 'DYJets': 17799598587.564648,\n",
    " 'ttbar': 284532045536.7458,\n",
    " 'ZG': 1514115614.2427294,\n",
    " 'WG': 6107452.571461948,\n",
    " 'GJets_HT40To100': 9370096.751511302,\n",
    " 'GJets_HT100To200': 9795369.458845828,\n",
    " 'GJets_HT200To400': 19051574.496664558,\n",
    " 'GJets_HT400To600': 4650962.691182764,\n",
    " 'GJets_HT600ToInf': 4970069.563275842,\n",
    " 'QCD_pT30To40': 14526026.0,\n",
    " 'QCD_pT40ToInf': 20622034.0,\n",
    " 'Diphoton': 6423331.3,\n",
    " 'ZH': 1740.8696149528298,\n",
    " 'signal': 997898.0\n",
    " }"
   ]
  },
  {
   "cell_type": "code",
   "execution_count": 15,
   "metadata": {},
   "outputs": [],
   "source": [
    "#2016\n",
    "results_w = {\n",
    "    'DYJets': 2050236733020.589,\n",
    " 'ttbar': 50185035551.38839,\n",
    " 'ZG': 3213875682.239999,\n",
    " 'WG': 6103817.0,\n",
    " 'GJets_HT40To100': 4858154.0,\n",
    " 'GJets_HT100To200': 4972282.0,\n",
    " 'GJets_HT200To400': 10404907.0,\n",
    " 'GJets_HT400To600': 2529729.0,\n",
    " 'GJets_HT600ToInf': 2463946.0,\n",
    " 'QCD_pT30To40': 17881707.540976815,\n",
    " 'QCD_pT40ToInf': 12971481.0,\n",
    " 'Diphoton': 27856298.400000002,\n",
    " 'ZH': 1855.5990000000006,\n",
    " 'VH': 1862202.4355189996,\n",
    " 'signal': 917906.0}"
   ]
  },
  {
   "cell_type": "code",
   "execution_count": null,
   "metadata": {},
   "outputs": [],
   "source": []
  }
 ],
 "metadata": {
  "kernelspec": {
   "display_name": "Python 3",
   "language": "python",
   "name": "python3"
  },
  "language_info": {
   "codemirror_mode": {
    "name": "ipython",
    "version": 3
   },
   "file_extension": ".py",
   "mimetype": "text/x-python",
   "name": "python",
   "nbconvert_exporter": "python",
   "pygments_lexer": "ipython3",
   "version": "3.7.8"
  }
 },
 "nbformat": 4,
 "nbformat_minor": 4
}
