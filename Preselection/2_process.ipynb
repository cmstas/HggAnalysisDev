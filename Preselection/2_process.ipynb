{
 "cells": [
  {
   "cell_type": "code",
   "execution_count": 1,
   "metadata": {
    "scrolled": false
   },
   "outputs": [],
   "source": [
    "%load_ext autoreload"
   ]
  },
  {
   "cell_type": "code",
   "execution_count": 2,
   "metadata": {},
   "outputs": [],
   "source": [
    "%autoreload 1"
   ]
  },
  {
   "cell_type": "code",
   "execution_count": 3,
   "metadata": {},
   "outputs": [],
   "source": [
    "%aimport event_selector\n",
    "%aimport looper_utils\n",
    "%aimport make_plots"
   ]
  },
  {
   "cell_type": "code",
   "execution_count": 4,
   "metadata": {},
   "outputs": [],
   "source": [
    "import awkward as ak\n",
    "import uproot\n",
    "import numpy as np\n",
    "from yahist import Hist1D, Hist2D"
   ]
  },
  {
   "cell_type": "markdown",
   "metadata": {},
   "source": [
    "## Skim Parameters"
   ]
  },
  {
   "cell_type": "code",
   "execution_count": 25,
   "metadata": {},
   "outputs": [],
   "source": [
    "year = '2018'\n",
    "skim_version = 'v4'  #currently available x3 or v4"
   ]
  },
  {
   "cell_type": "markdown",
   "metadata": {},
   "source": [
    "## Load data"
   ]
  },
  {
   "cell_type": "code",
   "execution_count": 26,
   "metadata": {},
   "outputs": [
    {
     "name": "stdout",
     "output_type": "stream",
     "text": [
      "chunklist.json\n",
      "chunklist_2016_v4.json\n",
      "chunklist_2017_v4.json\n",
      "chunklist_2018_v4.json\n",
      "chunklist_2018_x3.json\n",
      "totalWeights.json\n",
      "totalWeights_2016_v4.json\n",
      "totalWeights_2017_v4.json\n",
      "totalWeights_2018_v4.json\n",
      "totalWeights_2018_x3.json\n",
      "xsection.json\n",
      "xsection_2016_v4.json\n",
      "xsection_2017_v4.json\n",
      "xsection_2017_x3.json\n",
      "xsection_2018_v4.json\n",
      "xsection_2018_x3.json\n",
      "xsection_v4.json\n"
     ]
    }
   ],
   "source": [
    "%%bash\n",
    "ls metadata/"
   ]
  },
  {
   "cell_type": "code",
   "execution_count": 27,
   "metadata": {},
   "outputs": [
    {
     "data": {
      "text/plain": [
       "dict_keys(['EGamma_2018A', 'EGamma_2018B', 'EGamma_2018C', 'EGamma_2018D', 'DYJets', 'ttbar', 'ZG', 'WG', 'GJets_HT40To100', 'GJets_HT100To200', 'GJets_HT200To400', 'GJets_HT400To600', 'GJets_HT600ToInf', 'QCD_pT30To40', 'QCD_pT40ToInf', 'Diphoton', 'VH', 'signal'])"
      ]
     },
     "execution_count": 27,
     "metadata": {},
     "output_type": "execute_result"
    }
   ],
   "source": [
    "import json\n",
    "with open('./metadata/chunklist_'+year+'_'+skim_version+'.json') as f:\n",
    "    chunks = json.load(f) \n",
    "chunks.keys()"
   ]
  },
  {
   "cell_type": "markdown",
   "metadata": {},
   "source": [
    "## Process data"
   ]
  },
  {
   "cell_type": "code",
   "execution_count": 28,
   "metadata": {},
   "outputs": [],
   "source": [
    "def process(args):\n",
    "    \n",
    "    import event_selector\n",
    "    import make_plots\n",
    "    \n",
    "    obj_list = [\"electron\", \"muon\", \"tau\", \"photon\", \"others\"]\n",
    "   \n",
    "    isData = \"EGamma\" in args[0] or \"DoubleEG\" in args[0]\n",
    "    isSigLike = \"signal\" in args[0] or \"VH\" in args[0]\n",
    "    events = event_selector.prepare_inputs(args, obj_list, isData=isData)\n",
    "    \n",
    "    tot_w = ak.sum(events.genWeight)\n",
    "    mgg = events.ggMass\n",
    "    #svfit = events.tautauMass_SVFit\n",
    "    \n",
    "    ## need to change gHidx\n",
    "    gHidx = event_selector.get_gHidx(args) \n",
    "    g_Hidx = gHidx.gHidx\n",
    "    mask_diphoton = event_selector.select_photon_byEvent( events.Photon, g_Hidx, mgg, isSigLike )\n",
    "    \n",
    "    mask_photon = event_selector.select_photon(events.Photon, g_Hidx, mgg)\n",
    "    photons_selected = events.Photon[mask_photon] \n",
    "    nPho = ak.num(photons_selected)\n",
    "    \n",
    "    mask_tau = event_selector.select_tau(events.Tau, \"all\", isTight=False)\n",
    "    ## clean by dR wrt photons\n",
    "    mask_tau = mask_tau & looper_utils.mask_by_dR(events.Tau, photons_selected, 0.2)\n",
    "    nTau = ak.num(events.Tau[mask_tau])\n",
    "    \n",
    "    mask_ele = event_selector.select_electron(events.Electron, isTight=False)\n",
    "    mask_ele = mask_ele & looper_utils.mask_by_dR(events.Electron, photons_selected, 0.2)\n",
    "    nEle = ak.num(events.Electron[mask_ele])\n",
    "    \n",
    "    mask_mu = event_selector.select_muon(events.Muon, isTight=False)\n",
    "    mask_mu = mask_mu & looper_utils.mask_by_dR(events.Muon, photons_selected, 0.2)\n",
    "    nMu = ak.num(events.Muon[mask_mu])\n",
    "    \n",
    "    sum_charge = (ak.sum(events.Tau[mask_tau].charge, axis=1) + ak.sum(events.Electron[mask_ele].charge, axis=1) + ak.sum(events.Muon[mask_mu].charge, axis=1) == 0)\n",
    "    mask_dR_mll_0lep_2tau = looper_utils.mask_by_dR_mll_0lep_2tau(events.Tau[mask_tau], (0.2,3.5), (30,140))\n",
    "    mask_dR_mll_1mu_1tau = looper_utils.mask_by_dR_mll_1lep_1tau(events.Tau[mask_tau], events.Muon[mask_mu], (0.3,3.5), (20,120))\n",
    "    mask_dR_mll_1ele_1tau = looper_utils.mask_by_dR_mll_1lep_1tau(events.Tau[mask_tau], events.Electron[mask_ele], (0.3,3.5), (20,120))\n",
    "    \n",
    "    mask_dipho = (nPho == 2)\n",
    "    mask_0lep_1tau = (nPho == 2) & (nTau == 1) & (nEle == 0) & (nMu == 0)\n",
    "    mask_0lep_2tau = (nPho == 2) & (nTau == 2) & (nEle == 0) & (nMu == 0) & (sum_charge) & (mask_dR_mll_0lep_2tau)\n",
    "    mask_2lep_0tau = (nPho == 2) & (nTau == 0) & (nEle + nMu == 2) & (sum_charge)\n",
    "    mask_1lep_0tau = (nPho == 2) & (nTau == 0) & (nEle + nMu == 1)\n",
    "    \n",
    "    mask_1mu_1tau = (nPho == 2) & (nTau == 1) & (nEle == 0) & (nMu == 1) & (sum_charge) & (mask_dR_mll_1mu_1tau)\n",
    "    mask_1ele_1tau = (nPho == 2) & (nTau == 1) & (nEle == 1) & (nMu == 0) & (sum_charge) & (mask_dR_mll_1ele_1tau)\n",
    "    mask_1lep_1tau = (mask_1mu_1tau) | (mask_1ele_1tau)\n",
    "    \n",
    "    masks = {\"dipho\": mask_dipho,\n",
    "             \"0lep_1tau\": mask_0lep_1tau,\n",
    "             \"0lep_2tau\": mask_0lep_2tau,\n",
    "             \"1lep_1tau\": mask_1lep_1tau,\n",
    "             \"2lep_0tau\": mask_2lep_0tau,\n",
    "             \"1lep_0tau\": mask_1lep_0tau}\n",
    "    \n",
    "    hists = {}\n",
    "    \n",
    "    for key, mask in masks.items():\n",
    "        print (key)\n",
    "        hists[key] = make_plots.process_event( events[mask], events.genWeight[mask] )\n",
    "        #print (\"process diphoton\")\n",
    "        hists[key].update( make_plots.process_diphoton(events.Photon[mask], g_Hidx[mask], mgg[mask], events.genWeight[mask]) )\n",
    "        #hists[key] =  make_plots.process_diphoton(events.Photon[mask], g_Hidx[mask], mgg[mask], events.genWeight[mask])\n",
    "        #print (\"process tau\")\n",
    "        hists[key].update( make_plots.process_tau(events.Tau[mask_tau][mask], events.genWeight[mask]))\n",
    "        #print (\"process muon\")\n",
    "        hists[key].update( make_plots.process_muon(events.Muon[mask_mu][mask], events.genWeight[mask]))\n",
    "        #print (\"process electron\")\n",
    "        hists[key].update( make_plots.process_electron(events.Electron[mask_ele][mask], events.genWeight[mask]))\n",
    "        #print (\"process tau-lep\")\n",
    "        if key == \"1lep_1tau\":\n",
    "            tmphists = hists[key].update( make_plots.process_1tau_1lep(events.Tau[mask_tau][mask], events.Muon[mask_mu][mask],\n",
    "                                                                       events.Electron[mask_ele][mask], events.genWeight[mask]))\n",
    "            #if bool(tmphists):\n",
    "            #    hists[key].update(tmphists)\n",
    "    \n",
    "    return hists"
   ]
  },
  {
   "cell_type": "code",
   "execution_count": 15,
   "metadata": {
    "scrolled": true
   },
   "outputs": [
    {
     "name": "stderr",
     "output_type": "stream",
     "text": [
      "/home/users/fsetti/miniconda3/envs/daskanalysisenv/lib/python3.8/site-packages/numba/core/dispatcher.py:237: UserWarning: Numba extension module 'awkward1._connect._numba' failed to load due to 'ImportError(generic_type: type \"kernel_lib\" is already registered!)'.\n",
      "  entrypoints.init_all()\n"
     ]
    },
    {
     "name": "stdout",
     "output_type": "stream",
     "text": [
      "dipho\n",
      "0lep_1tau\n",
      "0lep_2tau\n",
      "1lep_1tau\n",
      "2lep_0tau\n",
      "1lep_0tau\n",
      "CPU times: user 9.04 s, sys: 261 ms, total: 9.3 s\n",
      "Wall time: 10.5 s\n"
     ]
    }
   ],
   "source": [
    "%%time\n",
    "hists = process(chunks[\"signal\"][0])\n",
    "#hists = process((chunks[\"signal\"][0][0], 0, 200) )\n",
    "#hists = process(chunks[\"ZH\"][0])"
   ]
  },
  {
   "cell_type": "code",
   "execution_count": 16,
   "metadata": {},
   "outputs": [
    {
     "data": {
      "text/html": [
       "\n",
       "        <div style=\"max-height:1000px;max-width:1500px;overflow:auto\">\n",
       "        <b>total count</b>: 2006.8300018310547, <b>metadata</b>: {'label': 'MET'}<br>\n",
       "        <div style=\"display:flex;\">\n",
       "            <div style=\"display:inline;\">\n",
       "                \n",
       "                <table style='border:1px solid black;'\">\n",
       "                    <thead><tr><th>bin</th><th>content</th></tr></thead>\n",
       "                    <tr><td>(0,5)</td><td>8 ± 2.82843</td></tr>\n",
       "<tr><td>(5,10)</td><td>25.99 ± 5.09707</td></tr>\n",
       "<tr><td>(10,15)</td><td>32.99 ± 5.74283</td></tr>\n",
       "<tr><td>(15,20)</td><td>45 ± 6.7082</td></tr>\n",
       "<tr><td colspan='2'><center>[92 rows hidden]</center></td></tr>\n",
       "<tr><td>(480,485)</td><td>3 ± 1.73205</td></tr>\n",
       "<tr><td>(485,490)</td><td>2 ± 1.41421</td></tr>\n",
       "<tr><td>(490,495)</td><td>0 ± 0</td></tr>\n",
       "<tr><td>(495,500)</td><td>9 ± 3</td></tr>\n",
       "                </table>\n",
       "            \n",
       "            </div>\n",
       "            <div style=\"display:inline; margin: auto 2%;\">\n",
       "                <img src='data:image/svg+xml;base64,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'/>\n",
       "            </div>\n",
       "            </div>\n",
       "        </div>\n",
       "        "
      ],
      "text/plain": [
       "[ 8.00 ± 2.83   25.99 ± 5.10   32.99 ± 5.74   45.00 ± 6.71   52.00 ± 7.21\n",
       " 61.00 ± 7.81   73.98 ± 8.60   73.99 ± 8.60   73.00 ± 8.54   72.99 ± 8.54\n",
       " 86.00 ± 9.27   87.00 ± 9.33   86.00 ± 9.27   80.00 ± 8.94   66.98 ± 8.18\n",
       " 72.00 ± 8.49   46.00 ± 6.78   64.99 ± 8.06   57.98 ± 7.61   60.00 ± 7.75\n",
       " 51.00 ± 7.14   41.98 ± 6.48   49.00 ± 7.00   39.99 ± 6.32   42.98 ± 6.55\n",
       " 29.99 ± 5.48   40.00 ± 6.32   34.00 ± 5.83   26.00 ± 5.10   27.00 ± 5.20\n",
       " 23.00 ± 4.80   27.00 ± 5.20   15.00 ± 3.87   23.00 ± 4.80   18.00 ± 4.24\n",
       " 19.00 ± 4.36   23.00 ± 4.80   13.00 ± 3.61    8.00 ± 2.83   15.00 ± 3.87\n",
       "  9.00 ± 3.00    9.00 ± 3.00   10.00 ± 3.16    9.00 ± 3.00    6.00 ± 2.45\n",
       "  9.00 ± 3.00   10.00 ± 3.16   11.00 ± 3.32    9.00 ± 3.00    8.00 ± 2.83\n",
       "  9.00 ± 3.00    5.00 ± 2.24    5.00 ± 2.24    6.00 ± 2.45    2.00 ± 1.41\n",
       "  4.00 ± 2.00    4.00 ± 2.00    3.00 ± 1.73    3.00 ± 1.73    3.00 ± 1.73\n",
       "  4.00 ± 2.00    3.00 ± 1.73    4.00 ± 2.00    2.00 ± 1.41    2.00 ± 1.41\n",
       "  4.00 ± 2.00    3.00 ± 1.73    2.00 ± 1.41    3.00 ± 1.73    1.00 ± 1.00\n",
       "  2.00 ± 1.41    2.00 ± 1.41    1.00 ± 1.00    4.00 ± 2.00    2.00 ± 1.41\n",
       "  0.00 ± 0.00    2.00 ± 1.41    3.00 ± 1.73    2.00 ± 1.41    1.00 ± 1.00\n",
       "  4.00 ± 2.00    0.00 ± 0.00    1.00 ± 1.00    6.00 ± 2.45    1.00 ± 1.00\n",
       "  1.00 ± 1.00    2.00 ± 1.41    1.00 ± 1.00    0.00 ± 0.00    0.00 ± 0.00\n",
       "  1.00 ± 1.00    2.00 ± 1.41    0.00 ± 0.00    1.00 ± 1.00    0.00 ± 0.00\n",
       "  0.00 ± 0.00    3.00 ± 1.73    2.00 ± 1.41    0.00 ± 0.00    9.00 ± 3.00]"
      ]
     },
     "execution_count": 16,
     "metadata": {},
     "output_type": "execute_result"
    }
   ],
   "source": [
    "#hists['1lep_1tau']['tautauL_SVFit']\n",
    "hists['1lep_1tau']['MET']"
   ]
  },
  {
   "cell_type": "code",
   "execution_count": 11,
   "metadata": {},
   "outputs": [
    {
     "data": {
      "text/plain": [
       "16344.0"
      ]
     },
     "execution_count": 11,
     "metadata": {},
     "output_type": "execute_result"
    }
   ],
   "source": [
    "hists['dipho']['pho_pT1'].integral\n",
    "#hists['dipho']['pho_pT1'].integral_error"
   ]
  },
  {
   "cell_type": "markdown",
   "metadata": {},
   "source": [
    "## send to dask"
   ]
  },
  {
   "cell_type": "code",
   "execution_count": 1,
   "metadata": {
    "scrolled": true
   },
   "outputs": [
    {
     "data": {
      "text/html": [
       "<table style=\"border: 2px solid white;\">\n",
       "<tr>\n",
       "<td style=\"vertical-align: top; border: 0px solid white\">\n",
       "<h3 style=\"text-align: left;\">Client</h3>\n",
       "<ul style=\"text-align: left; list-style: none; margin: 0; padding: 0;\">\n",
       "  <li><b>Scheduler: </b>tcp://169.228.130.74:5608</li>\n",
       "  <li><b>Dashboard: </b><a href='http://169.228.130.74:12332/status' target='_blank'>http://169.228.130.74:12332/status</a></li>\n",
       "</ul>\n",
       "</td>\n",
       "<td style=\"vertical-align: top; border: 0px solid white\">\n",
       "<h3 style=\"text-align: left;\">Cluster</h3>\n",
       "<ul style=\"text-align: left; list-style:none; margin: 0; padding: 0;\">\n",
       "  <li><b>Workers: </b>15</li>\n",
       "  <li><b>Cores: </b>15</li>\n",
       "  <li><b>Memory: </b>60.00 GB</li>\n",
       "</ul>\n",
       "</td>\n",
       "</tr>\n",
       "</table>"
      ],
      "text/plain": [
       "<Client: 'tcp://169.228.130.74:5608' processes=15 threads=15, memory=60.00 GB>"
      ]
     },
     "execution_count": 1,
     "metadata": {},
     "output_type": "execute_result"
    }
   ],
   "source": [
    "#from dask.distributed import Client\n",
    "#client = Client('tcp://169.228.130.74:5608')\n",
    "#client"
   ]
  },
  {
   "cell_type": "code",
   "execution_count": 9,
   "metadata": {},
   "outputs": [
    {
     "data": {
      "text/html": [
       "<table style=\"border: 2px solid white;\">\n",
       "<tr>\n",
       "<td style=\"vertical-align: top; border: 0px solid white\">\n",
       "<h3 style=\"text-align: left;\">Client</h3>\n",
       "<ul style=\"text-align: left; list-style: none; margin: 0; padding: 0;\">\n",
       "  <li><b>Scheduler: </b>tcp://127.0.0.1:10506</li>\n",
       "  <li><b>Dashboard: </b><a href='http://127.0.0.1:8787/status' target='_blank'>http://127.0.0.1:8787/status</a></li>\n",
       "</ul>\n",
       "</td>\n",
       "<td style=\"vertical-align: top; border: 0px solid white\">\n",
       "<h3 style=\"text-align: left;\">Cluster</h3>\n",
       "<ul style=\"text-align: left; list-style:none; margin: 0; padding: 0;\">\n",
       "  <li><b>Workers: </b>32</li>\n",
       "  <li><b>Cores: </b>32</li>\n",
       "  <li><b>Memory: </b>128.00 GB</li>\n",
       "</ul>\n",
       "</td>\n",
       "</tr>\n",
       "</table>"
      ],
      "text/plain": [
       "<Client: 'tcp://127.0.0.1:10506' processes=32 threads=32, memory=128.00 GB>"
      ]
     },
     "execution_count": 9,
     "metadata": {},
     "output_type": "execute_result"
    }
   ],
   "source": [
    "from dask.distributed import Client\n",
    "client = Client(memory_limit='4GB', n_workers=32, threads_per_worker=1)\n",
    "client"
   ]
  },
  {
   "cell_type": "code",
   "execution_count": 10,
   "metadata": {},
   "outputs": [
    {
     "data": {
      "text/plain": [
       "['./__init__.py',\n",
       " './cachepreload.py',\n",
       " './condor_utils.py',\n",
       " './event_selector.py',\n",
       " './loop.py',\n",
       " './looper_utils.py',\n",
       " './make_plots.py',\n",
       " './utils.py']"
      ]
     },
     "execution_count": 10,
     "metadata": {},
     "output_type": "execute_result"
    }
   ],
   "source": [
    "def g():\n",
    "    import glob\n",
    "    allpys = glob.glob(\"./*py\")\n",
    "    return allpys\n",
    "g()"
   ]
  },
  {
   "cell_type": "code",
   "execution_count": 11,
   "metadata": {},
   "outputs": [],
   "source": [
    "x = client.submit(g)"
   ]
  },
  {
   "cell_type": "code",
   "execution_count": 12,
   "metadata": {
    "scrolled": true
   },
   "outputs": [
    {
     "data": {
      "text/plain": [
       "['./__init__.py',\n",
       " './cachepreload.py',\n",
       " './condor_utils.py',\n",
       " './event_selector.py',\n",
       " './loop.py',\n",
       " './looper_utils.py',\n",
       " './make_plots.py',\n",
       " './utils.py']"
      ]
     },
     "execution_count": 12,
     "metadata": {},
     "output_type": "execute_result"
    }
   ],
   "source": [
    "client.gather(x)"
   ]
  },
  {
   "cell_type": "code",
   "execution_count": null,
   "metadata": {},
   "outputs": [
    {
     "name": "stdout",
     "output_type": "stream",
     "text": [
      "start process EGamma_2018A\n",
      "start process EGamma_2018B\n",
      "start process EGamma_2018C\n",
      "start process EGamma_2018D\n",
      "start process DYJets\n",
      "start process ttbar\n",
      "start process ZG\n",
      "start process WG\n",
      "start process GJets_HT40To100\n",
      "start process GJets_HT100To200\n",
      "start process GJets_HT200To400\n",
      "start process GJets_HT400To600\n",
      "start process GJets_HT600ToInf\n",
      "start process QCD_pT30To40\n",
      "start process QCD_pT40ToInf\n",
      "start process Diphoton\n",
      "start process VH\n",
      "start process signal\n"
     ]
    }
   ],
   "source": [
    "%%time\n",
    "from dask.distributed import as_completed\n",
    "import collections, functools, operator \n",
    "\n",
    "futures = {}\n",
    "results = {}\n",
    "\n",
    "cat_keys = [\"dipho\", \"0lep_1tau\", \"0lep_2tau\", \"1lep_1tau\", \"2lep_0tau\", \"1lep_0tau\"]\n",
    "\n",
    "for process_key in chunks:\n",
    "    print (\"start process {}\".format(process_key))\n",
    "    futures[process_key] = client.map(process, chunks[process_key], retries=5)\n",
    "    \n",
    "    results_local = []\n",
    "    results[process_key] = {}\n",
    "    ## do you really need this while?\n",
    "    while len(results_local) < len(chunks[process_key]): \n",
    "        ac = as_completed(futures[process_key], with_results=True)\n",
    "        for future, result in ac:\n",
    "            results_local.append(result)\n",
    "    \n",
    "    ## merge histograms by the key\n",
    "    for cat_key in cat_keys: \n",
    "        dicts = [results_local[i][cat_key] for i in range(len(results_local))]  \n",
    "        counter = collections.Counter() \n",
    "        for d in dicts:  \n",
    "            counter.update(d) \n",
    "        results[process_key][cat_key] = dict(counter) "
   ]
  },
  {
   "cell_type": "markdown",
   "metadata": {},
   "source": [
    "## save to disk?\n",
    "\n",
    "- foler1: cat (dipho, 0lep_1tau, 0lep_2tau...)\n",
    "    + folder2: process (data, signal, ZG...)\n",
    "        - folder3: hists (pT, eta, phi...)"
   ]
  },
  {
   "cell_type": "code",
   "execution_count": 42,
   "metadata": {},
   "outputs": [
    {
     "name": "stderr",
     "output_type": "stream",
     "text": [
      "distributed.client - ERROR - Failed to reconnect to scheduler after 10.00 seconds, closing client\n",
      "_GatheringFuture exception was never retrieved\n",
      "future: <_GatheringFuture finished exception=CancelledError()>\n",
      "asyncio.exceptions.CancelledError\n"
     ]
    }
   ],
   "source": [
    "client.shutdown()"
   ]
  },
  {
   "cell_type": "code",
   "execution_count": 41,
   "metadata": {
    "scrolled": false
   },
   "outputs": [
    {
     "data": {
      "text/plain": [
       "dict_keys(['EGamma_2018A', 'EGamma_2018B', 'EGamma_2018C', 'EGamma_2018D', 'DYJets', 'ttbar', 'ZG', 'WG', 'GJets_HT40To100', 'GJets_HT100To200', 'GJets_HT200To400', 'GJets_HT400To600', 'GJets_HT600ToInf', 'QCD_pT30To40', 'QCD_pT40ToInf', 'Diphoton', 'VH', 'signal'])"
      ]
     },
     "execution_count": 41,
     "metadata": {},
     "output_type": "execute_result"
    }
   ],
   "source": [
    "results.keys()"
   ]
  },
  {
   "cell_type": "code",
   "execution_count": 38,
   "metadata": {},
   "outputs": [
    {
     "data": {
      "text/plain": [
       "dict_keys(['dipho', '0lep_1tau', '0lep_2tau', '1lep_1tau', '2lep_0tau', '1lep_0tau'])"
      ]
     },
     "execution_count": 38,
     "metadata": {},
     "output_type": "execute_result"
    }
   ],
   "source": [
    "results['signal'].keys()"
   ]
  },
  {
   "cell_type": "code",
   "execution_count": 39,
   "metadata": {},
   "outputs": [
    {
     "data": {
      "text/plain": [
       "dict_keys(['MET', 'tautau_SVFit', 'tautauA_SVFit', 'tautauL_SVFit', 'pho_pT1', 'pho_pT2', 'pho_pTom1', 'pho_pTom2', 'pho_eta1', 'pho_eta2', 'pho_phi1', 'pho_phi2', 'pho_id1', 'pho_id2', 'tau_pT1', 'tau_eta1', 'tau_phi1', 'tau_deeptau_vs_j_1', 'tau_deeptau_vs_m_1', 'tau_deeptau_vs_e_1', 'n_tau', 'mtautau', 'dR_tautau', 'tau_pT2', 'tau_eta2', 'tau_phi2', 'tau_deeptau_vs_j_2', 'tau_deeptau_vs_m_2', 'tau_deeptau_vs_e_2', 'muon_pT1', 'muon_eta1', 'muon_phi1', 'muon_iso1', 'n_muon', 'mmumu', 'dR_mumu', 'muon_pT2', 'muon_eta2', 'muon_phi2', 'muon_iso2', 'electron_pT1', 'electron_eta1', 'electron_phi1', 'electron_iso1', 'n_electron', 'mee', 'dR_ee', 'electron_pT2', 'electron_eta2', 'electron_phi2', 'electron_iso2'])"
      ]
     },
     "execution_count": 39,
     "metadata": {},
     "output_type": "execute_result"
    }
   ],
   "source": [
    "results['signal']['dipho'].keys()"
   ]
  },
  {
   "cell_type": "code",
   "execution_count": 24,
   "metadata": {},
   "outputs": [
    {
     "name": "stdout",
     "output_type": "stream",
     "text": [
      "CPU times: user 4.97 s, sys: 4.55 s, total: 9.52 s\n",
      "Wall time: 14.1 s\n"
     ]
    }
   ],
   "source": [
    "%%time\n",
    "from subprocess import call\n",
    "import json\n",
    "\n",
    "process_keys = results.keys()\n",
    "cat_keys = results['signal'].keys()\n",
    "\n",
    "tag = \"basic_dR_mll_cut_blind\"\n",
    "\n",
    "for cat_key in cat_keys:\n",
    "    for process_key in process_keys:\n",
    "        dirname = './hists/' + tag + '/' + cat_key + '/' + process_key + '/'\n",
    "        call('mkdir -p ' + dirname, shell=True)\n",
    "        for hist_key in results[process_key][cat_key].keys():\n",
    "            histname = dirname + hist_key +'_'+year+'_'+skim_version\n",
    "            results[process_key][cat_key][hist_key].to_json(histname+\".json\")\n",
    "            with open(histname, \"w\") as f:\n",
    "                data = json.dump(results[process_key][cat_key][hist_key].to_json(histname+\".json\"), f)"
   ]
  },
  {
   "cell_type": "code",
   "execution_count": null,
   "metadata": {},
   "outputs": [],
   "source": []
  }
 ],
 "metadata": {
  "kernelspec": {
   "display_name": "Python 3",
   "language": "python",
   "name": "python3"
  },
  "language_info": {
   "codemirror_mode": {
    "name": "ipython",
    "version": 3
   },
   "file_extension": ".py",
   "mimetype": "text/x-python",
   "name": "python",
   "nbconvert_exporter": "python",
   "pygments_lexer": "ipython3",
   "version": "3.8.6"
  }
 },
 "nbformat": 4,
 "nbformat_minor": 4
}
