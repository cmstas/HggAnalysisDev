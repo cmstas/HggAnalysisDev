{
 "cells": [
  {
   "cell_type": "code",
   "execution_count": 1,
   "metadata": {
    "scrolled": false
   },
   "outputs": [],
   "source": [
    "%load_ext autoreload"
   ]
  },
  {
   "cell_type": "code",
   "execution_count": 2,
   "metadata": {},
   "outputs": [],
   "source": [
    "%autoreload 1"
   ]
  },
  {
   "cell_type": "code",
   "execution_count": 3,
   "metadata": {},
   "outputs": [],
   "source": [
    "%aimport event_selector\n",
    "%aimport looper_utils\n",
    "%aimport make_plots"
   ]
  },
  {
   "cell_type": "code",
   "execution_count": 4,
   "metadata": {},
   "outputs": [],
   "source": [
    "import awkward as ak\n",
    "import uproot\n",
    "import numpy as np\n",
    "from yahist import Hist1D, Hist2D"
   ]
  },
  {
   "cell_type": "markdown",
   "metadata": {},
   "source": [
    "## Skim Parameters"
   ]
  },
  {
   "cell_type": "code",
   "execution_count": 39,
   "metadata": {},
   "outputs": [],
   "source": [
    "year = '2018'\n",
    "skim_version = 'v4'  #currently available x3 or v4"
   ]
  },
  {
   "cell_type": "markdown",
   "metadata": {},
   "source": [
    "## Load data"
   ]
  },
  {
   "cell_type": "code",
   "execution_count": 40,
   "metadata": {},
   "outputs": [
    {
     "name": "stdout",
     "output_type": "stream",
     "text": [
      "chunklist.json\n",
      "chunklist_2016_v4.json\n",
      "chunklist_2017_v4.json\n",
      "chunklist_2018_v4.json\n",
      "totalWeights.json\n",
      "totalWeights_2016_v4.json\n",
      "totalWeights_2017_v4.json\n",
      "totalWeights_2018_v4.json\n",
      "xsection.json\n",
      "xsection_2016_v4.json\n",
      "xsection_2017_v4.json\n",
      "xsection_2018_v4.json\n",
      "xsection_v4.json\n"
     ]
    }
   ],
   "source": [
    "%%bash\n",
    "ls metadata/"
   ]
  },
  {
   "cell_type": "code",
   "execution_count": 41,
   "metadata": {},
   "outputs": [
    {
     "data": {
      "text/plain": [
       "dict_keys(['EGamma_2018A', 'EGamma_2018B', 'EGamma_2018C', 'EGamma_2018D', 'DYJets', 'ttbar', 'ttG', 'ttGG', 'ZG', 'WG', 'GJets_HT40To100', 'GJets_HT100To200', 'GJets_HT200To400', 'GJets_HT400To600', 'GJets_HT600ToInf', 'QCD_pT30To40', 'QCD_pT40ToInf', 'Diphoton', 'VH', 'signal'])"
      ]
     },
     "execution_count": 41,
     "metadata": {},
     "output_type": "execute_result"
    }
   ],
   "source": [
    "import json\n",
    "with open('./metadata/chunklist_'+year+'_'+skim_version+'.json') as f:\n",
    "    chunks = json.load(f) \n",
    "chunks.keys()"
   ]
  },
  {
   "cell_type": "markdown",
   "metadata": {},
   "source": [
    "## Process data"
   ]
  },
  {
   "cell_type": "code",
   "execution_count": 42,
   "metadata": {},
   "outputs": [],
   "source": [
    "def process(args):\n",
    "    \n",
    "    import event_selector\n",
    "    import make_plots\n",
    "    \n",
    "    obj_list = [\"electron\", \"muon\", \"tau\", \"photon\", \"others\"]\n",
    "   \n",
    "    isData = \"EGamma\" in args[0] or \"DoubleEG\" in args[0]\n",
    "    isSigLike = \"HHggtautau\" in args[0] or \"VH\" in args[0]\n",
    "    events = event_selector.prepare_inputs(args, obj_list, isData=isData)\n",
    "    \n",
    "    tot_w = ak.sum(events.genWeight)\n",
    "    mgg = events.ggMass\n",
    "    \n",
    "    ## need to change gHidx\n",
    "    gHidx = event_selector.get_gHidx(args) \n",
    "    g_Hidx = gHidx.gHidx\n",
    "    #mask_diphoton = event_selector.select_photon_byEvent( events.Photon, g_Hidx, mgg, isSigLike )\n",
    "    mask_diphoton = event_selector.select_photon_byEvent_v1( events.Photon, mgg, isSigLike )\n",
    "    \n",
    "    mask_photon = event_selector.select_photon(events.Photon, g_Hidx, mgg)\n",
    "    photons_selected = events.Photon[mask_photon] \n",
    "    nPho = ak.num(photons_selected)\n",
    "    \n",
    "    mask_tau = event_selector.select_tau(events.Tau, \"all\", isTight=False)\n",
    "    ## clean by dR wrt ALL photons\n",
    "    mask_tau = mask_tau & looper_utils.mask_by_dR(events.Tau, photons_selected, 0.2)\n",
    "    #mask_tau = mask_tau & looper_utils.mask_by_dR(events.Tau, events.Photon, 0.2)\n",
    "    nTau = ak.num(events.Tau[mask_tau])\n",
    "    \n",
    "    mask_ele = event_selector.select_electron(events.Electron, isTight=False)\n",
    "    mask_ele = mask_ele & looper_utils.mask_by_dR(events.Electron, photons_selected, 0.2)\n",
    "    #mask_ele = mask_ele & looper_utils.mask_by_dR(events.Electron, events.Photon, 0.2)\n",
    "    nEle = ak.num(events.Electron[mask_ele])\n",
    "    \n",
    "    mask_mu = event_selector.select_muon(events.Muon, isTight=False)\n",
    "    mask_mu = mask_mu & looper_utils.mask_by_dR(events.Muon, photons_selected, 0.2)\n",
    "    #mask_mu = mask_mu & looper_utils.mask_by_dR(events.Muon, events.Photon, 0.2)\n",
    "    nMu = ak.num(events.Muon[mask_mu])\n",
    "    \n",
    "    sum_charge = (ak.sum(events.Tau[mask_tau].charge, axis=1) + ak.sum(events.Electron[mask_ele].charge, axis=1) + ak.sum(events.Muon[mask_mu].charge, axis=1) == 0)\n",
    "    #mask_dR_mll_0lep_2tau = looper_utils.mask_by_dR_mll_0lep_2tau(events.Tau[mask_tau], (0.2,3.5), (30,140))\n",
    "    #mask_dR_mll_1mu_1tau = looper_utils.mask_by_dR_mll_1lep_1tau(events.Tau[mask_tau], events.Muon[mask_mu], (0.3,3.5), (20,120))\n",
    "    #mask_dR_mll_1ele_1tau = looper_utils.mask_by_dR_mll_1lep_1tau(events.Tau[mask_tau], events.Electron[mask_ele], (0.3,3.5), (20,120))\n",
    "    mask_dR_mll_0lep_2tau = looper_utils.mask_by_dR_mll_0lep_2tau(events.Tau[mask_tau], (0.2,3.5), (0,500))\n",
    "    mask_dR_mll_1mu_1tau = looper_utils.mask_by_dR_mll_1lep_1tau(events.Tau[mask_tau], events.Muon[mask_mu], (0.3,3.5), (0,500))\n",
    "    mask_dR_mll_1ele_1tau = looper_utils.mask_by_dR_mll_1lep_1tau(events.Tau[mask_tau], events.Electron[mask_ele], (0.3,3.5), (0,500))\n",
    "    \n",
    "    \n",
    "    mask_dipho     = mask_diphoton & (nPho == 2) \n",
    "    mask_0lep_1tau = mask_dipho    & (nTau == 1) & (nEle == 0) & (nMu == 0)\n",
    "    mask_0lep_2tau = mask_dipho    & (nTau == 2) & (nEle == 0) & (nMu == 0) & (sum_charge) & (mask_dR_mll_0lep_2tau)\n",
    "    mask_2lep_0tau = mask_dipho    & (nTau == 0) & (nEle + nMu == 2) & (sum_charge)\n",
    "    mask_1lep_0tau = mask_dipho    & (nTau == 0) & (nEle + nMu == 1)\n",
    "      \n",
    "    mask_1mu_1tau  = mask_dipho    & (nTau == 1) & (nEle == 0) & (nMu == 1) & (sum_charge) & (mask_dR_mll_1mu_1tau)\n",
    "    mask_1ele_1tau = mask_dipho    & (nTau == 1) & (nEle == 1) & (nMu == 0) & (sum_charge) & (mask_dR_mll_1ele_1tau)\n",
    "    mask_1lep_1tau = (mask_1mu_1tau) | (mask_1ele_1tau)\n",
    "    \n",
    "    masks = {\"dipho\": mask_dipho,\n",
    "             \"0lep_1tau\": mask_0lep_1tau,\n",
    "             \"0lep_2tau\": mask_0lep_2tau,\n",
    "             \"1lep_1tau\": mask_1lep_1tau,\n",
    "             \"2lep_0tau\": mask_2lep_0tau,\n",
    "             \"1lep_0tau\": mask_1lep_0tau}\n",
    "    \n",
    "    hists = {}\n",
    "    \n",
    "    for key, mask in masks.items():\n",
    "        print (key)\n",
    "        hists[key] = make_plots.process_event( events[mask], events.genWeight[mask] )\n",
    "        hists[key].update( make_plots.process_diphoton(events.Photon[mask], g_Hidx[mask], mgg[mask], events.genWeight[mask]) )\n",
    "        hists[key].update( make_plots.process_tau(events.Tau[mask_tau][mask], events.genWeight[mask]))\n",
    "        hists[key].update( make_plots.process_muon(events.Muon[mask_mu][mask], events.genWeight[mask]))\n",
    "        hists[key].update( make_plots.process_electron(events.Electron[mask_ele][mask], events.genWeight[mask]))\n",
    "        if key == \"1lep_1tau\":\n",
    "            tmphists = hists[key].update( make_plots.process_1tau_1lep(events.Tau[mask_tau][mask], events.Muon[mask_mu][mask],\n",
    "                                                                       events.Electron[mask_ele][mask], events.genWeight[mask]))\n",
    "    \n",
    "    return hists"
   ]
  },
  {
   "cell_type": "code",
   "execution_count": 11,
   "metadata": {
    "scrolled": false
   },
   "outputs": [
    {
     "name": "stdout",
     "output_type": "stream",
     "text": [
      "dipho\n",
      "0lep_1tau\n",
      "0lep_2tau\n",
      "1lep_1tau\n",
      "2lep_0tau\n",
      "1lep_0tau\n",
      "CPU times: user 5.9 s, sys: 78.2 ms, total: 5.97 s\n",
      "Wall time: 7.16 s\n"
     ]
    }
   ],
   "source": [
    "%%time\n",
    "hists = process(chunks[\"signal\"][0])\n",
    "#hists = process((chunks[\"signal\"][0][0], 0, 200) )\n",
    "#hists = process(chunks[\"DoubleEG_Run2016B\"][0])"
   ]
  },
  {
   "cell_type": "code",
   "execution_count": 12,
   "metadata": {
    "scrolled": true
   },
   "outputs": [
    {
     "data": {
      "text/html": [
       "\n",
       "        <div style=\"max-height:1000px;max-width:1500px;overflow:auto\">\n",
       "        <b>total count</b>: 1663.8999998569489, <b>metadata</b>: {'label': 'MET'}<br>\n",
       "        <div style=\"display:flex;\">\n",
       "            <div style=\"display:inline;\">\n",
       "                \n",
       "                <table style='border:1px solid black;'\">\n",
       "                    <thead><tr><th>bin</th><th>content</th></tr></thead>\n",
       "                    <tr><td>(0,5)</td><td>21.99 ± 4.68829</td></tr>\n",
       "<tr><td>(5,10)</td><td>43 ± 6.55744</td></tr>\n",
       "<tr><td>(10,15)</td><td>65 ± 8.06226</td></tr>\n",
       "<tr><td>(15,20)</td><td>59 ± 7.68115</td></tr>\n",
       "<tr><td colspan='2'><center>[92 rows hidden]</center></td></tr>\n",
       "<tr><td>(480,485)</td><td>0 ± 0</td></tr>\n",
       "<tr><td>(485,490)</td><td>0 ± 0</td></tr>\n",
       "<tr><td>(490,495)</td><td>0 ± 0</td></tr>\n",
       "<tr><td>(495,500)</td><td>11 ± 3.31662</td></tr>\n",
       "                </table>\n",
       "            \n",
       "            </div>\n",
       "            <div style=\"display:inline; margin: auto 2%;\">\n",
       "                <img src='data:image/svg+xml;base64,PD94bWwgdmVyc2lvbj0iMS4wIiBlbmNvZGluZz0idXRmLTgiIHN0YW5kYWxvbmU9Im5vIj8+CjwhRE9DVFlQRSBzdmcgUFVCTElDICItLy9XM0MvL0RURCBTVkcgMS4xLy9FTiIKICAiaHR0cDovL3d3dy53My5vcmcvR3JhcGhpY3MvU1ZHLzEuMS9EVEQvc3ZnMTEuZHRkIj4KPCEtLSBDcmVhdGVkIHdpdGggbWF0cGxvdGxpYiAoaHR0cHM6Ly9tYXRwbG90bGliLm9yZy8pIC0tPgo8c3ZnIGhlaWdodD0iMjE2cHQiIHZlcnNpb249IjEuMSIgdmlld0JveD0iMCAwIDI4OCAyMTYiIHdpZHRoPSIyODhwdCIgeG1sbnM9Imh0dHA6Ly93d3cudzMub3JnLzIwMDAvc3ZnIiB4bWxuczp4bGluaz0iaHR0cDovL3d3dy53My5vcmcvMTk5OS94bGluayI+CiA8bWV0YWRhdGE+CiAgPHJkZjpSREYgeG1sbnM6Y2M9Imh0dHA6Ly9jcmVhdGl2ZWNvbW1vbnMub3JnL25zIyIgeG1sbnM6ZGM9Imh0dHA6Ly9wdXJsLm9yZy9kYy9lbGVtZW50cy8xLjEvIiB4bWxuczpyZGY9Imh0dHA6Ly93d3cudzMub3JnLzE5OTkvMDIvMjItcmRmLXN5bnRheC1ucyMiPgogICA8Y2M6V29yaz4KICAgIDxkYzp0eXBlIHJkZjpyZXNvdXJjZT0iaHR0cDovL3B1cmwub3JnL2RjL2RjbWl0eXBlL1N0aWxsSW1hZ2UiLz4KICAgIDxkYzpkYXRlPjIwMjEtMDItMTVUMTg6MzQ6NDEuMDY0NTEzPC9kYzpkYXRlPgogICAgPGRjOmZvcm1hdD5pbWFnZS9zdmcreG1sPC9kYzpmb3JtYXQ+CiAgICA8ZGM6Y3JlYXRvcj4KICAgICA8Y2M6QWdlbnQ+CiAgICAgIDxkYzp0aXRsZT5NYXRwbG90bGliIHYzLjMuMywgaHR0cHM6Ly9tYXRwbG90bGliLm9yZy88L2RjOnRpdGxlPgogICAgIDwvY2M6QWdlbnQ+CiAgICA8L2RjOmNyZWF0b3I+CiAgIDwvY2M6V29yaz4KICA8L3JkZjpSREY+CiA8L21ldGFkYXRhPgogPGRlZnM+CiAgPHN0eWxlIHR5cGU9InRleHQvY3NzIj4qe3N0cm9rZS1saW5lY2FwOmJ1dHQ7c3Ryb2tlLWxpbmVqb2luOnJvdW5kO308L3N0eWxlPgogPC9kZWZzPgogPGcgaWQ9ImZpZ3VyZV8xIj4KICA8ZyBpZD0icGF0Y2hfMSI+CiAgIDxwYXRoIGQ9Ik0gMCAyMTYgCkwgMjg4IDIxNiAKTCAyODggMCAKTCAwIDAgCnoKIiBzdHlsZT0iZmlsbDpub25lOyIvPgogIDwvZz4KICA8ZyBpZD0iYXhlc18xIj4KICAgPGcgaWQ9InBhdGNoXzIiPgogICAgPHBhdGggZD0iTSAzNiAxOTguNzIgCkwgMjg1LjEyIDE5OC43MiAKTCAyODUuMTIgMi4xNiAKTCAzNiAyLjE2IAp6CiIgc3R5bGU9ImZpbGw6I2ZmZmZmZjsiLz4KICAgPC9nPgogICA8ZyBpZD0ibWF0cGxvdGxpYi5heGlzXzEiPgogICAgPGcgaWQ9Inh0aWNrXzEiPgogICAgIDxnIGlkPSJsaW5lMmRfMSI+CiAgICAgIDxkZWZzPgogICAgICAgPHBhdGggZD0iTSAwIDAgCkwgMCAzLjUgCiIgaWQ9Im02MTg1ZjJmMmVmIiBzdHlsZT0ic3Ryb2tlOiMwMDAwMDA7c3Ryb2tlLXdpZHRoOjAuODsiLz4KICAgICAgPC9kZWZzPgogICAgICA8Zz4KICAgICAgIDx1c2Ugc3R5bGU9InN0cm9rZTojMDAwMDAwO3N0cm9rZS13aWR0aDowLjg7IiB4PSI0Ny4zMjM2MzYiIHhsaW5rOmhyZWY9IiNtNjE4NWYyZjJlZiIgeT0iMTk4LjcyIi8+CiAgICAgIDwvZz4KICAgICA8L2c+CiAgICAgPGcgaWQ9InRleHRfMSI+CiAgICAgIDwhLS0gMCAtLT4KICAgICAgPGcgdHJhbnNmb3JtPSJ0cmFuc2xhdGUoNDQuMTQyMzg2IDIxMy4zMTg0Mzgpc2NhbGUoMC4xIC0wLjEpIj4KICAgICAgIDxkZWZzPgogICAgICAgIDxwYXRoIGQ9Ik0gMzEuNzgxMjUgNjYuNDA2MjUgClEgMjQuMTcxODc1IDY2LjQwNjI1IDIwLjMyODEyNSA1OC45MDYyNSAKUSAxNi41IDUxLjQyMTg3NSAxNi41IDM2LjM3NSAKUSAxNi41IDIxLjM5MDYyNSAyMC4zMjgxMjUgMTMuODkwNjI1IApRIDI0LjE3MTg3NSA2LjM5MDYyNSAzMS43ODEyNSA2LjM5MDYyNSAKUSAzOS40NTMxMjUgNi4zOTA2MjUgNDMuMjgxMjUgMTMuODkwNjI1IApRIDQ3LjEyNSAyMS4zOTA2MjUgNDcuMTI1IDM2LjM3NSAKUSA0Ny4xMjUgNTEuNDIxODc1IDQzLjI4MTI1IDU4LjkwNjI1IApRIDM5LjQ1MzEyNSA2Ni40MDYyNSAzMS43ODEyNSA2Ni40MDYyNSAKegpNIDMxLjc4MTI1IDc0LjIxODc1IApRIDQ0LjA0Njg3NSA3NC4yMTg3NSA1MC41MTU2MjUgNjQuNTE1NjI1IApRIDU2Ljk4NDM3NSA1NC44MjgxMjUgNTYuOTg0Mzc1IDM2LjM3NSAKUSA1Ni45ODQzNzUgMTcuOTY4NzUgNTAuNTE1NjI1IDguMjY1NjI1IApRIDQ0LjA0Njg3NSAtMS40MjE4NzUgMzEuNzgxMjUgLTEuNDIxODc1IApRIDE5LjUzMTI1IC0xLjQyMTg3NSAxMy4wNjI1IDguMjY1NjI1IApRIDYuNTkzNzUgMTcuOTY4NzUgNi41OTM3NSAzNi4zNzUgClEgNi41OTM3NSA1NC44MjgxMjUgMTMuMDYyNSA2NC41MTU2MjUgClEgMTkuNTMxMjUgNzQuMjE4NzUgMzEuNzgxMjUgNzQuMjE4NzUgCnoKIiBpZD0iRGVqYVZ1U2Fucy00OCIvPgogICAgICAgPC9kZWZzPgogICAgICAgPHVzZSB4bGluazpocmVmPSIjRGVqYVZ1U2Fucy00OCIvPgogICAgICA8L2c+CiAgICAgPC9nPgogICAgPC9nPgogICAgPGcgaWQ9Inh0aWNrXzIiPgogICAgIDxnIGlkPSJsaW5lMmRfMiI+CiAgICAgIDxnPgogICAgICAgPHVzZSBzdHlsZT0ic3Ryb2tlOiMwMDAwMDA7c3Ryb2tlLXdpZHRoOjAuODsiIHg9IjkyLjYxODE4MiIgeGxpbms6aHJlZj0iI202MTg1ZjJmMmVmIiB5PSIxOTguNzIiLz4KICAgICAgPC9nPgogICAgIDwvZz4KICAgICA8ZyBpZD0idGV4dF8yIj4KICAgICAgPCEtLSAxMDAgLS0+CiAgICAgIDxnIHRyYW5zZm9ybT0idHJhbnNsYXRlKDgzLjA3NDQzMiAyMTMuMzE4NDM4KXNjYWxlKDAuMSAtMC4xKSI+CiAgICAgICA8ZGVmcz4KICAgICAgICA8cGF0aCBkPSJNIDEyLjQwNjI1IDguMjk2ODc1IApMIDI4LjUxNTYyNSA4LjI5Njg3NSAKTCAyOC41MTU2MjUgNjMuOTIxODc1IApMIDEwLjk4NDM3NSA2MC40MDYyNSAKTCAxMC45ODQzNzUgNjkuMzkwNjI1IApMIDI4LjQyMTg3NSA3Mi45MDYyNSAKTCAzOC4yODEyNSA3Mi45MDYyNSAKTCAzOC4yODEyNSA4LjI5Njg3NSAKTCA1NC4zOTA2MjUgOC4yOTY4NzUgCkwgNTQuMzkwNjI1IDAgCkwgMTIuNDA2MjUgMCAKegoiIGlkPSJEZWphVnVTYW5zLTQ5Ii8+CiAgICAgICA8L2RlZnM+CiAgICAgICA8dXNlIHhsaW5rOmhyZWY9IiNEZWphVnVTYW5zLTQ5Ii8+CiAgICAgICA8dXNlIHg9IjYzLjYyMzA0NyIgeGxpbms6aHJlZj0iI0RlamFWdVNhbnMtNDgiLz4KICAgICAgIDx1c2UgeD0iMTI3LjI0NjA5NCIgeGxpbms6aHJlZj0iI0RlamFWdVNhbnMtNDgiLz4KICAgICAgPC9nPgogICAgIDwvZz4KICAgIDwvZz4KICAgIDxnIGlkPSJ4dGlja18zIj4KICAgICA8ZyBpZD0ibGluZTJkXzMiPgogICAgICA8Zz4KICAgICAgIDx1c2Ugc3R5bGU9InN0cm9rZTojMDAwMDAwO3N0cm9rZS13aWR0aDowLjg7IiB4PSIxMzcuOTEyNzI3IiB4bGluazpocmVmPSIjbTYxODVmMmYyZWYiIHk9IjE5OC43MiIvPgogICAgICA8L2c+CiAgICAgPC9nPgogICAgIDxnIGlkPSJ0ZXh0XzMiPgogICAgICA8IS0tIDIwMCAtLT4KICAgICAgPGcgdHJhbnNmb3JtPSJ0cmFuc2xhdGUoMTI4LjM2ODk3NyAyMTMuMzE4NDM4KXNjYWxlKDAuMSAtMC4xKSI+CiAgICAgICA8ZGVmcz4KICAgICAgICA8cGF0aCBkPSJNIDE5LjE4NzUgOC4yOTY4NzUgCkwgNTMuNjA5Mzc1IDguMjk2ODc1IApMIDUzLjYwOTM3NSAwIApMIDcuMzI4MTI1IDAgCkwgNy4zMjgxMjUgOC4yOTY4NzUgClEgMTIuOTM3NSAxNC4xMDkzNzUgMjIuNjI1IDIzLjg5MDYyNSAKUSAzMi4zMjgxMjUgMzMuNjg3NSAzNC44MTI1IDM2LjUzMTI1IApRIDM5LjU0Njg3NSA0MS44NDM3NSA0MS40MjE4NzUgNDUuNTMxMjUgClEgNDMuMzEyNSA0OS4yMTg3NSA0My4zMTI1IDUyLjc4MTI1IApRIDQzLjMxMjUgNTguNTkzNzUgMzkuMjM0Mzc1IDYyLjI1IApRIDM1LjE1NjI1IDY1LjkyMTg3NSAyOC42MDkzNzUgNjUuOTIxODc1IApRIDIzLjk2ODc1IDY1LjkyMTg3NSAxOC44MTI1IDY0LjMxMjUgClEgMTMuNjcxODc1IDYyLjcwMzEyNSA3LjgxMjUgNTkuNDIxODc1IApMIDcuODEyNSA2OS4zOTA2MjUgClEgMTMuNzY1NjI1IDcxLjc4MTI1IDE4LjkzNzUgNzMgClEgMjQuMTI1IDc0LjIxODc1IDI4LjQyMTg3NSA3NC4yMTg3NSAKUSAzOS43NSA3NC4yMTg3NSA0Ni40ODQzNzUgNjguNTQ2ODc1IApRIDUzLjIxODc1IDYyLjg5MDYyNSA1My4yMTg3NSA1My40MjE4NzUgClEgNTMuMjE4NzUgNDguOTIxODc1IDUxLjUzMTI1IDQ0Ljg5MDYyNSAKUSA0OS44NTkzNzUgNDAuODc1IDQ1LjQwNjI1IDM1LjQwNjI1IApRIDQ0LjE4NzUgMzMuOTg0Mzc1IDM3LjY0MDYyNSAyNy4yMTg3NSAKUSAzMS4xMDkzNzUgMjAuNDUzMTI1IDE5LjE4NzUgOC4yOTY4NzUgCnoKIiBpZD0iRGVqYVZ1U2Fucy01MCIvPgogICAgICAgPC9kZWZzPgogICAgICAgPHVzZSB4bGluazpocmVmPSIjRGVqYVZ1U2Fucy01MCIvPgogICAgICAgPHVzZSB4PSI2My42MjMwNDciIHhsaW5rOmhyZWY9IiNEZWphVnVTYW5zLTQ4Ii8+CiAgICAgICA8dXNlIHg9IjEyNy4yNDYwOTQiIHhsaW5rOmhyZWY9IiNEZWphVnVTYW5zLTQ4Ii8+CiAgICAgIDwvZz4KICAgICA8L2c+CiAgICA8L2c+CiAgICA8ZyBpZD0ieHRpY2tfNCI+CiAgICAgPGcgaWQ9ImxpbmUyZF80Ij4KICAgICAgPGc+CiAgICAgICA8dXNlIHN0eWxlPSJzdHJva2U6IzAwMDAwMDtzdHJva2Utd2lkdGg6MC44OyIgeD0iMTgzLjIwNzI3MyIgeGxpbms6aHJlZj0iI202MTg1ZjJmMmVmIiB5PSIxOTguNzIiLz4KICAgICAgPC9nPgogICAgIDwvZz4KICAgICA8ZyBpZD0idGV4dF80Ij4KICAgICAgPCEtLSAzMDAgLS0+CiAgICAgIDxnIHRyYW5zZm9ybT0idHJhbnNsYXRlKDE3My42NjM1MjMgMjEzLjMxODQzOClzY2FsZSgwLjEgLTAuMSkiPgogICAgICAgPGRlZnM+CiAgICAgICAgPHBhdGggZD0iTSA0MC41NzgxMjUgMzkuMzEyNSAKUSA0Ny42NTYyNSAzNy43OTY4NzUgNTEuNjI1IDMzIApRIDU1LjYwOTM3NSAyOC4yMTg3NSA1NS42MDkzNzUgMjEuMTg3NSAKUSA1NS42MDkzNzUgMTAuNDA2MjUgNDguMTg3NSA0LjQ4NDM3NSAKUSA0MC43NjU2MjUgLTEuNDIxODc1IDI3LjA5Mzc1IC0xLjQyMTg3NSAKUSAyMi41MTU2MjUgLTEuNDIxODc1IDE3LjY1NjI1IC0wLjUxNTYyNSAKUSAxMi43OTY4NzUgMC4zOTA2MjUgNy42MjUgMi4yMDMxMjUgCkwgNy42MjUgMTEuNzE4NzUgClEgMTEuNzE4NzUgOS4zMjgxMjUgMTYuNTkzNzUgOC4xMDkzNzUgClEgMjEuNDg0Mzc1IDYuODkwNjI1IDI2LjgxMjUgNi44OTA2MjUgClEgMzYuMDc4MTI1IDYuODkwNjI1IDQwLjkzNzUgMTAuNTQ2ODc1IApRIDQ1Ljc5Njg3NSAxNC4yMDMxMjUgNDUuNzk2ODc1IDIxLjE4NzUgClEgNDUuNzk2ODc1IDI3LjY0MDYyNSA0MS4yODEyNSAzMS4yNjU2MjUgClEgMzYuNzY1NjI1IDM0LjkwNjI1IDI4LjcxODc1IDM0LjkwNjI1IApMIDIwLjIxODc1IDM0LjkwNjI1IApMIDIwLjIxODc1IDQzLjAxNTYyNSAKTCAyOS4xMDkzNzUgNDMuMDE1NjI1IApRIDM2LjM3NSA0My4wMTU2MjUgNDAuMjM0Mzc1IDQ1LjkyMTg3NSAKUSA0NC4wOTM3NSA0OC44MjgxMjUgNDQuMDkzNzUgNTQuMjk2ODc1IApRIDQ0LjA5Mzc1IDU5LjkwNjI1IDQwLjEwOTM3NSA2Mi45MDYyNSAKUSAzNi4xNDA2MjUgNjUuOTIxODc1IDI4LjcxODc1IDY1LjkyMTg3NSAKUSAyNC42NTYyNSA2NS45MjE4NzUgMjAuMDE1NjI1IDY1LjAzMTI1IApRIDE1LjM3NSA2NC4xNTYyNSA5LjgxMjUgNjIuMzEyNSAKTCA5LjgxMjUgNzEuMDkzNzUgClEgMTUuNDM3NSA3Mi42NTYyNSAyMC4zNDM3NSA3My40Mzc1IApRIDI1LjI1IDc0LjIxODc1IDI5LjU5Mzc1IDc0LjIxODc1IApRIDQwLjgyODEyNSA3NC4yMTg3NSA0Ny4zNTkzNzUgNjkuMTA5Mzc1IApRIDUzLjkwNjI1IDY0LjAxNTYyNSA1My45MDYyNSA1NS4zMjgxMjUgClEgNTMuOTA2MjUgNDkuMjY1NjI1IDUwLjQzNzUgNDUuMDkzNzUgClEgNDYuOTY4NzUgNDAuOTIxODc1IDQwLjU3ODEyNSAzOS4zMTI1IAp6CiIgaWQ9IkRlamFWdVNhbnMtNTEiLz4KICAgICAgIDwvZGVmcz4KICAgICAgIDx1c2UgeGxpbms6aHJlZj0iI0RlamFWdVNhbnMtNTEiLz4KICAgICAgIDx1c2UgeD0iNjMuNjIzMDQ3IiB4bGluazpocmVmPSIjRGVqYVZ1U2Fucy00OCIvPgogICAgICAgPHVzZSB4PSIxMjcuMjQ2MDk0IiB4bGluazpocmVmPSIjRGVqYVZ1U2Fucy00OCIvPgogICAgICA8L2c+CiAgICAgPC9nPgogICAgPC9nPgogICAgPGcgaWQ9Inh0aWNrXzUiPgogICAgIDxnIGlkPSJsaW5lMmRfNSI+CiAgICAgIDxnPgogICAgICAgPHVzZSBzdHlsZT0ic3Ryb2tlOiMwMDAwMDA7c3Ryb2tlLXdpZHRoOjAuODsiIHg9IjIyOC41MDE4MTgiIHhsaW5rOmhyZWY9IiNtNjE4NWYyZjJlZiIgeT0iMTk4LjcyIi8+CiAgICAgIDwvZz4KICAgICA8L2c+CiAgICAgPGcgaWQ9InRleHRfNSI+CiAgICAgIDwhLS0gNDAwIC0tPgogICAgICA8ZyB0cmFuc2Zvcm09InRyYW5zbGF0ZSgyMTguOTU4MDY4IDIxMy4zMTg0Mzgpc2NhbGUoMC4xIC0wLjEpIj4KICAgICAgIDxkZWZzPgogICAgICAgIDxwYXRoIGQ9Ik0gMzcuNzk2ODc1IDY0LjMxMjUgCkwgMTIuODkwNjI1IDI1LjM5MDYyNSAKTCAzNy43OTY4NzUgMjUuMzkwNjI1IAp6Ck0gMzUuMjAzMTI1IDcyLjkwNjI1IApMIDQ3LjYwOTM3NSA3Mi45MDYyNSAKTCA0Ny42MDkzNzUgMjUuMzkwNjI1IApMIDU4LjAxNTYyNSAyNS4zOTA2MjUgCkwgNTguMDE1NjI1IDE3LjE4NzUgCkwgNDcuNjA5Mzc1IDE3LjE4NzUgCkwgNDcuNjA5Mzc1IDAgCkwgMzcuNzk2ODc1IDAgCkwgMzcuNzk2ODc1IDE3LjE4NzUgCkwgNC44OTA2MjUgMTcuMTg3NSAKTCA0Ljg5MDYyNSAyNi43MDMxMjUgCnoKIiBpZD0iRGVqYVZ1U2Fucy01MiIvPgogICAgICAgPC9kZWZzPgogICAgICAgPHVzZSB4bGluazpocmVmPSIjRGVqYVZ1U2Fucy01MiIvPgogICAgICAgPHVzZSB4PSI2My42MjMwNDciIHhsaW5rOmhyZWY9IiNEZWphVnVTYW5zLTQ4Ii8+CiAgICAgICA8dXNlIHg9IjEyNy4yNDYwOTQiIHhsaW5rOmhyZWY9IiNEZWphVnVTYW5zLTQ4Ii8+CiAgICAgIDwvZz4KICAgICA8L2c+CiAgICA8L2c+CiAgICA8ZyBpZD0ieHRpY2tfNiI+CiAgICAgPGcgaWQ9ImxpbmUyZF82Ij4KICAgICAgPGc+CiAgICAgICA8dXNlIHN0eWxlPSJzdHJva2U6IzAwMDAwMDtzdHJva2Utd2lkdGg6MC44OyIgeD0iMjczLjc5NjM2NCIgeGxpbms6aHJlZj0iI202MTg1ZjJmMmVmIiB5PSIxOTguNzIiLz4KICAgICAgPC9nPgogICAgIDwvZz4KICAgICA8ZyBpZD0idGV4dF82Ij4KICAgICAgPCEtLSA1MDAgLS0+CiAgICAgIDxnIHRyYW5zZm9ybT0idHJhbnNsYXRlKDI2NC4yNTI2MTQgMjEzLjMxODQzOClzY2FsZSgwLjEgLTAuMSkiPgogICAgICAgPGRlZnM+CiAgICAgICAgPHBhdGggZD0iTSAxMC43OTY4NzUgNzIuOTA2MjUgCkwgNDkuNTE1NjI1IDcyLjkwNjI1IApMIDQ5LjUxNTYyNSA2NC41OTM3NSAKTCAxOS44MjgxMjUgNjQuNTkzNzUgCkwgMTkuODI4MTI1IDQ2LjczNDM3NSAKUSAyMS45Njg3NSA0Ny40Njg3NSAyNC4xMDkzNzUgNDcuODI4MTI1IApRIDI2LjI2NTYyNSA0OC4xODc1IDI4LjQyMTg3NSA0OC4xODc1IApRIDQwLjYyNSA0OC4xODc1IDQ3Ljc1IDQxLjUgClEgNTQuODkwNjI1IDM0LjgxMjUgNTQuODkwNjI1IDIzLjM5MDYyNSAKUSA1NC44OTA2MjUgMTEuNjI1IDQ3LjU2MjUgNS4wOTM3NSAKUSA0MC4yMzQzNzUgLTEuNDIxODc1IDI2LjkwNjI1IC0xLjQyMTg3NSAKUSAyMi4zMTI1IC0xLjQyMTg3NSAxNy41NDY4NzUgLTAuNjQwNjI1IApRIDEyLjc5Njg3NSAwLjE0MDYyNSA3LjcxODc1IDEuNzAzMTI1IApMIDcuNzE4NzUgMTEuNjI1IApRIDEyLjEwOTM3NSA5LjIzNDM3NSAxNi43OTY4NzUgOC4wNjI1IApRIDIxLjQ4NDM3NSA2Ljg5MDYyNSAyNi43MDMxMjUgNi44OTA2MjUgClEgMzUuMTU2MjUgNi44OTA2MjUgNDAuMDc4MTI1IDExLjMyODEyNSAKUSA0NS4wMTU2MjUgMTUuNzY1NjI1IDQ1LjAxNTYyNSAyMy4zOTA2MjUgClEgNDUuMDE1NjI1IDMxIDQwLjA3ODEyNSAzNS40Mzc1IApRIDM1LjE1NjI1IDM5Ljg5MDYyNSAyNi43MDMxMjUgMzkuODkwNjI1IApRIDIyLjc1IDM5Ljg5MDYyNSAxOC44MTI1IDM5LjAxNTYyNSAKUSAxNC44OTA2MjUgMzguMTQwNjI1IDEwLjc5Njg3NSAzNi4yODEyNSAKegoiIGlkPSJEZWphVnVTYW5zLTUzIi8+CiAgICAgICA8L2RlZnM+CiAgICAgICA8dXNlIHhsaW5rOmhyZWY9IiNEZWphVnVTYW5zLTUzIi8+CiAgICAgICA8dXNlIHg9IjYzLjYyMzA0NyIgeGxpbms6aHJlZj0iI0RlamFWdVNhbnMtNDgiLz4KICAgICAgIDx1c2UgeD0iMTI3LjI0NjA5NCIgeGxpbms6aHJlZj0iI0RlamFWdVNhbnMtNDgiLz4KICAgICAgPC9nPgogICAgIDwvZz4KICAgIDwvZz4KICAgPC9nPgogICA8ZyBpZD0ibWF0cGxvdGxpYi5heGlzXzIiPgogICAgPGcgaWQ9Inl0aWNrXzEiPgogICAgIDxnIGlkPSJsaW5lMmRfNyI+CiAgICAgIDxkZWZzPgogICAgICAgPHBhdGggZD0iTSAwIDAgCkwgLTMuNSAwIAoiIGlkPSJtMDczMjcxM2I0MyIgc3R5bGU9InN0cm9rZTojMDAwMDAwO3N0cm9rZS13aWR0aDowLjg7Ii8+CiAgICAgIDwvZGVmcz4KICAgICAgPGc+CiAgICAgICA8dXNlIHN0eWxlPSJzdHJva2U6IzAwMDAwMDtzdHJva2Utd2lkdGg6MC44OyIgeD0iMzYiIHhsaW5rOmhyZWY9IiNtMDczMjcxM2I0MyIgeT0iMTk4LjcyIi8+CiAgICAgIDwvZz4KICAgICA8L2c+CiAgICAgPGcgaWQ9InRleHRfNyI+CiAgICAgIDwhLS0gMCAtLT4KICAgICAgPGcgdHJhbnNmb3JtPSJ0cmFuc2xhdGUoMjIuNjM3NSAyMDIuNTE5MjE5KXNjYWxlKDAuMSAtMC4xKSI+CiAgICAgICA8dXNlIHhsaW5rOmhyZWY9IiNEZWphVnVTYW5zLTQ4Ii8+CiAgICAgIDwvZz4KICAgICA8L2c+CiAgICA8L2c+CiAgICA8ZyBpZD0ieXRpY2tfMiI+CiAgICAgPGcgaWQ9ImxpbmUyZF84Ij4KICAgICAgPGc+CiAgICAgICA8dXNlIHN0eWxlPSJzdHJva2U6IzAwMDAwMDtzdHJva2Utd2lkdGg6MC44OyIgeD0iMzYiIHhsaW5rOmhyZWY9IiNtMDczMjcxM2I0MyIgeT0iMTYwLjEyMjA2MiIvPgogICAgICA8L2c+CiAgICAgPC9nPgogICAgIDxnIGlkPSJ0ZXh0XzgiPgogICAgICA8IS0tIDIwIC0tPgogICAgICA8ZyB0cmFuc2Zvcm09InRyYW5zbGF0ZSgxNi4yNzUgMTYzLjkyMTI4MSlzY2FsZSgwLjEgLTAuMSkiPgogICAgICAgPHVzZSB4bGluazpocmVmPSIjRGVqYVZ1U2Fucy01MCIvPgogICAgICAgPHVzZSB4PSI2My42MjMwNDciIHhsaW5rOmhyZWY9IiNEZWphVnVTYW5zLTQ4Ii8+CiAgICAgIDwvZz4KICAgICA8L2c+CiAgICA8L2c+CiAgICA8ZyBpZD0ieXRpY2tfMyI+CiAgICAgPGcgaWQ9ImxpbmUyZF85Ij4KICAgICAgPGc+CiAgICAgICA8dXNlIHN0eWxlPSJzdHJva2U6IzAwMDAwMDtzdHJva2Utd2lkdGg6MC44OyIgeD0iMzYiIHhsaW5rOmhyZWY9IiNtMDczMjcxM2I0MyIgeT0iMTIxLjUyNDEyNCIvPgogICAgICA8L2c+CiAgICAgPC9nPgogICAgIDxnIGlkPSJ0ZXh0XzkiPgogICAgICA8IS0tIDQwIC0tPgogICAgICA8ZyB0cmFuc2Zvcm09InRyYW5zbGF0ZSgxNi4yNzUgMTI1LjMyMzM0MilzY2FsZSgwLjEgLTAuMSkiPgogICAgICAgPHVzZSB4bGluazpocmVmPSIjRGVqYVZ1U2Fucy01MiIvPgogICAgICAgPHVzZSB4PSI2My42MjMwNDciIHhsaW5rOmhyZWY9IiNEZWphVnVTYW5zLTQ4Ii8+CiAgICAgIDwvZz4KICAgICA8L2c+CiAgICA8L2c+CiAgICA8ZyBpZD0ieXRpY2tfNCI+CiAgICAgPGcgaWQ9ImxpbmUyZF8xMCI+CiAgICAgIDxnPgogICAgICAgPHVzZSBzdHlsZT0ic3Ryb2tlOiMwMDAwMDA7c3Ryb2tlLXdpZHRoOjAuODsiIHg9IjM2IiB4bGluazpocmVmPSIjbTA3MzI3MTNiNDMiIHk9IjgyLjkyNjE4NiIvPgogICAgICA8L2c+CiAgICAgPC9nPgogICAgIDxnIGlkPSJ0ZXh0XzEwIj4KICAgICAgPCEtLSA2MCAtLT4KICAgICAgPGcgdHJhbnNmb3JtPSJ0cmFuc2xhdGUoMTYuMjc1IDg2LjcyNTQwNClzY2FsZSgwLjEgLTAuMSkiPgogICAgICAgPGRlZnM+CiAgICAgICAgPHBhdGggZD0iTSAzMy4wMTU2MjUgNDAuMzc1IApRIDI2LjM3NSA0MC4zNzUgMjIuNDg0Mzc1IDM1LjgyODEyNSAKUSAxOC42MDkzNzUgMzEuMjk2ODc1IDE4LjYwOTM3NSAyMy4zOTA2MjUgClEgMTguNjA5Mzc1IDE1LjUzMTI1IDIyLjQ4NDM3NSAxMC45NTMxMjUgClEgMjYuMzc1IDYuMzkwNjI1IDMzLjAxNTYyNSA2LjM5MDYyNSAKUSAzOS42NTYyNSA2LjM5MDYyNSA0My41MzEyNSAxMC45NTMxMjUgClEgNDcuNDA2MjUgMTUuNTMxMjUgNDcuNDA2MjUgMjMuMzkwNjI1IApRIDQ3LjQwNjI1IDMxLjI5Njg3NSA0My41MzEyNSAzNS44MjgxMjUgClEgMzkuNjU2MjUgNDAuMzc1IDMzLjAxNTYyNSA0MC4zNzUgCnoKTSA1Mi41OTM3NSA3MS4yOTY4NzUgCkwgNTIuNTkzNzUgNjIuMzEyNSAKUSA0OC44NzUgNjQuMDYyNSA0NS4wOTM3NSA2NC45ODQzNzUgClEgNDEuMzEyNSA2NS45MjE4NzUgMzcuNTkzNzUgNjUuOTIxODc1IApRIDI3LjgyODEyNSA2NS45MjE4NzUgMjIuNjcxODc1IDU5LjMyODEyNSAKUSAxNy41MzEyNSA1Mi43MzQzNzUgMTYuNzk2ODc1IDM5LjQwNjI1IApRIDE5LjY3MTg3NSA0My42NTYyNSAyNC4wMTU2MjUgNDUuOTIxODc1IApRIDI4LjM3NSA0OC4xODc1IDMzLjU5Mzc1IDQ4LjE4NzUgClEgNDQuNTc4MTI1IDQ4LjE4NzUgNTAuOTUzMTI1IDQxLjUxNTYyNSAKUSA1Ny4zMjgxMjUgMzQuODU5Mzc1IDU3LjMyODEyNSAyMy4zOTA2MjUgClEgNTcuMzI4MTI1IDEyLjE1NjI1IDUwLjY4NzUgNS4zNTkzNzUgClEgNDQuMDQ2ODc1IC0xLjQyMTg3NSAzMy4wMTU2MjUgLTEuNDIxODc1IApRIDIwLjM1OTM3NSAtMS40MjE4NzUgMTMuNjcxODc1IDguMjY1NjI1IApRIDYuOTg0Mzc1IDE3Ljk2ODc1IDYuOTg0Mzc1IDM2LjM3NSAKUSA2Ljk4NDM3NSA1My42NTYyNSAxNS4xODc1IDYzLjkzNzUgClEgMjMuMzkwNjI1IDc0LjIxODc1IDM3LjIwMzEyNSA3NC4yMTg3NSAKUSA0MC45MjE4NzUgNzQuMjE4NzUgNDQuNzAzMTI1IDczLjQ4NDM3NSAKUSA0OC40ODQzNzUgNzIuNzUgNTIuNTkzNzUgNzEuMjk2ODc1IAp6CiIgaWQ9IkRlamFWdVNhbnMtNTQiLz4KICAgICAgIDwvZGVmcz4KICAgICAgIDx1c2UgeGxpbms6aHJlZj0iI0RlamFWdVNhbnMtNTQiLz4KICAgICAgIDx1c2UgeD0iNjMuNjIzMDQ3IiB4bGluazpocmVmPSIjRGVqYVZ1U2Fucy00OCIvPgogICAgICA8L2c+CiAgICAgPC9nPgogICAgPC9nPgogICAgPGcgaWQ9Inl0aWNrXzUiPgogICAgIDxnIGlkPSJsaW5lMmRfMTEiPgogICAgICA8Zz4KICAgICAgIDx1c2Ugc3R5bGU9InN0cm9rZTojMDAwMDAwO3N0cm9rZS13aWR0aDowLjg7IiB4PSIzNiIgeGxpbms6aHJlZj0iI20wNzMyNzEzYjQzIiB5PSI0NC4zMjgyNDciLz4KICAgICAgPC9nPgogICAgIDwvZz4KICAgICA8ZyBpZD0idGV4dF8xMSI+CiAgICAgIDwhLS0gODAgLS0+CiAgICAgIDxnIHRyYW5zZm9ybT0idHJhbnNsYXRlKDE2LjI3NSA0OC4xMjc0NjYpc2NhbGUoMC4xIC0wLjEpIj4KICAgICAgIDxkZWZzPgogICAgICAgIDxwYXRoIGQ9Ik0gMzEuNzgxMjUgMzQuNjI1IApRIDI0Ljc1IDM0LjYyNSAyMC43MTg3NSAzMC44NTkzNzUgClEgMTYuNzAzMTI1IDI3LjA5Mzc1IDE2LjcwMzEyNSAyMC41MTU2MjUgClEgMTYuNzAzMTI1IDEzLjkyMTg3NSAyMC43MTg3NSAxMC4xNTYyNSAKUSAyNC43NSA2LjM5MDYyNSAzMS43ODEyNSA2LjM5MDYyNSAKUSAzOC44MTI1IDYuMzkwNjI1IDQyLjg1OTM3NSAxMC4xNzE4NzUgClEgNDYuOTIxODc1IDEzLjk2ODc1IDQ2LjkyMTg3NSAyMC41MTU2MjUgClEgNDYuOTIxODc1IDI3LjA5Mzc1IDQyLjg5MDYyNSAzMC44NTkzNzUgClEgMzguODc1IDM0LjYyNSAzMS43ODEyNSAzNC42MjUgCnoKTSAyMS45MjE4NzUgMzguODEyNSAKUSAxNS41NzgxMjUgNDAuMzc1IDEyLjAzMTI1IDQ0LjcxODc1IApRIDguNSA0OS4wNzgxMjUgOC41IDU1LjMyODEyNSAKUSA4LjUgNjQuMDYyNSAxNC43MTg3NSA2OS4xNDA2MjUgClEgMjAuOTUzMTI1IDc0LjIxODc1IDMxLjc4MTI1IDc0LjIxODc1IApRIDQyLjY3MTg3NSA3NC4yMTg3NSA0OC44NzUgNjkuMTQwNjI1IApRIDU1LjA3ODEyNSA2NC4wNjI1IDU1LjA3ODEyNSA1NS4zMjgxMjUgClEgNTUuMDc4MTI1IDQ5LjA3ODEyNSA1MS41MzEyNSA0NC43MTg3NSAKUSA0OCA0MC4zNzUgNDEuNzAzMTI1IDM4LjgxMjUgClEgNDguODI4MTI1IDM3LjE1NjI1IDUyLjc5Njg3NSAzMi4zMTI1IApRIDU2Ljc4MTI1IDI3LjQ4NDM3NSA1Ni43ODEyNSAyMC41MTU2MjUgClEgNTYuNzgxMjUgOS45MDYyNSA1MC4zMTI1IDQuMjM0Mzc1IApRIDQzLjg0Mzc1IC0xLjQyMTg3NSAzMS43ODEyNSAtMS40MjE4NzUgClEgMTkuNzM0Mzc1IC0xLjQyMTg3NSAxMy4yNSA0LjIzNDM3NSAKUSA2Ljc4MTI1IDkuOTA2MjUgNi43ODEyNSAyMC41MTU2MjUgClEgNi43ODEyNSAyNy40ODQzNzUgMTAuNzgxMjUgMzIuMzEyNSAKUSAxNC43OTY4NzUgMzcuMTU2MjUgMjEuOTIxODc1IDM4LjgxMjUgCnoKTSAxOC4zMTI1IDU0LjM5MDYyNSAKUSAxOC4zMTI1IDQ4LjczNDM3NSAyMS44NDM3NSA0NS41NjI1IApRIDI1LjM5MDYyNSA0Mi4zOTA2MjUgMzEuNzgxMjUgNDIuMzkwNjI1IApRIDM4LjE0MDYyNSA0Mi4zOTA2MjUgNDEuNzE4NzUgNDUuNTYyNSAKUSA0NS4zMTI1IDQ4LjczNDM3NSA0NS4zMTI1IDU0LjM5MDYyNSAKUSA0NS4zMTI1IDYwLjA2MjUgNDEuNzE4NzUgNjMuMjM0Mzc1IApRIDM4LjE0MDYyNSA2Ni40MDYyNSAzMS43ODEyNSA2Ni40MDYyNSAKUSAyNS4zOTA2MjUgNjYuNDA2MjUgMjEuODQzNzUgNjMuMjM0Mzc1IApRIDE4LjMxMjUgNjAuMDYyNSAxOC4zMTI1IDU0LjM5MDYyNSAKegoiIGlkPSJEZWphVnVTYW5zLTU2Ii8+CiAgICAgICA8L2RlZnM+CiAgICAgICA8dXNlIHhsaW5rOmhyZWY9IiNEZWphVnVTYW5zLTU2Ii8+CiAgICAgICA8dXNlIHg9IjYzLjYyMzA0NyIgeGxpbms6aHJlZj0iI0RlamFWdVNhbnMtNDgiLz4KICAgICAgPC9nPgogICAgIDwvZz4KICAgIDwvZz4KICAgIDxnIGlkPSJ5dGlja182Ij4KICAgICA8ZyBpZD0ibGluZTJkXzEyIj4KICAgICAgPGc+CiAgICAgICA8dXNlIHN0eWxlPSJzdHJva2U6IzAwMDAwMDtzdHJva2Utd2lkdGg6MC44OyIgeD0iMzYiIHhsaW5rOmhyZWY9IiNtMDczMjcxM2I0MyIgeT0iNS43MzAzMDkiLz4KICAgICAgPC9nPgogICAgIDwvZz4KICAgICA8ZyBpZD0idGV4dF8xMiI+CiAgICAgIDwhLS0gMTAwIC0tPgogICAgICA8ZyB0cmFuc2Zvcm09InRyYW5zbGF0ZSg5LjkxMjUgOS41Mjk1Mjgpc2NhbGUoMC4xIC0wLjEpIj4KICAgICAgIDx1c2UgeGxpbms6aHJlZj0iI0RlamFWdVNhbnMtNDkiLz4KICAgICAgIDx1c2UgeD0iNjMuNjIzMDQ3IiB4bGluazpocmVmPSIjRGVqYVZ1U2Fucy00OCIvPgogICAgICAgPHVzZSB4PSIxMjcuMjQ2MDk0IiB4bGluazpocmVmPSIjRGVqYVZ1U2Fucy00OCIvPgogICAgICA8L2c+CiAgICAgPC9nPgogICAgPC9nPgogICA8L2c+CiAgIDxnIGlkPSJwYXRjaF8zIj4KICAgIDxwYXRoIGNsaXAtcGF0aD0idXJsKCNwYWZjNTNjODliZikiIGQ9Ik0gNDcuMzIzNjM2IDE5OC43MiAKTCA0Ny4zMjM2MzYgMTU2LjI4MTU2NyAKTCA0OS41ODgzNjQgMTU2LjI4MTU2NyAKTCA0OS41ODgzNjQgMTE1LjczNDQzMyAKTCA1MS44NTMwOTEgMTE1LjczNDQzMyAKTCA1MS44NTMwOTEgNzMuMjc2NzAxIApMIDU0LjExNzgxOCA3My4yNzY3MDEgCkwgNTQuMTE3ODE4IDg0Ljg1NjA4MiAKTCA1Ni4zODI1NDUgODQuODU2MDgyIApMIDU2LjM4MjU0NSA0MC40Njg0NTQgCkwgNTguNjQ3MjczIDQwLjQ2ODQ1NCAKTCA1OC42NDcyNzMgMTkuMjU4ODkxIApMIDYwLjkxMiAxOS4yNTg4OTEgCkwgNjAuOTEyIDI4Ljg4OTA3MiAKTCA2My4xNzY3MjcgMjguODg5MDcyIApMIDYzLjE3NjcyNyAxMS41MiAKTCA2NS40NDE0NTUgMTEuNTIgCkwgNjUuNDQxNDU1IDI4Ljg4OTA3MiAKTCA2Ny43MDYxODIgMjguODg5MDcyIApMIDY3LjcwNjE4MiAxOS4yMzk1ODggCkwgNjkuOTcwOTA5IDE5LjIzOTU4OCAKTCA2OS45NzA5MDkgNTIuMDQ3ODM1IApMIDcyLjIzNTYzNiA1Mi4wNDc4MzUgCkwgNzIuMjM1NjM2IDI4Ljg4OTA3MiAKTCA3NC41MDAzNjQgMjguODg5MDcyIApMIDc0LjUwMDM2NCA2My42NDY1MiAKTCA3Ni43NjUwOTEgNjMuNjQ2NTIgCkwgNzYuNzY1MDkxIDgwLjk5NjI4OSAKTCA3OS4wMjk4MTggODAuOTk2Mjg5IApMIDc5LjAyOTgxOCA3Ny4xNTU3OTEgCkwgODEuMjk0NTQ1IDc3LjE1NTc5MSAKTCA4MS4yOTQ1NDUgOTQuNTI0ODYzIApMIDgzLjU1OTI3MyA5NC41MjQ4NjMgCkwgODMuNTU5MjczIDEzMS4xNzM2MDggCkwgODUuODI0IDEzMS4xNzM2MDggCkwgODUuODI0IDEwOS45NDQ3NDIgCkwgODguMDg4NzI3IDEwOS45NDQ3NDIgCkwgODguMDg4NzI3IDEzNS4wMzM0MDIgCkwgOTAuMzUzNDU1IDEzNS4wMzM0MDIgCkwgOTAuMzUzNDU1IDE0MC44MjMwOTMgCkwgOTIuNjE4MTgyIDE0MC44MjMwOTMgCkwgOTIuNjE4MTgyIDEzOC44OTMxOTYgCkwgOTQuODgyOTA5IDEzOC44OTMxOTYgCkwgOTQuODgyOTA5IDEyNy4zMzMxMSAKTCA5Ny4xNDc2MzYgMTI3LjMzMzExIApMIDk3LjE0NzYzNiAxNjIuMDUxOTU5IApMIDk5LjQxMjM2NCAxNjIuMDUxOTU5IApMIDk5LjQxMjM2NCAxNjcuODQxNjQ5IApMIDEwMS42NzcwOTEgMTY3Ljg0MTY0OSAKTCAxMDEuNjc3MDkxIDE1NC4zMzIzNzEgCkwgMTAzLjk0MTgxOCAxNTQuMzMyMzcxIApMIDEwMy45NDE4MTggMTQ0LjcwMjE4NiAKTCAxMDYuMjA2NTQ1IDE0NC43MDIxODYgCkwgMTA2LjIwNjU0NSAxNTguMTkyMTY1IApMIDEwOC40NzEyNzMgMTU4LjE5MjE2NSAKTCAxMDguNDcxMjczIDE3MS43MDE0NDMgCkwgMTEwLjczNiAxNzEuNzAxNDQzIApMIDExMC43MzYgMTY3Ljg0MTY0OSAKTCAxMTMuMDAwNzI3IDE2Ny44NDE2NDkgCkwgMTEzLjAwMDcyNyAxODcuMTQwNjE5IApMIDExNS4yNjU0NTUgMTg3LjE0MDYxOSAKTCAxMTUuMjY1NDU1IDE2OS43NzE1NDYgCkwgMTE3LjUzMDE4MiAxNjkuNzcxNTQ2IApMIDExNy41MzAxODIgMTc5LjQ0MDMzIApMIDExOS43OTQ5MDkgMTc5LjQ0MDMzIApMIDExOS43OTQ5MDkgMTcxLjcwMTQ0MyAKTCAxMjIuMDU5NjM2IDE3MS43MDE0NDMgCkwgMTIyLjA1OTYzNiAxODcuMTQwNjE5IApMIDEyNi41ODkwOTEgMTg3LjE0MDYxOSAKTCAxMjYuNTg5MDkxIDE4NS4yMTA3MjIgCkwgMTI4Ljg1MzgxOCAxODUuMjEwNzIyIApMIDEyOC44NTM4MTggMTg5LjA4OTgxNSAKTCAxMzEuMTE4NTQ1IDE4OS4wODk4MTUgCkwgMTMxLjExODU0NSAxODcuMTQwNjE5IApMIDEzMy4zODMyNzMgMTg3LjE0MDYxOSAKTCAxMzMuMzgzMjczIDE5MS4wMDA0MTIgCkwgMTM1LjY0OCAxOTEuMDAwNDEyIApMIDEzNS42NDggMTg5LjA3MDUxNSAKTCAxMzcuOTEyNzI3IDE4OS4wNzA1MTUgCkwgMTM3LjkxMjcyNyAxNzkuNDIxMDMxIApMIDE0MC4xNzc0NTUgMTc5LjQyMTAzMSAKTCAxNDAuMTc3NDU1IDE5MS4wMDA0MTIgCkwgMTQyLjQ0MjE4MiAxOTEuMDAwNDEyIApMIDE0Mi40NDIxODIgMTkyLjkzMDMwOSAKTCAxNDkuMjM2MzY0IDE5Mi45MzAzMDkgCkwgMTQ5LjIzNjM2NCAxODMuMjgwODI1IApMIDE1MS41MDEwOTEgMTgzLjI4MDgyNSAKTCAxNTEuNTAxMDkxIDE5NC44NjAyMDYgCkwgMTUzLjc2NTgxOCAxOTQuODYwMjA2IApMIDE1My43NjU4MTggMTkxLjAwMDQxMiAKTCAxNTYuMDMwNTQ1IDE5MS4wMDA0MTIgCkwgMTU2LjAzMDU0NSAxOTQuODYwMjA2IApMIDE1OC4yOTUyNzMgMTk0Ljg2MDIwNiAKTCAxNTguMjk1MjczIDE5Mi45MzAzMDkgCkwgMTYwLjU2IDE5Mi45MzAzMDkgCkwgMTYwLjU2IDE5Ni43OTAxMDMgCkwgMTYyLjgyNDcyNyAxOTYuNzkwMTAzIApMIDE2Mi44MjQ3MjcgMTk0Ljg2MDIwNiAKTCAxNjUuMDg5NDU1IDE5NC44NjAyMDYgCkwgMTY1LjA4OTQ1NSAxODkuMDcwNTE1IApMIDE2OS42MTg5MDkgMTg5LjA3MDUxNSAKTCAxNjkuNjE4OTA5IDE5OC43MiAKTCAxNzEuODgzNjM2IDE5OC43MiAKTCAxNzEuODgzNjM2IDE5Ni43OTAxMDMgCkwgMTc2LjQxMzA5MSAxOTYuNzkwMTAzIApMIDE3Ni40MTMwOTEgMTk4LjcyIApMIDE4My4yMDcyNzMgMTk4LjcyIApMIDE4My4yMDcyNzMgMTk2Ljc5MDEwMyAKTCAxODUuNDcyIDE5Ni43OTAxMDMgCkwgMTg1LjQ3MiAxOTguNzIgCkwgMTg3LjczNjcyNyAxOTguNzIgCkwgMTg3LjczNjcyNyAxOTQuODYwMjA2IApMIDE5NC41MzA5MDkgMTk0Ljg2MDIwNiAKTCAxOTQuNTMwOTA5IDE5Ni43OTAxMDMgCkwgMTk5LjA2MDM2NCAxOTYuNzkwMTAzIApMIDE5OS4wNjAzNjQgMTkyLjk0OTYwOCAKTCAyMDEuMzI1MDkxIDE5Mi45NDk2MDggCkwgMjAxLjMyNTA5MSAxOTYuNzkwMTAzIApMIDIwMy41ODk4MTggMTk2Ljc5MDEwMyAKTCAyMDMuNTg5ODE4IDE5OC43MiAKTCAyMDguMTE5MjczIDE5OC43MiAKTCAyMDguMTE5MjczIDE5Ni43OTAxMDMgCkwgMjEwLjM4NCAxOTYuNzkwMTAzIApMIDIxMC4zODQgMTk4LjcyIApMIDIxNy4xNzgxODIgMTk4LjcyIApMIDIxNy4xNzgxODIgMTk0Ljg2MDIwNiAKTCAyMTkuNDQyOTA5IDE5NC44NjAyMDYgCkwgMjE5LjQ0MjkwOSAxOTguNzIgCkwgMjIzLjk3MjM2NCAxOTguNzIgCkwgMjIzLjk3MjM2NCAxOTYuNzkwMTAzIApMIDIyNi4yMzcwOTEgMTk2Ljc5MDEwMyAKTCAyMjYuMjM3MDkxIDE5NC44NjAyMDYgCkwgMjI4LjUwMTgxOCAxOTQuODYwMjA2IApMIDIyOC41MDE4MTggMTk4LjcyIApMIDI0NC4zNTQ5MDkgMTk4LjcyIApMIDI0NC4zNTQ5MDkgMTk2Ljc5MDEwMyAKTCAyNDYuNjE5NjM2IDE5Ni43OTAxMDMgCkwgMjQ2LjYxOTYzNiAxOTguNzIgCkwgMjU1LjY3ODU0NSAxOTguNzIgCkwgMjU1LjY3ODU0NSAxOTYuNzkwMTAzIApMIDI1Ny45NDMyNzMgMTk2Ljc5MDEwMyAKTCAyNTcuOTQzMjczIDE5OC43MiAKTCAyNzEuNTMxNjM2IDE5OC43MiAKTCAyNzEuNTMxNjM2IDE3Ny40OTExMzQgCkwgMjczLjc5NjM2NCAxNzcuNDkxMTM0IApMIDI3My43OTYzNjQgMTk4LjcyIApMIDI3My43OTYzNjQgMTk4LjcyIAoiIHN0eWxlPSJmaWxsOm5vbmU7c3Ryb2tlOiMxZjc3YjQ7c3Ryb2tlLWxpbmVqb2luOm1pdGVyOyIvPgogICA8L2c+CiAgIDxnIGlkPSJwYXRjaF80Ij4KICAgIDxwYXRoIGQ9Ik0gMzYgMTk4LjcyIApMIDM2IDIuMTYgCiIgc3R5bGU9ImZpbGw6bm9uZTtzdHJva2U6IzAwMDAwMDtzdHJva2UtbGluZWNhcDpzcXVhcmU7c3Ryb2tlLWxpbmVqb2luOm1pdGVyO3N0cm9rZS13aWR0aDowLjg7Ii8+CiAgIDwvZz4KICAgPGcgaWQ9InBhdGNoXzUiPgogICAgPHBhdGggZD0iTSAyODUuMTIgMTk4LjcyIApMIDI4NS4xMiAyLjE2IAoiIHN0eWxlPSJmaWxsOm5vbmU7c3Ryb2tlOiMwMDAwMDA7c3Ryb2tlLWxpbmVjYXA6c3F1YXJlO3N0cm9rZS1saW5lam9pbjptaXRlcjtzdHJva2Utd2lkdGg6MC44OyIvPgogICA8L2c+CiAgIDxnIGlkPSJwYXRjaF82Ij4KICAgIDxwYXRoIGQ9Ik0gMzYgMTk4LjcyIApMIDI4NS4xMiAxOTguNzIgCiIgc3R5bGU9ImZpbGw6bm9uZTtzdHJva2U6IzAwMDAwMDtzdHJva2UtbGluZWNhcDpzcXVhcmU7c3Ryb2tlLWxpbmVqb2luOm1pdGVyO3N0cm9rZS13aWR0aDowLjg7Ii8+CiAgIDwvZz4KICAgPGcgaWQ9InBhdGNoXzciPgogICAgPHBhdGggZD0iTSAzNiAyLjE2IApMIDI4NS4xMiAyLjE2IAoiIHN0eWxlPSJmaWxsOm5vbmU7c3Ryb2tlOiMwMDAwMDA7c3Ryb2tlLWxpbmVjYXA6c3F1YXJlO3N0cm9rZS1saW5lam9pbjptaXRlcjtzdHJva2Utd2lkdGg6MC44OyIvPgogICA8L2c+CiAgIDxnIGlkPSJsZWdlbmRfMSI+CiAgICA8ZyBpZD0icGF0Y2hfOCI+CiAgICAgPHBhdGggZD0iTSAyMjUuMDY1MzEzIDI0LjgzODEyNSAKTCAyNzguMTIgMjQuODM4MTI1IApRIDI4MC4xMiAyNC44MzgxMjUgMjgwLjEyIDIyLjgzODEyNSAKTCAyODAuMTIgOS4xNiAKUSAyODAuMTIgNy4xNiAyNzguMTIgNy4xNiAKTCAyMjUuMDY1MzEzIDcuMTYgClEgMjIzLjA2NTMxMyA3LjE2IDIyMy4wNjUzMTMgOS4xNiAKTCAyMjMuMDY1MzEzIDIyLjgzODEyNSAKUSAyMjMuMDY1MzEzIDI0LjgzODEyNSAyMjUuMDY1MzEzIDI0LjgzODEyNSAKegoiIHN0eWxlPSJmaWxsOiNmZmZmZmY7b3BhY2l0eTowLjg7c3Ryb2tlOiNjY2NjY2M7c3Ryb2tlLWxpbmVqb2luOm1pdGVyOyIvPgogICAgPC9nPgogICAgPGcgaWQ9InBhdGNoXzkiPgogICAgIDxwYXRoIGQ9Ik0gMjI3LjA2NTMxMyAxOC43NTg0MzcgCkwgMjQ3LjA2NTMxMyAxOC43NTg0MzcgCkwgMjQ3LjA2NTMxMyAxMS43NTg0MzcgCkwgMjI3LjA2NTMxMyAxMS43NTg0MzcgCnoKIiBzdHlsZT0iZmlsbDpub25lO3N0cm9rZTojMWY3N2I0O3N0cm9rZS1saW5lam9pbjptaXRlcjsiLz4KICAgIDwvZz4KICAgIDxnIGlkPSJ0ZXh0XzEzIj4KICAgICA8IS0tIE1FVCAtLT4KICAgICA8ZyB0cmFuc2Zvcm09InRyYW5zbGF0ZSgyNTUuMDY1MzEzIDE4Ljc1ODQzNylzY2FsZSgwLjEgLTAuMSkiPgogICAgICA8ZGVmcz4KICAgICAgIDxwYXRoIGQ9Ik0gOS44MTI1IDcyLjkwNjI1IApMIDI0LjUxNTYyNSA3Mi45MDYyNSAKTCA0My4xMDkzNzUgMjMuMjk2ODc1IApMIDYxLjgxMjUgNzIuOTA2MjUgCkwgNzYuNTE1NjI1IDcyLjkwNjI1IApMIDc2LjUxNTYyNSAwIApMIDY2Ljg5MDYyNSAwIApMIDY2Ljg5MDYyNSA2NC4wMTU2MjUgCkwgNDguMDkzNzUgMTQuMDE1NjI1IApMIDM4LjE4NzUgMTQuMDE1NjI1IApMIDE5LjM5MDYyNSA2NC4wMTU2MjUgCkwgMTkuMzkwNjI1IDAgCkwgOS44MTI1IDAgCnoKIiBpZD0iRGVqYVZ1U2Fucy03NyIvPgogICAgICAgPHBhdGggZD0iTSA5LjgxMjUgNzIuOTA2MjUgCkwgNTUuOTA2MjUgNzIuOTA2MjUgCkwgNTUuOTA2MjUgNjQuNTkzNzUgCkwgMTkuNjcxODc1IDY0LjU5Mzc1IApMIDE5LjY3MTg3NSA0My4wMTU2MjUgCkwgNTQuMzkwNjI1IDQzLjAxNTYyNSAKTCA1NC4zOTA2MjUgMzQuNzE4NzUgCkwgMTkuNjcxODc1IDM0LjcxODc1IApMIDE5LjY3MTg3NSA4LjI5Njg3NSAKTCA1Ni43ODEyNSA4LjI5Njg3NSAKTCA1Ni43ODEyNSAwIApMIDkuODEyNSAwIAp6CiIgaWQ9IkRlamFWdVNhbnMtNjkiLz4KICAgICAgIDxwYXRoIGQ9Ik0gLTAuMjk2ODc1IDcyLjkwNjI1IApMIDYxLjM3NSA3Mi45MDYyNSAKTCA2MS4zNzUgNjQuNTkzNzUgCkwgMzUuNSA2NC41OTM3NSAKTCAzNS41IDAgCkwgMjUuNTkzNzUgMCAKTCAyNS41OTM3NSA2NC41OTM3NSAKTCAtMC4yOTY4NzUgNjQuNTkzNzUgCnoKIiBpZD0iRGVqYVZ1U2Fucy04NCIvPgogICAgICA8L2RlZnM+CiAgICAgIDx1c2UgeGxpbms6aHJlZj0iI0RlamFWdVNhbnMtNzciLz4KICAgICAgPHVzZSB4PSI4Ni4yNzkyOTciIHhsaW5rOmhyZWY9IiNEZWphVnVTYW5zLTY5Ii8+CiAgICAgIDx1c2UgeD0iMTQ5LjQ2Mjg5MSIgeGxpbms6aHJlZj0iI0RlamFWdVNhbnMtODQiLz4KICAgICA8L2c+CiAgICA8L2c+CiAgIDwvZz4KICA8L2c+CiA8L2c+CiA8ZGVmcz4KICA8Y2xpcFBhdGggaWQ9InBhZmM1M2M4OWJmIj4KICAgPHJlY3QgaGVpZ2h0PSIxOTYuNTYiIHdpZHRoPSIyNDkuMTIiIHg9IjM2IiB5PSIyLjE2Ii8+CiAgPC9jbGlwUGF0aD4KIDwvZGVmcz4KPC9zdmc+Cg=='/>\n",
       "            </div>\n",
       "            </div>\n",
       "        </div>\n",
       "        "
      ],
      "text/plain": [
       "[21.99 ± 4.69   43.00 ± 6.56   65.00 ± 8.06   59.00 ± 7.68   82.00 ± 9.06\n",
       " 92.99 ± 9.64   88.00 ± 9.38   97.00 ± 9.85   88.00 ± 9.38   93.00 ± 9.64\n",
       " 76.00 ± 8.72   88.00 ± 9.38   69.99 ± 8.37   61.00 ± 7.81   62.99 ± 7.94\n",
       " 53.99 ± 7.35   35.00 ± 5.92   46.00 ± 6.78   33.00 ± 5.74   30.00 ± 5.48\n",
       " 31.00 ± 5.57   36.99 ± 6.08   19.00 ± 4.36   16.00 ± 4.00   23.00 ± 4.80\n",
       " 27.99 ± 5.29   21.00 ± 4.58   14.00 ± 3.74   16.00 ± 4.00    6.00 ± 2.45\n",
       " 15.00 ± 3.87    9.99 ± 3.16   14.00 ± 3.74    6.00 ± 2.45    6.00 ± 2.45\n",
       "  7.00 ± 2.65    4.99 ± 2.23    6.00 ± 2.45    4.00 ± 2.00    5.00 ± 2.24\n",
       " 10.00 ± 3.16    4.00 ± 2.00    3.00 ± 1.73    3.00 ± 1.73    3.00 ± 1.73\n",
       "  8.00 ± 2.83    2.00 ± 1.41    4.00 ± 2.00    2.00 ± 1.41    3.00 ± 1.73\n",
       "  1.00 ± 1.00    2.00 ± 1.41    5.00 ± 2.24    5.00 ± 2.24    0.00 ± 0.00\n",
       "  1.00 ± 1.00    1.00 ± 1.00    0.00 ± 0.00    0.00 ± 0.00    0.00 ± 0.00\n",
       "  1.00 ± 1.00    0.00 ± 0.00    2.00 ± 1.41    2.00 ± 1.41    2.00 ± 1.41\n",
       "  1.00 ± 1.00    1.00 ± 1.00    2.99 ± 1.73    1.00 ± 1.00    0.00 ± 0.00\n",
       "  0.00 ± 0.00    1.00 ± 1.00    0.00 ± 0.00    0.00 ± 0.00    0.00 ± 0.00\n",
       "  2.00 ± 1.41    0.00 ± 0.00    0.00 ± 0.00    1.00 ± 1.00    2.00 ± 1.41\n",
       "  0.00 ± 0.00    0.00 ± 0.00    0.00 ± 0.00    0.00 ± 0.00    0.00 ± 0.00\n",
       "  0.00 ± 0.00    0.00 ± 0.00    1.00 ± 1.00    0.00 ± 0.00    0.00 ± 0.00\n",
       "  0.00 ± 0.00    0.00 ± 0.00    1.00 ± 1.00    0.00 ± 0.00    0.00 ± 0.00\n",
       "  0.00 ± 0.00    0.00 ± 0.00    0.00 ± 0.00    0.00 ± 0.00   11.00 ± 3.32]"
      ]
     },
     "execution_count": 12,
     "metadata": {},
     "output_type": "execute_result"
    }
   ],
   "source": [
    "#hists['dipho']['MET']\n",
    "hists['0lep_2tau']['MET']"
   ]
  },
  {
   "cell_type": "code",
   "execution_count": 11,
   "metadata": {},
   "outputs": [
    {
     "data": {
      "text/plain": [
       "16344.0"
      ]
     },
     "execution_count": 11,
     "metadata": {},
     "output_type": "execute_result"
    }
   ],
   "source": [
    "hists['dipho']['pho_pT1'].integral\n",
    "#hists['dipho']['pho_pT1'].integral_error"
   ]
  },
  {
   "cell_type": "markdown",
   "metadata": {},
   "source": [
    "## send to dask"
   ]
  },
  {
   "cell_type": "code",
   "execution_count": 1,
   "metadata": {
    "scrolled": true
   },
   "outputs": [
    {
     "data": {
      "text/html": [
       "<table style=\"border: 2px solid white;\">\n",
       "<tr>\n",
       "<td style=\"vertical-align: top; border: 0px solid white\">\n",
       "<h3 style=\"text-align: left;\">Client</h3>\n",
       "<ul style=\"text-align: left; list-style: none; margin: 0; padding: 0;\">\n",
       "  <li><b>Scheduler: </b>tcp://169.228.130.74:5608</li>\n",
       "  <li><b>Dashboard: </b><a href='http://169.228.130.74:12332/status' target='_blank'>http://169.228.130.74:12332/status</a></li>\n",
       "</ul>\n",
       "</td>\n",
       "<td style=\"vertical-align: top; border: 0px solid white\">\n",
       "<h3 style=\"text-align: left;\">Cluster</h3>\n",
       "<ul style=\"text-align: left; list-style:none; margin: 0; padding: 0;\">\n",
       "  <li><b>Workers: </b>15</li>\n",
       "  <li><b>Cores: </b>15</li>\n",
       "  <li><b>Memory: </b>60.00 GB</li>\n",
       "</ul>\n",
       "</td>\n",
       "</tr>\n",
       "</table>"
      ],
      "text/plain": [
       "<Client: 'tcp://169.228.130.74:5608' processes=15 threads=15, memory=60.00 GB>"
      ]
     },
     "execution_count": 1,
     "metadata": {},
     "output_type": "execute_result"
    }
   ],
   "source": [
    "#from dask.distributed import Client\n",
    "#client = Client('tcp://169.228.130.74:5608')\n",
    "#client"
   ]
  },
  {
   "cell_type": "code",
   "execution_count": 14,
   "metadata": {},
   "outputs": [
    {
     "data": {
      "text/html": [
       "<table style=\"border: 2px solid white;\">\n",
       "<tr>\n",
       "<td style=\"vertical-align: top; border: 0px solid white\">\n",
       "<h3 style=\"text-align: left;\">Client</h3>\n",
       "<ul style=\"text-align: left; list-style: none; margin: 0; padding: 0;\">\n",
       "  <li><b>Scheduler: </b>tcp://127.0.0.1:24335</li>\n",
       "  <li><b>Dashboard: </b><a href='http://127.0.0.1:8787/status' target='_blank'>http://127.0.0.1:8787/status</a></li>\n",
       "</ul>\n",
       "</td>\n",
       "<td style=\"vertical-align: top; border: 0px solid white\">\n",
       "<h3 style=\"text-align: left;\">Cluster</h3>\n",
       "<ul style=\"text-align: left; list-style:none; margin: 0; padding: 0;\">\n",
       "  <li><b>Workers: </b>30</li>\n",
       "  <li><b>Cores: </b>30</li>\n",
       "  <li><b>Memory: </b>120.00 GB</li>\n",
       "</ul>\n",
       "</td>\n",
       "</tr>\n",
       "</table>"
      ],
      "text/plain": [
       "<Client: 'tcp://127.0.0.1:24335' processes=30 threads=30, memory=120.00 GB>"
      ]
     },
     "execution_count": 14,
     "metadata": {},
     "output_type": "execute_result"
    }
   ],
   "source": [
    "from dask.distributed import Client\n",
    "client = Client(memory_limit='4GB', n_workers=30, threads_per_worker=1)\n",
    "client"
   ]
  },
  {
   "cell_type": "code",
   "execution_count": 31,
   "metadata": {},
   "outputs": [
    {
     "data": {
      "text/plain": [
       "['./__init__.py',\n",
       " './cachepreload.py',\n",
       " './condor_utils.py',\n",
       " './event_selector.py',\n",
       " './loop.py',\n",
       " './looper_utils.py',\n",
       " './make_plots.py',\n",
       " './utils.py',\n",
       " './make_plots_from_json.py']"
      ]
     },
     "execution_count": 31,
     "metadata": {},
     "output_type": "execute_result"
    }
   ],
   "source": [
    "def g():\n",
    "    import glob\n",
    "    allpys = glob.glob(\"./*py\")\n",
    "    return allpys\n",
    "g()"
   ]
  },
  {
   "cell_type": "code",
   "execution_count": 32,
   "metadata": {},
   "outputs": [],
   "source": [
    "x = client.submit(g)"
   ]
  },
  {
   "cell_type": "code",
   "execution_count": 33,
   "metadata": {
    "scrolled": true
   },
   "outputs": [
    {
     "data": {
      "text/plain": [
       "['./__init__.py',\n",
       " './cachepreload.py',\n",
       " './condor_utils.py',\n",
       " './event_selector.py',\n",
       " './loop.py',\n",
       " './looper_utils.py',\n",
       " './make_plots.py',\n",
       " './utils.py',\n",
       " './make_plots_from_json.py']"
      ]
     },
     "execution_count": 33,
     "metadata": {},
     "output_type": "execute_result"
    }
   ],
   "source": [
    "client.gather(x)"
   ]
  },
  {
   "cell_type": "code",
   "execution_count": null,
   "metadata": {},
   "outputs": [
    {
     "name": "stdout",
     "output_type": "stream",
     "text": [
      "start process EGamma_2018A\n",
      "start process EGamma_2018B\n",
      "start process EGamma_2018C\n",
      "start process EGamma_2018D\n",
      "start process DYJets\n",
      "start process ttbar\n",
      "start process ttG\n",
      "start process ttGG\n",
      "start process ZG\n",
      "start process WG\n",
      "start process GJets_HT40To100\n",
      "start process GJets_HT100To200\n",
      "start process GJets_HT200To400\n",
      "start process GJets_HT400To600\n",
      "start process GJets_HT600ToInf\n",
      "start process QCD_pT30To40\n",
      "start process QCD_pT40ToInf\n",
      "start process Diphoton\n"
     ]
    }
   ],
   "source": [
    "%%time\n",
    "from dask.distributed import as_completed\n",
    "import collections, functools, operator \n",
    "\n",
    "futures = {}\n",
    "results = {}\n",
    "\n",
    "cat_keys = [\"dipho\", \"0lep_1tau\", \"0lep_2tau\", \"1lep_1tau\", \"2lep_0tau\", \"1lep_0tau\"]\n",
    "\n",
    "for process_key in chunks:\n",
    "    print (\"start process {}\".format(process_key))\n",
    "    futures[process_key] = client.map(process, chunks[process_key], retries=5)\n",
    "    \n",
    "    results_local = []\n",
    "    results[process_key] = {}\n",
    "    ## do you really need this while?\n",
    "    while len(results_local) < len(chunks[process_key]): \n",
    "        ac = as_completed(futures[process_key], with_results=True)\n",
    "        for future, result in ac:\n",
    "            results_local.append(result)\n",
    "    \n",
    "    ## merge histograms by the key\n",
    "    for cat_key in cat_keys: \n",
    "        dicts = [results_local[i][cat_key] for i in range(len(results_local))]  \n",
    "        counter = collections.Counter() \n",
    "        for d in dicts:  \n",
    "            counter.update(d) \n",
    "        results[process_key][cat_key] = dict(counter) "
   ]
  },
  {
   "cell_type": "markdown",
   "metadata": {},
   "source": [
    "## save to disk?\n",
    "\n",
    "- foler1: cat (dipho, 0lep_1tau, 0lep_2tau...)\n",
    "    + folder2: process (data, signal, ZG...)\n",
    "        - folder3: hists (pT, eta, phi...)"
   ]
  },
  {
   "cell_type": "code",
   "execution_count": 32,
   "metadata": {},
   "outputs": [],
   "source": [
    "client.shutdown()"
   ]
  },
  {
   "cell_type": "code",
   "execution_count": 35,
   "metadata": {
    "scrolled": true
   },
   "outputs": [
    {
     "data": {
      "text/plain": [
       "dict_keys(['DoubleEG_Run2017B', 'DoubleEG_Run2017C', 'DoubleEG_Run2017D', 'DoubleEG_Run2017E', 'DoubleEG_Run2017F', 'DYJets', 'ttbar', 'ttG', 'ttGG', 'ZG', 'WG', 'GJets_HT40To100', 'GJets_HT100To200', 'GJets_HT200To400', 'GJets_HT400To600', 'GJets_HT600ToInf', 'QCD_pT30To40', 'QCD_pT40ToInf', 'Diphoton', 'VH', 'signal'])"
      ]
     },
     "execution_count": 35,
     "metadata": {},
     "output_type": "execute_result"
    }
   ],
   "source": [
    "results.keys()"
   ]
  },
  {
   "cell_type": "code",
   "execution_count": 36,
   "metadata": {},
   "outputs": [
    {
     "data": {
      "text/plain": [
       "dict_keys(['dipho', '0lep_1tau', '0lep_2tau', '1lep_1tau', '2lep_0tau', '1lep_0tau'])"
      ]
     },
     "execution_count": 36,
     "metadata": {},
     "output_type": "execute_result"
    }
   ],
   "source": [
    "results['signal'].keys()"
   ]
  },
  {
   "cell_type": "code",
   "execution_count": 37,
   "metadata": {
    "scrolled": true
   },
   "outputs": [
    {
     "data": {
      "text/plain": [
       "dict_keys(['MET', 'tautau_SVFit', 'tautauA_SVFit', 'tautauL_SVFit', 'pho_pT1', 'pho_pT2', 'pho_pTom1', 'pho_pTom2', 'pho_eta1', 'pho_eta2', 'pho_phi1', 'pho_phi2', 'pho_id1', 'pho_id2', 'tau_pT1', 'tau_eta1', 'tau_phi1', 'tau_deeptau_vs_j_1', 'tau_deeptau_vs_m_1', 'tau_deeptau_vs_e_1', 'n_tau', 'mtautau', 'dR_tautau', 'tau_pT2', 'tau_eta2', 'tau_phi2', 'tau_deeptau_vs_j_2', 'tau_deeptau_vs_m_2', 'tau_deeptau_vs_e_2', 'muon_pT1', 'muon_eta1', 'muon_phi1', 'muon_iso1', 'n_muon', 'mmumu', 'dR_mumu', 'muon_pT2', 'muon_eta2', 'muon_phi2', 'muon_iso2', 'electron_pT1', 'electron_eta1', 'electron_phi1', 'electron_iso1', 'n_electron', 'mee', 'dR_ee', 'electron_pT2', 'electron_eta2', 'electron_phi2', 'electron_iso2'])"
      ]
     },
     "execution_count": 37,
     "metadata": {},
     "output_type": "execute_result"
    }
   ],
   "source": [
    "results['signal']['dipho'].keys()"
   ]
  },
  {
   "cell_type": "code",
   "execution_count": 38,
   "metadata": {},
   "outputs": [
    {
     "name": "stdout",
     "output_type": "stream",
     "text": [
      "CPU times: user 3.62 s, sys: 4.15 s, total: 7.77 s\n",
      "Wall time: 12.1 s\n"
     ]
    }
   ],
   "source": [
    "%%time\n",
    "from subprocess import call\n",
    "import json\n",
    "\n",
    "process_keys = results.keys()\n",
    "cat_keys = results['signal'].keys()\n",
    "\n",
    "#tag = \"basic_dR_mll_cut_blind\"\n",
    "tag = \"basic_dR_cut\"\n",
    "\n",
    "for cat_key in cat_keys:\n",
    "    for process_key in process_keys:\n",
    "        dirname = './hists/' + tag + '/' + cat_key + '/' + process_key + '/'\n",
    "        call('mkdir -p ' + dirname, shell=True)\n",
    "        for hist_key in results[process_key][cat_key].keys():\n",
    "            histname = dirname + hist_key +'_'+year+'_'+skim_version\n",
    "            results[process_key][cat_key][hist_key].to_json(histname+\".json\")\n",
    "            with open(histname, \"w\") as f:\n",
    "                data = json.dump(results[process_key][cat_key][hist_key].to_json(histname+\".json\"), f)"
   ]
  },
  {
   "cell_type": "code",
   "execution_count": null,
   "metadata": {},
   "outputs": [],
   "source": []
  }
 ],
 "metadata": {
  "kernelspec": {
   "display_name": "Python 3",
   "language": "python",
   "name": "python3"
  },
  "language_info": {
   "codemirror_mode": {
    "name": "ipython",
    "version": 3
   },
   "file_extension": ".py",
   "mimetype": "text/x-python",
   "name": "python",
   "nbconvert_exporter": "python",
   "pygments_lexer": "ipython3",
   "version": "3.8.6"
  }
 },
 "nbformat": 4,
 "nbformat_minor": 4
}
