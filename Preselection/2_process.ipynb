{
 "cells": [
  {
   "cell_type": "code",
   "execution_count": 1,
   "metadata": {
    "scrolled": true
   },
   "outputs": [],
   "source": [
    "%load_ext autoreload"
   ]
  },
  {
   "cell_type": "code",
   "execution_count": 2,
   "metadata": {},
   "outputs": [],
   "source": [
    "%autoreload 1"
   ]
  },
  {
   "cell_type": "code",
   "execution_count": 3,
   "metadata": {},
   "outputs": [],
   "source": [
    "%aimport event_selector\n",
    "%aimport looper_utils\n",
    "%aimport make_plots"
   ]
  },
  {
   "cell_type": "code",
   "execution_count": 4,
   "metadata": {},
   "outputs": [],
   "source": [
    "import awkward as ak\n",
    "import uproot\n",
    "import numpy as np\n",
    "from yahist import Hist1D, Hist2D"
   ]
  },
  {
   "cell_type": "markdown",
   "metadata": {},
   "source": [
    "## Skim Parameters"
   ]
  },
  {
   "cell_type": "code",
   "execution_count": 22,
   "metadata": {},
   "outputs": [],
   "source": [
    "year = '2018'\n",
    "skim_version = 'v4'  #currently available x3 or v4"
   ]
  },
  {
   "cell_type": "markdown",
   "metadata": {},
   "source": [
    "## Load data"
   ]
  },
  {
   "cell_type": "code",
   "execution_count": 6,
   "metadata": {},
   "outputs": [
    {
     "name": "stdout",
     "output_type": "stream",
     "text": [
      "chunklist.json\n",
      "chunklist_2016_v4.json\n",
      "chunklist_2017_v4.json\n",
      "chunklist_2018_v4.json\n",
      "chunklist_2018_x3.json\n",
      "totalWeights.json\n",
      "totalWeights_2016_v4.json\n",
      "totalWeights_2017_v4.json\n",
      "totalWeights_2018_v4.json\n",
      "totalWeights_2018_x3.json\n",
      "xsection.json\n",
      "xsection_2016_v4.json\n",
      "xsection_2017_v4.json\n",
      "xsection_2017_x3.json\n",
      "xsection_2018_v4.json\n",
      "xsection_2018_x3.json\n"
     ]
    }
   ],
   "source": [
    "%%bash\n",
    "ls metadata/"
   ]
  },
  {
   "cell_type": "code",
   "execution_count": 23,
   "metadata": {},
   "outputs": [
    {
     "data": {
      "text/plain": [
       "dict_keys(['EGamma_2018A', 'EGamma_2018B', 'EGamma_2018C', 'EGamma_2018D', 'DYJets', 'ZG', 'WG', 'GJets_HT40To100', 'GJets_HT100To200', 'GJets_HT200To400', 'GJets_HT400To600', 'GJets_HT600ToInf', 'QCD_pT30To40', 'QCD_pT40ToInf', 'ZH', 'VH', 'signal'])"
      ]
     },
     "execution_count": 23,
     "metadata": {},
     "output_type": "execute_result"
    }
   ],
   "source": [
    "import json\n",
    "with open('./metadata/chunklist_'+year+'_'+skim_version+'.json') as f:\n",
    "    chunks = json.load(f) \n",
    "chunks.keys()"
   ]
  },
  {
   "cell_type": "markdown",
   "metadata": {},
   "source": [
    "## Process data"
   ]
  },
  {
   "cell_type": "code",
   "execution_count": 8,
   "metadata": {},
   "outputs": [],
   "source": [
    "def process(args):\n",
    "    \n",
    "    import event_selector\n",
    "    import make_plots\n",
    "    \n",
    "    obj_list = [\"electron\", \"muon\", \"tau\", \"photon\", \"others\"]\n",
    "   \n",
    "    isData = \"EGamma\" in args[0] or \"DoubleEG\" in args[0]\n",
    "    events = event_selector.prepare_inputs(args, obj_list, isData=isData)\n",
    "    \n",
    "    tot_w = ak.sum(events.genWeight)\n",
    "    mgg = events.ggMass\n",
    "    \n",
    "    ## need to change gHidx\n",
    "    gHidx = event_selector.get_gHidx(args) \n",
    "    g_Hidx = gHidx.gHidx\n",
    "    mask_diphoton = event_selector.select_photon_byEvent(events.Photon, g_Hidx, mgg)\n",
    "    \n",
    "    mask_photon = event_selector.select_photon(events.Photon, g_Hidx, mgg)\n",
    "    photons_selected = events.Photon[mask_photon] \n",
    "    nPho = ak.num(photons_selected)\n",
    "    \n",
    "    mask_tau = event_selector.select_tau(events.Tau, \"all\", isTight=False)\n",
    "    ## clean by dR wrt photons\n",
    "    mask_tau = mask_tau & looper_utils.mask_by_dR(events.Tau, photons_selected, 0.2)\n",
    "    nTau = ak.num(events.Tau[mask_tau])\n",
    "    \n",
    "    mask_ele = event_selector.select_electron(events.Electron, isTight=False)\n",
    "    mask_ele = mask_ele & looper_utils.mask_by_dR(events.Electron, photons_selected, 0.2)\n",
    "    nEle = ak.num(events.Electron[mask_ele])\n",
    "    \n",
    "    mask_mu = event_selector.select_muon(events.Muon, isTight=False)\n",
    "    mask_mu = mask_mu & looper_utils.mask_by_dR(events.Muon, photons_selected, 0.2)\n",
    "    nMu = ak.num(events.Muon[mask_mu])\n",
    "    \n",
    "    sum_charge = (ak.sum(events.Tau[mask_tau].charge, axis=1) + ak.sum(events.Electron[mask_ele].charge, axis=1) + ak.sum(events.Muon[mask_mu].charge, axis=1) == 0)\n",
    "    mask_dR_mll_0lep_2tau = looper_utils.mask_by_dR_mll_0lep_2tau(events.Tau[mask_tau], (0.2,3.5), (30,140))\n",
    "    mask_dR_mll_1mu_1tau = looper_utils.mask_by_dR_mll_1lep_1tau(events.Tau[mask_tau], events.Muon[mask_mu], (0.3,3.5), (20,120))\n",
    "    mask_dR_mll_1ele_1tau = looper_utils.mask_by_dR_mll_1lep_1tau(events.Tau[mask_tau], events.Electron[mask_ele], (0.3,3.5), (20,120))\n",
    "    \n",
    "    mask_dipho = (nPho == 2)\n",
    "    mask_0lep_1tau = (nPho == 2) & (nTau == 1) & (nEle == 0) & (nMu == 0)\n",
    "    mask_0lep_2tau = (nPho == 2) & (nTau == 2) & (nEle == 0) & (nMu == 0) & (sum_charge) & (mask_dR_mll_0lep_2tau)\n",
    "    mask_2lep_0tau = (nPho == 2) & (nTau == 0) & (nEle + nMu == 2) & (sum_charge)\n",
    "    mask_1lep_0tau = (nPho == 2) & (nTau == 0) & (nEle + nMu == 1)\n",
    "    \n",
    "    mask_1mu_1tau = (nPho == 2) & (nTau == 1) & (nEle == 0) & (nMu == 1) & (sum_charge) & (mask_dR_mll_1mu_1tau)\n",
    "    mask_1ele_1tau = (nPho == 2) & (nTau == 1) & (nEle == 1) & (nMu == 0) & (sum_charge) & (mask_dR_mll_1ele_1tau)\n",
    "    mask_1lep_1tau = (mask_1mu_1tau) | (mask_1ele_1tau)\n",
    "    \n",
    "    masks = {\"dipho\": mask_dipho,\n",
    "             \"0lep_1tau\": mask_0lep_1tau,\n",
    "             \"0lep_2tau\": mask_0lep_2tau,\n",
    "             \"1lep_1tau\": mask_1lep_1tau,\n",
    "             \"2lep_0tau\": mask_2lep_0tau,\n",
    "             \"1lep_0tau\": mask_1lep_0tau}\n",
    "    \n",
    "    hists = {}\n",
    "    \n",
    "    for key, mask in masks.items():\n",
    "        print (key)\n",
    "        #hists[key] = process_event(genWeight[mask], evt_vars[mask])\n",
    "        #print (\"process diphoton\")\n",
    "        hists[key] =  make_plots.process_diphoton(events.Photon[mask], g_Hidx[mask], mgg[mask], events.genWeight[mask])\n",
    "        #print (\"process tau\")\n",
    "        hists[key].update( make_plots.process_tau(events.Tau[mask_tau][mask], events.genWeight[mask]))\n",
    "        #print (\"process muon\")\n",
    "        hists[key].update( make_plots.process_muon(events.Muon[mask_mu][mask], events.genWeight[mask]))\n",
    "        #print (\"process electron\")\n",
    "        hists[key].update( make_plots.process_electron(events.Electron[mask_ele][mask], events.genWeight[mask]))\n",
    "        #print (\"process tau-lep\")\n",
    "        if key == \"1lep_1tau\":\n",
    "            tmphists = hists[key].update( make_plots.process_1tau_1lep(events.Tau[mask_tau][mask], events.Muon[mask_mu][mask],\n",
    "                                                                       events.Electron[mask_ele][mask], events.genWeight[mask]))\n",
    "            #if bool(tmphists):\n",
    "            #    hists[key].update(tmphists)\n",
    "    \n",
    "    return hists"
   ]
  },
  {
   "cell_type": "code",
   "execution_count": 25,
   "metadata": {
    "scrolled": true
   },
   "outputs": [
    {
     "name": "stdout",
     "output_type": "stream",
     "text": [
      "dipho\n",
      "0lep_1tau\n",
      "0lep_2tau\n",
      "1lep_1tau\n",
      "2lep_0tau\n",
      "1lep_0tau\n",
      "CPU times: user 12.4 s, sys: 597 ms, total: 13 s\n",
      "Wall time: 22.5 s\n"
     ]
    }
   ],
   "source": [
    "%%time\n",
    "#hists = process(chunks[\"signal\"][0])\n",
    "#hists = process((chunks[\"signal\"][0][0], 0, 200) )\n",
    "hists = process(chunks[\"ZH\"][0])"
   ]
  },
  {
   "cell_type": "code",
   "execution_count": 26,
   "metadata": {},
   "outputs": [
    {
     "data": {
      "text/html": [
       "\n",
       "        <div style=\"max-height:1000px;max-width:1500px;overflow:auto\">\n",
       "        <b>total count</b>: 4.119429724290967, <b>metadata</b>: {'label': 'mtaumu'}<br>\n",
       "        <div style=\"display:flex;\">\n",
       "            <div style=\"display:inline;\">\n",
       "                \n",
       "                <table style='border:1px solid black;'\">\n",
       "                    <thead><tr><th>bin</th><th>content</th></tr></thead>\n",
       "                    <tr><td>(0,5.17241)</td><td>0 ± 0</td></tr>\n",
       "<tr><td>(5.17241,10.3448)</td><td>0 ± 0</td></tr>\n",
       "<tr><td>(10.3448,15.5172)</td><td>0 ± 0</td></tr>\n",
       "<tr><td>(15.5172,20.6897)</td><td>0 ± 0</td></tr>\n",
       "<tr><td colspan='2'><center>[21 rows hidden]</center></td></tr>\n",
       "<tr><td>(129.31,134.483)</td><td>0 ± 0</td></tr>\n",
       "<tr><td>(134.483,139.655)</td><td>0 ± 0</td></tr>\n",
       "<tr><td>(139.655,144.828)</td><td>0 ± 0</td></tr>\n",
       "<tr><td>(144.828,150)</td><td>0 ± 0</td></tr>\n",
       "                </table>\n",
       "            \n",
       "            </div>\n",
       "            <div style=\"display:inline; margin: auto 2%;\">\n",
       "                <img src='data:image/svg+xml;base64,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'/>\n",
       "            </div>\n",
       "            </div>\n",
       "        </div>\n",
       "        "
      ],
      "text/plain": [
       "[ 0.00 ± 0.00    0.00 ± 0.00    0.00 ± 0.00    0.00 ± 0.00    0.27 ± 0.04\n",
       "  0.38 ± 0.05    0.54 ± 0.06    0.66 ± 0.06    0.47 ± 0.05    0.40 ± 0.05\n",
       "  0.48 ± 0.05    0.29 ± 0.04    0.28 ± 0.04    0.18 ± 0.03    0.05 ± 0.02\n",
       "  0.03 ± 0.01    0.02 ± 0.01    0.04 ± 0.02    0.01 ± 0.01    0.01 ± 0.01\n",
       "  0.00 ± 0.00    0.00 ± 0.00    0.01 ± 0.01    0.00 ± 0.00    0.00 ± 0.00\n",
       "  0.00 ± 0.00    0.00 ± 0.00    0.00 ± 0.00    0.00 ± 0.00]"
      ]
     },
     "execution_count": 26,
     "metadata": {},
     "output_type": "execute_result"
    }
   ],
   "source": [
    "hists['1lep_1tau']['mtaumu']"
   ]
  },
  {
   "cell_type": "code",
   "execution_count": 27,
   "metadata": {},
   "outputs": [
    {
     "data": {
      "text/plain": [
       "686.6149302124977"
      ]
     },
     "execution_count": 27,
     "metadata": {},
     "output_type": "execute_result"
    }
   ],
   "source": [
    "hists['dipho']['pho_pT1'].integral\n",
    "#hists['dipho']['pho_pT1'].integral_error"
   ]
  },
  {
   "cell_type": "markdown",
   "metadata": {},
   "source": [
    "## send to dask"
   ]
  },
  {
   "cell_type": "code",
   "execution_count": 1,
   "metadata": {},
   "outputs": [
    {
     "data": {
      "text/html": [
       "<table style=\"border: 2px solid white;\">\n",
       "<tr>\n",
       "<td style=\"vertical-align: top; border: 0px solid white\">\n",
       "<h3 style=\"text-align: left;\">Client</h3>\n",
       "<ul style=\"text-align: left; list-style: none; margin: 0; padding: 0;\">\n",
       "  <li><b>Scheduler: </b>tcp://169.228.130.74:5608</li>\n",
       "  <li><b>Dashboard: </b><a href='http://169.228.130.74:12332/status' target='_blank'>http://169.228.130.74:12332/status</a></li>\n",
       "</ul>\n",
       "</td>\n",
       "<td style=\"vertical-align: top; border: 0px solid white\">\n",
       "<h3 style=\"text-align: left;\">Cluster</h3>\n",
       "<ul style=\"text-align: left; list-style:none; margin: 0; padding: 0;\">\n",
       "  <li><b>Workers: </b>15</li>\n",
       "  <li><b>Cores: </b>15</li>\n",
       "  <li><b>Memory: </b>60.00 GB</li>\n",
       "</ul>\n",
       "</td>\n",
       "</tr>\n",
       "</table>"
      ],
      "text/plain": [
       "<Client: 'tcp://169.228.130.74:5608' processes=15 threads=15, memory=60.00 GB>"
      ]
     },
     "execution_count": 1,
     "metadata": {},
     "output_type": "execute_result"
    }
   ],
   "source": [
    "#from dask.distributed import Client\n",
    "#client = Client('tcp://169.228.130.74:5608')\n",
    "#client"
   ]
  },
  {
   "cell_type": "code",
   "execution_count": 9,
   "metadata": {},
   "outputs": [
    {
     "data": {
      "text/html": [
       "<table style=\"border: 2px solid white;\">\n",
       "<tr>\n",
       "<td style=\"vertical-align: top; border: 0px solid white\">\n",
       "<h3 style=\"text-align: left;\">Client</h3>\n",
       "<ul style=\"text-align: left; list-style: none; margin: 0; padding: 0;\">\n",
       "  <li><b>Scheduler: </b>tcp://127.0.0.1:1997</li>\n",
       "  <li><b>Dashboard: </b><a href='http://127.0.0.1:8787/status' target='_blank'>http://127.0.0.1:8787/status</a></li>\n",
       "</ul>\n",
       "</td>\n",
       "<td style=\"vertical-align: top; border: 0px solid white\">\n",
       "<h3 style=\"text-align: left;\">Cluster</h3>\n",
       "<ul style=\"text-align: left; list-style:none; margin: 0; padding: 0;\">\n",
       "  <li><b>Workers: </b>32</li>\n",
       "  <li><b>Cores: </b>32</li>\n",
       "  <li><b>Memory: </b>128.00 GB</li>\n",
       "</ul>\n",
       "</td>\n",
       "</tr>\n",
       "</table>"
      ],
      "text/plain": [
       "<Client: 'tcp://127.0.0.1:1997' processes=32 threads=32, memory=128.00 GB>"
      ]
     },
     "execution_count": 9,
     "metadata": {},
     "output_type": "execute_result"
    }
   ],
   "source": [
    "from dask.distributed import Client\n",
    "client = Client(memory_limit='4GB', n_workers=32, threads_per_worker=1)\n",
    "client"
   ]
  },
  {
   "cell_type": "code",
   "execution_count": 17,
   "metadata": {},
   "outputs": [
    {
     "data": {
      "text/plain": [
       "['./__init__.py',\n",
       " './cachepreload.py',\n",
       " './condor_utils.py',\n",
       " './event_selector.py',\n",
       " './loop.py',\n",
       " './looper_utils.py',\n",
       " './make_plots.py',\n",
       " './utils.py']"
      ]
     },
     "execution_count": 17,
     "metadata": {},
     "output_type": "execute_result"
    }
   ],
   "source": [
    "def g():\n",
    "    import glob\n",
    "    allpys = glob.glob(\"./*py\")\n",
    "    return allpys\n",
    "g()"
   ]
  },
  {
   "cell_type": "code",
   "execution_count": 18,
   "metadata": {},
   "outputs": [],
   "source": [
    "x = client.submit(g)"
   ]
  },
  {
   "cell_type": "code",
   "execution_count": 19,
   "metadata": {
    "scrolled": true
   },
   "outputs": [
    {
     "data": {
      "text/plain": [
       "['./__init__.py',\n",
       " './cachepreload.py',\n",
       " './condor_utils.py',\n",
       " './event_selector.py',\n",
       " './loop.py',\n",
       " './looper_utils.py',\n",
       " './make_plots.py',\n",
       " './utils.py']"
      ]
     },
     "execution_count": 19,
     "metadata": {},
     "output_type": "execute_result"
    }
   ],
   "source": [
    "client.gather(x)"
   ]
  },
  {
   "cell_type": "code",
   "execution_count": 24,
   "metadata": {},
   "outputs": [
    {
     "name": "stdout",
     "output_type": "stream",
     "text": [
      "start process EGamma_2018A\n",
      "start process EGamma_2018B\n",
      "start process EGamma_2018C\n",
      "start process EGamma_2018D\n",
      "start process DYJets\n",
      "start process ZG\n",
      "start process WG\n",
      "start process GJets_HT40To100\n",
      "start process GJets_HT100To200\n",
      "start process GJets_HT200To400\n",
      "start process GJets_HT400To600\n",
      "start process GJets_HT600ToInf\n",
      "start process QCD_pT30To40\n",
      "start process QCD_pT40ToInf\n",
      "start process ZH\n",
      "start process VH\n",
      "start process signal\n",
      "CPU times: user 3min 21s, sys: 43.1 s, total: 4min 4s\n",
      "Wall time: 14min 21s\n"
     ]
    }
   ],
   "source": [
    "%%time\n",
    "from dask.distributed import as_completed\n",
    "import collections, functools, operator \n",
    "\n",
    "futures = {}\n",
    "results = {}\n",
    "\n",
    "cat_keys = [\"dipho\", \"0lep_1tau\", \"0lep_2tau\", \"1lep_1tau\", \"2lep_0tau\", \"1lep_0tau\"]\n",
    "\n",
    "for process_key in chunks:\n",
    "    print (\"start process {}\".format(process_key))\n",
    "    futures[process_key] = client.map(process, chunks[process_key], retries=5)\n",
    "    \n",
    "    results_local = []\n",
    "    results[process_key] = {}\n",
    "    ## do you really need this while?\n",
    "    while len(results_local) < len(chunks[process_key]): \n",
    "        ac = as_completed(futures[process_key], with_results=True)\n",
    "        for future, result in ac:\n",
    "            results_local.append(result)\n",
    "    \n",
    "    ## merge histograms by the key\n",
    "    for cat_key in cat_keys: \n",
    "        dicts = [results_local[i][cat_key] for i in range(len(results_local))]  \n",
    "        counter = collections.Counter() \n",
    "        for d in dicts:  \n",
    "            counter.update(d) \n",
    "        results[process_key][cat_key] = dict(counter) "
   ]
  },
  {
   "cell_type": "markdown",
   "metadata": {},
   "source": [
    "## save to disk?\n",
    "\n",
    "- foler1: cat (dipho, 0lep_1tau, 0lep_2tau...)\n",
    "    + folder2: process (data, signal, ZG...)\n",
    "        - folder3: hists (pT, eta, phi...)"
   ]
  },
  {
   "cell_type": "code",
   "execution_count": 26,
   "metadata": {},
   "outputs": [
    {
     "name": "stderr",
     "output_type": "stream",
     "text": [
      "distributed.client - ERROR - Failed to reconnect to scheduler after 10.00 seconds, closing client\n",
      "_GatheringFuture exception was never retrieved\n",
      "future: <_GatheringFuture finished exception=CancelledError()>\n",
      "asyncio.exceptions.CancelledError\n"
     ]
    }
   ],
   "source": [
    "client.shutdown()"
   ]
  },
  {
   "cell_type": "code",
   "execution_count": 34,
   "metadata": {
    "scrolled": true
   },
   "outputs": [
    {
     "data": {
      "text/plain": [
       "dict_keys(['DoubleEG_Run2017B', 'DoubleEG_Run2017C', 'DoubleEG_Run2017D', 'DoubleEG_Run2017E', 'DoubleEG_Run2017F', 'DYJets', 'ttbar', 'ZG', 'WG', 'GJets_HT40To100', 'GJets_HT100To200', 'GJets_HT200To400', 'GJets_HT400To600', 'GJets_HT600ToInf', 'QCD_pT30To40', 'QCD_pT40ToInf', 'Diphoton', 'ZH', 'signal'])"
      ]
     },
     "execution_count": 34,
     "metadata": {},
     "output_type": "execute_result"
    }
   ],
   "source": [
    "results.keys()"
   ]
  },
  {
   "cell_type": "code",
   "execution_count": 35,
   "metadata": {},
   "outputs": [
    {
     "data": {
      "text/plain": [
       "dict_keys(['dipho', '0lep_1tau', '0lep_2tau', '1lep_1tau', '2lep_0tau', '1lep_0tau'])"
      ]
     },
     "execution_count": 35,
     "metadata": {},
     "output_type": "execute_result"
    }
   ],
   "source": [
    "results['signal'].keys()"
   ]
  },
  {
   "cell_type": "code",
   "execution_count": 36,
   "metadata": {},
   "outputs": [
    {
     "data": {
      "text/plain": [
       "dict_keys(['pho_pT1', 'pho_pT2', 'pho_pTom1', 'pho_pTom2', 'pho_eta1', 'pho_eta2', 'pho_phi1', 'pho_phi2', 'pho_id1', 'pho_id2', 'tau_pT1', 'tau_eta1', 'tau_phi1', 'tau_deeptau_vs_j_1', 'tau_deeptau_vs_m_1', 'tau_deeptau_vs_e_1', 'n_tau', 'mtautau', 'dR_tautau', 'tau_pT2', 'tau_eta2', 'tau_phi2', 'tau_deeptau_vs_j_2', 'tau_deeptau_vs_m_2', 'tau_deeptau_vs_e_2', 'muon_pT1', 'muon_eta1', 'muon_phi1', 'muon_iso1', 'n_muon', 'mmumu', 'dR_mumu', 'muon_pT2', 'muon_eta2', 'muon_phi2', 'muon_iso2', 'electron_pT1', 'electron_eta1', 'electron_phi1', 'electron_iso1', 'n_electron', 'mee', 'dR_ee', 'electron_pT2', 'electron_eta2', 'electron_phi2', 'electron_iso2'])"
      ]
     },
     "execution_count": 36,
     "metadata": {},
     "output_type": "execute_result"
    }
   ],
   "source": [
    "results['signal']['dipho'].keys()"
   ]
  },
  {
   "cell_type": "code",
   "execution_count": 25,
   "metadata": {},
   "outputs": [
    {
     "name": "stdout",
     "output_type": "stream",
     "text": [
      "CPU times: user 3.13 s, sys: 3.06 s, total: 6.19 s\n",
      "Wall time: 10.2 s\n"
     ]
    }
   ],
   "source": [
    "%%time\n",
    "from subprocess import call\n",
    "import json\n",
    "\n",
    "process_keys = results.keys()\n",
    "cat_keys = results['signal'].keys()\n",
    "\n",
    "tag = \"basic_dR_mll_cut\"\n",
    "\n",
    "for cat_key in cat_keys:\n",
    "    for process_key in process_keys:\n",
    "        dirname = './hists/' + tag + '/' + cat_key + '/' + process_key + '/'\n",
    "        call('mkdir -p ' + dirname, shell=True)\n",
    "        for hist_key in results[process_key][cat_key].keys():\n",
    "            histname = dirname + hist_key +'_'+year+'_'+skim_version\n",
    "            results[process_key][cat_key][hist_key].to_json(histname+\".json\")\n",
    "            with open(histname, \"w\") as f:\n",
    "                data = json.dump(results[process_key][cat_key][hist_key].to_json(histname+\".json\"), f)"
   ]
  },
  {
   "cell_type": "code",
   "execution_count": null,
   "metadata": {},
   "outputs": [],
   "source": []
  }
 ],
 "metadata": {
  "kernelspec": {
   "display_name": "Python 3",
   "language": "python",
   "name": "python3"
  },
  "language_info": {
   "codemirror_mode": {
    "name": "ipython",
    "version": 3
   },
   "file_extension": ".py",
   "mimetype": "text/x-python",
   "name": "python",
   "nbconvert_exporter": "python",
   "pygments_lexer": "ipython3",
   "version": "3.8.6"
  }
 },
 "nbformat": 4,
 "nbformat_minor": 4
}
