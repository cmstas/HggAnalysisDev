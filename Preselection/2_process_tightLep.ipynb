{
 "cells": [
  {
   "cell_type": "code",
   "execution_count": 1,
   "metadata": {
    "scrolled": false
   },
   "outputs": [],
   "source": [
    "%load_ext autoreload"
   ]
  },
  {
   "cell_type": "code",
   "execution_count": 2,
   "metadata": {},
   "outputs": [],
   "source": [
    "%autoreload 1"
   ]
  },
  {
   "cell_type": "code",
   "execution_count": 3,
   "metadata": {},
   "outputs": [],
   "source": [
    "%aimport event_selector\n",
    "%aimport looper_utils\n",
    "%aimport make_plots"
   ]
  },
  {
   "cell_type": "code",
   "execution_count": 4,
   "metadata": {},
   "outputs": [],
   "source": [
    "import awkward as ak\n",
    "import uproot\n",
    "import numpy as np\n",
    "from yahist import Hist1D, Hist2D"
   ]
  },
  {
   "cell_type": "markdown",
   "metadata": {},
   "source": [
    "## Skim Parameters"
   ]
  },
  {
   "cell_type": "code",
   "execution_count": 34,
   "metadata": {},
   "outputs": [],
   "source": [
    "year = '2018'\n",
    "skim_version = 'v4'  #currently available x3 or v4"
   ]
  },
  {
   "cell_type": "markdown",
   "metadata": {},
   "source": [
    "## Load data"
   ]
  },
  {
   "cell_type": "code",
   "execution_count": 35,
   "metadata": {},
   "outputs": [
    {
     "name": "stdout",
     "output_type": "stream",
     "text": [
      "chunklist.json\n",
      "chunklist_2016_v4.json\n",
      "chunklist_2017_v4.json\n",
      "chunklist_2018_v4.json\n",
      "totalWeights.json\n",
      "totalWeights_2016_v4.json\n",
      "totalWeights_2017_v4.json\n",
      "totalWeights_2018_v4.json\n",
      "xsection.json\n",
      "xsection_2016_v4.json\n",
      "xsection_2017_v4.json\n",
      "xsection_2018_v4.json\n",
      "xsection_v4.json\n"
     ]
    }
   ],
   "source": [
    "%%bash\n",
    "ls metadata/"
   ]
  },
  {
   "cell_type": "code",
   "execution_count": 36,
   "metadata": {},
   "outputs": [
    {
     "data": {
      "text/plain": [
       "dict_keys(['EGamma_2018A', 'EGamma_2018B', 'EGamma_2018C', 'EGamma_2018D', 'DYJets', 'ttbar', 'ttG', 'ttGG', 'ZG', 'WG', 'GJets_HT40To100', 'GJets_HT100To200', 'GJets_HT200To400', 'GJets_HT400To600', 'GJets_HT600ToInf', 'QCD_pT30To40', 'QCD_pT40ToInf', 'Diphoton', 'VH', 'signal'])"
      ]
     },
     "execution_count": 36,
     "metadata": {},
     "output_type": "execute_result"
    }
   ],
   "source": [
    "import json\n",
    "with open('./metadata/chunklist_'+year+'_'+skim_version+'.json') as f:\n",
    "    chunks = json.load(f) \n",
    "chunks.keys()"
   ]
  },
  {
   "cell_type": "markdown",
   "metadata": {},
   "source": [
    "## Process data"
   ]
  },
  {
   "cell_type": "code",
   "execution_count": 11,
   "metadata": {},
   "outputs": [],
   "source": [
    "def process(args):\n",
    "    \n",
    "    import event_selector\n",
    "    import make_plots\n",
    "    \n",
    "    obj_list = [\"electron\", \"muon\", \"tau\", \"photon\", \"others\"]\n",
    "   \n",
    "    isData    = \"EGamma\" in args[0] or \"DoubleEG\" in args[0]\n",
    "    isSigLike = \"HHggtautau\" in args[0] or \"VH\" in args[0]\n",
    "    events = event_selector.prepare_inputs(args, obj_list, isData=isData)\n",
    "    \n",
    "    tot_w = ak.sum(events.genWeight)\n",
    "    mgg = events.ggMass\n",
    "    \n",
    "    ## need to change gHidx\n",
    "    gHidx = event_selector.get_gHidx(args) \n",
    "    g_Hidx = gHidx.gHidx\n",
    "    #mask_diphoton = event_selector.select_photon_byEvent( events.Photon, g_Hidx, mgg, isSigLike )\n",
    "    mask_diphoton = event_selector.select_photon_byEvent_v1( events.Photon, mgg, isSigLike )\n",
    "    \n",
    "    mask_photon = event_selector.select_photon(events.Photon, g_Hidx, mgg)\n",
    "    photons_selected = events.Photon[mask_photon] \n",
    "    nPho = ak.num(photons_selected)\n",
    "    \n",
    "    ## define taus for all categories\n",
    "    mask_tau_all = event_selector.select_tau(events.Tau, \"all\", isTight=False)\n",
    "    mask_tau_all = mask_tau_all & looper_utils.mask_by_dR(events.Tau, photons_selected, 0.2)\n",
    "    nTau_all = ak.num(events.Tau[mask_tau_all])\n",
    "    \n",
    "    mask_tau_tt = event_selector.select_tau(events.Tau, \"tau_tau\", isTight=True)\n",
    "    mask_tau_tt = mask_tau_tt & looper_utils.mask_by_dR(events.Tau, photons_selected, 0.2)\n",
    "    nTau_tt = ak.num(events.Tau[mask_tau_tt])\n",
    "    \n",
    "    mask_tau_mt = event_selector.select_tau(events.Tau, \"tau_mu\", isTight=True)\n",
    "    mask_tau_mt = mask_tau_mt & looper_utils.mask_by_dR(events.Tau, photons_selected, 0.2)\n",
    "    nTau_mt = ak.num(events.Tau[mask_tau_mt])\n",
    "    \n",
    "    mask_tau_et = event_selector.select_tau(events.Tau, \"tau_e\", isTight=True)\n",
    "    mask_tau_et = mask_tau_et & looper_utils.mask_by_dR(events.Tau, photons_selected, 0.2)\n",
    "    nTau_et = ak.num(events.Tau[mask_tau_et])\n",
    "    \n",
    "    mask_tau_lt = mask_tau_mt | mask_tau_et\n",
    "    \n",
    "    ## loose leptons\n",
    "    mask_eleL = event_selector.select_electron(events.Electron, isTight=False)\n",
    "    mask_eleL = mask_eleL & looper_utils.mask_by_dR(events.Electron, photons_selected, 0.2)\n",
    "    nEleL = ak.num(events.Electron[mask_eleL])\n",
    "    \n",
    "    mask_muL = event_selector.select_muon(events.Muon, isTight=False)\n",
    "    mask_muL = mask_muL & looper_utils.mask_by_dR(events.Muon, photons_selected, 0.2)\n",
    "    nMuL = ak.num(events.Muon[mask_muL])\n",
    "\n",
    "    ## tight leptons\n",
    "    mask_eleT = event_selector.select_electron(events.Electron, isTight=True)\n",
    "    mask_eleT = mask_eleT & looper_utils.mask_by_dR(events.Electron, photons_selected, 0.2)\n",
    "    nEleT = ak.num(events.Electron[mask_eleT])\n",
    "    \n",
    "    mask_muT = event_selector.select_muon(events.Muon, isTight=True)\n",
    "    mask_muT = mask_muT & looper_utils.mask_by_dR(events.Muon, photons_selected, 0.2)\n",
    "    nMuT = ak.num(events.Muon[mask_muT])\n",
    "    \n",
    "    sum_charge_tt = (ak.sum(events.Tau[mask_tau_tt].charge, axis=1) == 0)\n",
    "    sum_charge_et = (ak.sum(events.Tau[mask_tau_et].charge, axis=1)    + ak.sum(events.Electron[mask_eleT].charge, axis=1) == 0)\n",
    "    sum_charge_mt = (ak.sum(events.Tau[mask_tau_mt].charge, axis=1)    + ak.sum(events.Muon[mask_muT].charge, axis=1)      == 0)\n",
    "    sum_charge_ll = (ak.sum(events.Electron[mask_eleT].charge, axis=1) + ak.sum(events.Muon[mask_muT].charge, axis=1)      == 0)\n",
    "    mask_dR_mll_0lep_2tau = looper_utils.mask_by_dR_mll_0lep_2tau(events.Tau[mask_tau_tt], (0.2,3.5), (30,140))\n",
    "    mask_dR_mll_1mu_1tau  = looper_utils.mask_by_dR_mll_1lep_1tau(events.Tau[mask_tau_mt], events.Muon[mask_muT]     , (0.3,3.5), (20,120))\n",
    "    mask_dR_mll_1ele_1tau = looper_utils.mask_by_dR_mll_1lep_1tau(events.Tau[mask_tau_et], events.Electron[mask_eleT], (0.3,3.5), (20,120))\n",
    "    \n",
    "    mask_dipho     = mask_diphoton &  (nPho == 2) \n",
    "    mask_0lep_1tau = mask_dipho & (nTau_all == 1) & (nEleL == 0) & (nMuL == 0)\n",
    "    mask_0lep_2tau = mask_dipho & (nTau_tt  == 2) & (nEleL == 0) & (nMuL == 0) & (sum_charge_tt) & (mask_dR_mll_0lep_2tau)\n",
    "    mask_2lep_0tau = mask_dipho & (nTau_all == 0) & (nEleT + nMuT == 2) & (sum_charge_ll)\n",
    "    mask_1lep_0tau = mask_dipho & (nTau_all == 0) & (nEleT + nMuT == 1)\n",
    "    \n",
    "    mask_1mu_1tau  = mask_dipho & (nTau_mt == 1) & (nEleL + nMuL == 1) & (nMuT  == 1) & (sum_charge_mt) & (mask_dR_mll_1mu_1tau)\n",
    "    mask_1ele_1tau = mask_dipho & (nTau_et == 1) & (nEleL + nMuL == 1) & (nEleT == 1) & (sum_charge_et) & (mask_dR_mll_1ele_1tau)\n",
    "    mask_1lep_1tau = (mask_1mu_1tau) | (mask_1ele_1tau)\n",
    "    \n",
    "    masks = {\"dipho\": mask_dipho,\n",
    "             \"0lep_1tau\": mask_0lep_1tau,\n",
    "             \"0lep_2tau\": mask_0lep_2tau,\n",
    "             \"1lep_1tau\": mask_1lep_1tau,\n",
    "             \"2lep_0tau\": mask_2lep_0tau,\n",
    "             \"1lep_0tau\": mask_1lep_0tau}\n",
    "    \n",
    "    hists = {}\n",
    "    \n",
    "    for key, mask in masks.items():\n",
    "        hists[key] = make_plots.process_event( events[mask], events.genWeight[mask] )\n",
    "        hists[key].update( make_plots.process_diphoton(events.Photon[mask], g_Hidx[mask], mgg[mask], events.genWeight[mask]) )\n",
    "        if key == 'dipho':\n",
    "            hists[key].update( make_plots.process_tau(     events.Tau[mask_tau_all][mask]  , events.genWeight[mask]))\n",
    "            hists[key].update( make_plots.process_muon(    events.Muon[mask_muL][mask]     , events.genWeight[mask]))\n",
    "            hists[key].update( make_plots.process_electron(events.Electron[mask_eleL][mask], events.genWeight[mask]))\n",
    "        if key == '0lep_1tau':\n",
    "            hists[key].update( make_plots.process_tau(     events.Tau[mask_tau_all][mask]  , events.genWeight[mask]))\n",
    "        if key == '0lep_2tau':\n",
    "            hists[key].update( make_plots.process_tau(     events.Tau[mask_tau_tt][mask]   , events.genWeight[mask]))\n",
    "        if key == '1lep_0tau' or key == '2lep_0tau':\n",
    "            hists[key].update( make_plots.process_muon(    events.Muon[mask_muT][mask]     , events.genWeight[mask]))\n",
    "            hists[key].update( make_plots.process_electron(events.Electron[mask_eleT][mask], events.genWeight[mask]))\n",
    "        if key == \"1lep_1tau\":\n",
    "            tmphists = hists[key].update( make_plots.process_1tau_1lep(events.Tau[mask_tau_lt][mask], events.Muon[mask_muT][mask],\n",
    "                                                                       events.Electron[mask_eleT][mask], events.genWeight[mask]))\n",
    "    \n",
    "    return hists"
   ]
  },
  {
   "cell_type": "code",
   "execution_count": 12,
   "metadata": {
    "scrolled": true
   },
   "outputs": [
    {
     "name": "stdout",
     "output_type": "stream",
     "text": [
      "CPU times: user 9.55 s, sys: 229 ms, total: 9.78 s\n",
      "Wall time: 11 s\n"
     ]
    }
   ],
   "source": [
    "%%time\n",
    "hists = process(chunks[\"signal\"][0])\n",
    "#hists = process((chunks[\"signal\"][0][0], 0, 200) )\n",
    "#hists = process(chunks[\"ZH\"][0])"
   ]
  },
  {
   "cell_type": "code",
   "execution_count": 13,
   "metadata": {
    "scrolled": true
   },
   "outputs": [
    {
     "data": {
      "text/html": [
       "\n",
       "        <div style=\"max-height:1000px;max-width:1500px;overflow:auto\">\n",
       "        <b>total count</b>: 1042.9300003051758, <b>metadata</b>: {'label': 'MET'}<br>\n",
       "        <div style=\"display:flex;\">\n",
       "            <div style=\"display:inline;\">\n",
       "                \n",
       "                <table style='border:1px solid black;'\">\n",
       "                    <thead><tr><th>bin</th><th>content</th></tr></thead>\n",
       "                    <tr><td>(0,5)</td><td>5 ± 2.23607</td></tr>\n",
       "<tr><td>(5,10)</td><td>13 ± 3.60555</td></tr>\n",
       "<tr><td>(10,15)</td><td>17 ± 4.12311</td></tr>\n",
       "<tr><td>(15,20)</td><td>17 ± 4.12311</td></tr>\n",
       "<tr><td colspan='2'><center>[92 rows hidden]</center></td></tr>\n",
       "<tr><td>(480,485)</td><td>2 ± 1.41421</td></tr>\n",
       "<tr><td>(485,490)</td><td>1 ± 1</td></tr>\n",
       "<tr><td>(490,495)</td><td>0 ± 0</td></tr>\n",
       "<tr><td>(495,500)</td><td>3 ± 1.73205</td></tr>\n",
       "                </table>\n",
       "            \n",
       "            </div>\n",
       "            <div style=\"display:inline; margin: auto 2%;\">\n",
       "                <img src='data:image/svg+xml;base64,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'/>\n",
       "            </div>\n",
       "            </div>\n",
       "        </div>\n",
       "        "
      ],
      "text/plain": [
       "[ 5.00 ± 2.24   13.00 ± 3.61   17.00 ± 4.12   17.00 ± 4.12   28.00 ± 5.29\n",
       " 29.00 ± 5.39   39.98 ± 6.32   34.00 ± 5.83   25.00 ± 5.00   28.00 ± 5.29\n",
       " 46.00 ± 6.78   46.00 ± 6.78   43.00 ± 6.56   45.00 ± 6.71   35.00 ± 5.92\n",
       " 38.00 ± 6.16   22.00 ± 4.69   32.99 ± 5.74   31.00 ± 5.57   28.00 ± 5.29\n",
       " 34.00 ± 5.83   18.99 ± 4.36   19.00 ± 4.36   20.00 ± 4.47   27.99 ± 5.29\n",
       " 14.99 ± 3.87   21.00 ± 4.58   22.00 ± 4.69   18.00 ± 4.24   14.00 ± 3.74\n",
       " 16.00 ± 4.00   12.00 ± 3.46    9.00 ± 3.00   15.00 ± 3.87   14.00 ± 3.74\n",
       "  9.00 ± 3.00   15.00 ± 3.87    7.00 ± 2.65    4.99 ± 2.23   11.00 ± 3.32\n",
       "  6.00 ± 2.45    5.00 ± 2.24    5.00 ± 2.24    4.00 ± 2.00    3.00 ± 1.73\n",
       "  4.00 ± 2.00    4.00 ± 2.00    7.00 ± 2.65    3.00 ± 1.73    5.00 ± 2.24\n",
       "  6.00 ± 2.45    5.00 ± 2.24    2.00 ± 1.41    2.00 ± 1.41    2.00 ± 1.41\n",
       "  1.00 ± 1.00    3.00 ± 1.73    3.00 ± 1.73    2.00 ± 1.41    2.00 ± 1.41\n",
       "  2.00 ± 1.41    1.00 ± 1.00    2.00 ± 1.41    1.00 ± 1.00    1.00 ± 1.00\n",
       "  1.00 ± 1.00    1.00 ± 1.00    2.00 ± 1.41    3.00 ± 1.73    1.00 ± 1.00\n",
       "  2.00 ± 1.41    1.00 ± 1.00    1.00 ± 1.00    2.00 ± 1.41    1.00 ± 1.00\n",
       "  0.00 ± 0.00    2.00 ± 1.41    2.00 ± 1.41    2.00 ± 1.41    1.00 ± 1.00\n",
       "  2.00 ± 1.41    0.00 ± 0.00    0.00 ± 0.00    2.00 ± 1.41    1.00 ± 1.00\n",
       "  0.00 ± 0.00    2.00 ± 1.41    0.00 ± 0.00    0.00 ± 0.00    0.00 ± 0.00\n",
       "  0.00 ± 0.00    1.00 ± 1.00    0.00 ± 0.00    0.00 ± 0.00    0.00 ± 0.00\n",
       "  0.00 ± 0.00    2.00 ± 1.41    1.00 ± 1.00    0.00 ± 0.00    3.00 ± 1.73]"
      ]
     },
     "execution_count": 13,
     "metadata": {},
     "output_type": "execute_result"
    }
   ],
   "source": [
    "#hists['1lep_1tau']['tautauL_SVFit']\n",
    "hists['1lep_1tau']['MET']"
   ]
  },
  {
   "cell_type": "code",
   "execution_count": 14,
   "metadata": {},
   "outputs": [
    {
     "data": {
      "text/plain": [
       "17863.510528564453"
      ]
     },
     "execution_count": 14,
     "metadata": {},
     "output_type": "execute_result"
    }
   ],
   "source": [
    "hists['dipho']['pho_pT1'].integral\n",
    "#hists['dipho']['pho_pT1'].integral_error"
   ]
  },
  {
   "cell_type": "markdown",
   "metadata": {},
   "source": [
    "## send to dask"
   ]
  },
  {
   "cell_type": "code",
   "execution_count": 1,
   "metadata": {
    "scrolled": true
   },
   "outputs": [
    {
     "data": {
      "text/html": [
       "<table style=\"border: 2px solid white;\">\n",
       "<tr>\n",
       "<td style=\"vertical-align: top; border: 0px solid white\">\n",
       "<h3 style=\"text-align: left;\">Client</h3>\n",
       "<ul style=\"text-align: left; list-style: none; margin: 0; padding: 0;\">\n",
       "  <li><b>Scheduler: </b>tcp://169.228.130.74:5608</li>\n",
       "  <li><b>Dashboard: </b><a href='http://169.228.130.74:12332/status' target='_blank'>http://169.228.130.74:12332/status</a></li>\n",
       "</ul>\n",
       "</td>\n",
       "<td style=\"vertical-align: top; border: 0px solid white\">\n",
       "<h3 style=\"text-align: left;\">Cluster</h3>\n",
       "<ul style=\"text-align: left; list-style:none; margin: 0; padding: 0;\">\n",
       "  <li><b>Workers: </b>15</li>\n",
       "  <li><b>Cores: </b>15</li>\n",
       "  <li><b>Memory: </b>60.00 GB</li>\n",
       "</ul>\n",
       "</td>\n",
       "</tr>\n",
       "</table>"
      ],
      "text/plain": [
       "<Client: 'tcp://169.228.130.74:5608' processes=15 threads=15, memory=60.00 GB>"
      ]
     },
     "execution_count": 1,
     "metadata": {},
     "output_type": "execute_result"
    }
   ],
   "source": [
    "#from dask.distributed import Client\n",
    "#client = Client('tcp://169.228.130.74:5608')\n",
    "#client"
   ]
  },
  {
   "cell_type": "code",
   "execution_count": 14,
   "metadata": {},
   "outputs": [
    {
     "data": {
      "text/html": [
       "<table style=\"border: 2px solid white;\">\n",
       "<tr>\n",
       "<td style=\"vertical-align: top; border: 0px solid white\">\n",
       "<h3 style=\"text-align: left;\">Client</h3>\n",
       "<ul style=\"text-align: left; list-style: none; margin: 0; padding: 0;\">\n",
       "  <li><b>Scheduler: </b>tcp://127.0.0.1:19598</li>\n",
       "  <li><b>Dashboard: </b><a href='http://127.0.0.1:8787/status' target='_blank'>http://127.0.0.1:8787/status</a></li>\n",
       "</ul>\n",
       "</td>\n",
       "<td style=\"vertical-align: top; border: 0px solid white\">\n",
       "<h3 style=\"text-align: left;\">Cluster</h3>\n",
       "<ul style=\"text-align: left; list-style:none; margin: 0; padding: 0;\">\n",
       "  <li><b>Workers: </b>12</li>\n",
       "  <li><b>Cores: </b>12</li>\n",
       "  <li><b>Memory: </b>48.00 GB</li>\n",
       "</ul>\n",
       "</td>\n",
       "</tr>\n",
       "</table>"
      ],
      "text/plain": [
       "<Client: 'tcp://127.0.0.1:19598' processes=12 threads=12, memory=48.00 GB>"
      ]
     },
     "execution_count": 14,
     "metadata": {},
     "output_type": "execute_result"
    }
   ],
   "source": [
    "from dask.distributed import Client\n",
    "client = Client(memory_limit='4GB', n_workers=12, threads_per_worker=1)\n",
    "client"
   ]
  },
  {
   "cell_type": "code",
   "execution_count": 37,
   "metadata": {},
   "outputs": [
    {
     "data": {
      "text/plain": [
       "['./__init__.py',\n",
       " './cachepreload.py',\n",
       " './condor_utils.py',\n",
       " './event_selector.py',\n",
       " './loop.py',\n",
       " './looper_utils.py',\n",
       " './make_plots.py',\n",
       " './utils.py',\n",
       " './make_plots_from_json.py']"
      ]
     },
     "execution_count": 37,
     "metadata": {},
     "output_type": "execute_result"
    }
   ],
   "source": [
    "def g():\n",
    "    import glob\n",
    "    allpys = glob.glob(\"./*py\")\n",
    "    return allpys\n",
    "g()"
   ]
  },
  {
   "cell_type": "code",
   "execution_count": 38,
   "metadata": {},
   "outputs": [],
   "source": [
    "x = client.submit(g)"
   ]
  },
  {
   "cell_type": "code",
   "execution_count": 39,
   "metadata": {
    "scrolled": true
   },
   "outputs": [
    {
     "data": {
      "text/plain": [
       "['./__init__.py',\n",
       " './cachepreload.py',\n",
       " './condor_utils.py',\n",
       " './event_selector.py',\n",
       " './loop.py',\n",
       " './looper_utils.py',\n",
       " './make_plots.py',\n",
       " './utils.py',\n",
       " './make_plots_from_json.py']"
      ]
     },
     "execution_count": 39,
     "metadata": {},
     "output_type": "execute_result"
    }
   ],
   "source": [
    "client.gather(x)"
   ]
  },
  {
   "cell_type": "code",
   "execution_count": 40,
   "metadata": {},
   "outputs": [
    {
     "name": "stdout",
     "output_type": "stream",
     "text": [
      "start process EGamma_2018A\n",
      "start process EGamma_2018B\n",
      "start process EGamma_2018C\n",
      "start process EGamma_2018D\n",
      "start process DYJets\n",
      "start process ttbar\n",
      "start process ttG\n",
      "start process ttGG\n",
      "start process ZG\n",
      "start process WG\n",
      "start process GJets_HT40To100\n",
      "start process GJets_HT100To200\n",
      "start process GJets_HT200To400\n",
      "start process GJets_HT400To600\n",
      "start process GJets_HT600ToInf\n",
      "start process QCD_pT30To40\n",
      "start process QCD_pT40ToInf\n",
      "start process Diphoton\n",
      "start process VH\n",
      "start process signal\n",
      "CPU times: user 2min 47s, sys: 24.7 s, total: 3min 11s\n",
      "Wall time: 17min 25s\n"
     ]
    }
   ],
   "source": [
    "%%time\n",
    "from dask.distributed import as_completed\n",
    "import collections, functools, operator \n",
    "\n",
    "futures = {}\n",
    "results = {}\n",
    "\n",
    "cat_keys = [\"dipho\", \"0lep_1tau\", \"0lep_2tau\", \"1lep_1tau\", \"2lep_0tau\", \"1lep_0tau\"]\n",
    "\n",
    "for process_key in chunks:\n",
    "    print (\"start process {}\".format(process_key))\n",
    "    futures[process_key] = client.map(process, chunks[process_key], retries=5)\n",
    "    \n",
    "    results_local = []\n",
    "    results[process_key] = {}\n",
    "    ## do you really need this while?\n",
    "    while len(results_local) < len(chunks[process_key]): \n",
    "        ac = as_completed(futures[process_key], with_results=True)\n",
    "        for future, result in ac:\n",
    "            results_local.append(result)\n",
    "    \n",
    "    ## merge histograms by the key\n",
    "    for cat_key in cat_keys: \n",
    "        dicts = [results_local[i][cat_key] for i in range(len(results_local))]  \n",
    "        counter = collections.Counter() \n",
    "        for d in dicts:  \n",
    "            counter.update(d) \n",
    "        results[process_key][cat_key] = dict(counter) "
   ]
  },
  {
   "cell_type": "markdown",
   "metadata": {},
   "source": [
    "## save to disk?\n",
    "\n",
    "- foler1: cat (dipho, 0lep_1tau, 0lep_2tau...)\n",
    "    + folder2: process (data, signal, ZG...)\n",
    "        - folder3: hists (pT, eta, phi...)"
   ]
  },
  {
   "cell_type": "code",
   "execution_count": null,
   "metadata": {},
   "outputs": [],
   "source": [
    "client.shutdown()"
   ]
  },
  {
   "cell_type": "code",
   "execution_count": 41,
   "metadata": {
    "scrolled": true
   },
   "outputs": [
    {
     "data": {
      "text/plain": [
       "dict_keys(['EGamma_2018A', 'EGamma_2018B', 'EGamma_2018C', 'EGamma_2018D', 'DYJets', 'ttbar', 'ttG', 'ttGG', 'ZG', 'WG', 'GJets_HT40To100', 'GJets_HT100To200', 'GJets_HT200To400', 'GJets_HT400To600', 'GJets_HT600ToInf', 'QCD_pT30To40', 'QCD_pT40ToInf', 'Diphoton', 'VH', 'signal'])"
      ]
     },
     "execution_count": 41,
     "metadata": {},
     "output_type": "execute_result"
    }
   ],
   "source": [
    "results.keys()"
   ]
  },
  {
   "cell_type": "code",
   "execution_count": 42,
   "metadata": {},
   "outputs": [
    {
     "data": {
      "text/plain": [
       "dict_keys(['dipho', '0lep_1tau', '0lep_2tau', '1lep_1tau', '2lep_0tau', '1lep_0tau'])"
      ]
     },
     "execution_count": 42,
     "metadata": {},
     "output_type": "execute_result"
    }
   ],
   "source": [
    "results['signal'].keys()"
   ]
  },
  {
   "cell_type": "code",
   "execution_count": 43,
   "metadata": {
    "scrolled": true
   },
   "outputs": [
    {
     "data": {
      "text/plain": [
       "dict_keys(['MET', 'tautau_SVFit', 'tautauA_SVFit', 'tautauL_SVFit', 'pho_pT1', 'pho_pT2', 'pho_pTom1', 'pho_pTom2', 'pho_eta1', 'pho_eta2', 'pho_phi1', 'pho_phi2', 'pho_id1', 'pho_id2', 'tau_pT1', 'tau_eta1', 'tau_phi1', 'tau_deeptau_vs_j_1', 'tau_deeptau_vs_m_1', 'tau_deeptau_vs_e_1', 'n_tau', 'mtautau', 'dR_tautau', 'tau_pT2', 'tau_eta2', 'tau_phi2', 'tau_deeptau_vs_j_2', 'tau_deeptau_vs_m_2', 'tau_deeptau_vs_e_2', 'muon_pT1', 'muon_eta1', 'muon_phi1', 'muon_iso1', 'n_muon', 'mmumu', 'dR_mumu', 'muon_pT2', 'muon_eta2', 'muon_phi2', 'muon_iso2', 'electron_pT1', 'electron_eta1', 'electron_phi1', 'electron_iso1', 'n_electron', 'mee', 'dR_ee', 'electron_pT2', 'electron_eta2', 'electron_phi2', 'electron_iso2'])"
      ]
     },
     "execution_count": 43,
     "metadata": {},
     "output_type": "execute_result"
    }
   ],
   "source": [
    "results['signal']['dipho'].keys()"
   ]
  },
  {
   "cell_type": "code",
   "execution_count": 44,
   "metadata": {},
   "outputs": [
    {
     "name": "stdout",
     "output_type": "stream",
     "text": [
      "CPU times: user 2.19 s, sys: 3.85 s, total: 6.04 s\n",
      "Wall time: 13.9 s\n"
     ]
    }
   ],
   "source": [
    "%%time\n",
    "from subprocess import call\n",
    "import json\n",
    "\n",
    "process_keys = results.keys()\n",
    "cat_keys = results['signal'].keys()\n",
    "\n",
    "tag = \"tight_dR_mll_cut_blind\"\n",
    "\n",
    "for cat_key in cat_keys:\n",
    "    for process_key in process_keys:\n",
    "        dirname = './hists/' + tag + '/' + cat_key + '/' + process_key + '/'\n",
    "        call('mkdir -p ' + dirname, shell=True)\n",
    "        for hist_key in results[process_key][cat_key].keys():\n",
    "            histname = dirname + hist_key +'_'+year+'_'+skim_version\n",
    "            results[process_key][cat_key][hist_key].to_json(histname+\".json\")\n",
    "            with open(histname, \"w\") as f:\n",
    "                data = json.dump(results[process_key][cat_key][hist_key].to_json(histname+\".json\"), f)"
   ]
  },
  {
   "cell_type": "code",
   "execution_count": null,
   "metadata": {},
   "outputs": [],
   "source": []
  }
 ],
 "metadata": {
  "kernelspec": {
   "display_name": "Python 3",
   "language": "python",
   "name": "python3"
  },
  "language_info": {
   "codemirror_mode": {
    "name": "ipython",
    "version": 3
   },
   "file_extension": ".py",
   "mimetype": "text/x-python",
   "name": "python",
   "nbconvert_exporter": "python",
   "pygments_lexer": "ipython3",
   "version": "3.8.6"
  }
 },
 "nbformat": 4,
 "nbformat_minor": 4
}
