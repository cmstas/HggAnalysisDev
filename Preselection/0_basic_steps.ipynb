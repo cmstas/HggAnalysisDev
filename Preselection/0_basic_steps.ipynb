{
 "cells": [
  {
   "cell_type": "markdown",
   "metadata": {},
   "source": [
    "## basic steps"
   ]
  },
  {
   "cell_type": "markdown",
   "metadata": {},
   "source": [
    "1. Get photon e/mu/tau objects from events\n",
    "2. Get category flags, indices, and event level quantities\n",
    "3. Define a list of per-event level mask (cut), depending on:\n",
    "    - N e/mu/tau per event\n",
    "    - dR(obj1, obj2)\n",
    "    - cuts based on invariant mass"
   ]
  },
  {
   "cell_type": "markdown",
   "metadata": {},
   "source": [
    "## Essential outputs\n",
    "\n",
    "1. Weights for yield table\n",
    "2. Per-object and per-event object histograms"
   ]
  },
  {
   "cell_type": "markdown",
   "metadata": {},
   "source": [
    "## To be changed"
   ]
  },
  {
   "cell_type": "markdown",
   "metadata": {},
   "source": [
    "1. gHidx, make it flat, meaning two branches\n",
    "    - or photons, then there are two of them\n",
    "2. change the way to calcuate invariant mass\n",
    "3. less total number files out of skim, make it about 1e6 events per skim\n",
    "4. change e/mu/tau -> selected e/mu/tau, also do deltaR and mll cleanning in the skim"
   ]
  },
  {
   "cell_type": "markdown",
   "metadata": {},
   "source": [
    "## References\n",
    "1. use ak with numba: https://github.com/scikit-hep/awkward-0.x/issues/226\n",
    "2. another useful note: https://github.com/scikit-hep/awkward-1.0/issues/528"
   ]
  },
  {
   "cell_type": "code",
   "execution_count": null,
   "metadata": {},
   "outputs": [],
   "source": []
  }
 ],
 "metadata": {
  "kernelspec": {
   "display_name": "Python 3",
   "language": "python",
   "name": "python3"
  },
  "language_info": {
   "codemirror_mode": {
    "name": "ipython",
    "version": 3
   },
   "file_extension": ".py",
   "mimetype": "text/x-python",
   "name": "python",
   "nbconvert_exporter": "python",
   "pygments_lexer": "ipython3",
   "version": "3.7.8"
  }
 },
 "nbformat": 4,
 "nbformat_minor": 4
}
