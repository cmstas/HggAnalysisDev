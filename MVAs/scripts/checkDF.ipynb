{
 "cells": [
  {
   "cell_type": "code",
   "execution_count": 2,
   "metadata": {},
   "outputs": [],
   "source": [
    "import pandas\n"
   ]
  },
  {
   "cell_type": "code",
   "execution_count": 3,
   "metadata": {},
   "outputs": [
    {
     "name": "stdout",
     "output_type": "stream",
     "text": [
      "%pylab is deprecated, use %matplotlib inline and import the required libraries.\n",
      "Populating the interactive namespace from numpy and matplotlib\n"
     ]
    }
   ],
   "source": [
    "from yahist import Hist1D,Hist2D\n",
    "from yahist.utils import plot_stack\n",
    "import numpy as np\n",
    "import json\n",
    "\n",
    "%pylab inline\n",
    "import matplotlib.pyplot as plt\n",
    "from matplotlib.colors import LogNorm\n",
    "\n",
    "import mplhep\n",
    "plt.style.use(mplhep.style.CMS)"
   ]
  },
  {
   "cell_type": "code",
   "execution_count": 4,
   "metadata": {},
   "outputs": [],
   "source": [
    "import awkward"
   ]
  },
  {
   "cell_type": "code",
   "execution_count": 5,
   "metadata": {},
   "outputs": [],
   "source": [
    "import pyarrow"
   ]
  },
  {
   "cell_type": "code",
   "execution_count": 6,
   "metadata": {},
   "outputs": [],
   "source": [
    "df = pandas.read_pickle('../output/higgsDNA_ttHKillED_ttHH_ptmgg_mass.pkl')\n",
    "df1 = pandas.read_pickle('../output/higgsDNA_ttH_ttHH_ptmgg_mass_REFERENCE.pkl')\n",
    "df2 = pandas.read_pickle('../output/higgsDNA_ttHH_ptmgg.pkl')\n"
   ]
  },
  {
   "cell_type": "code",
   "execution_count": 12,
   "metadata": {},
   "outputs": [],
   "source": [
    "ak = awkward.from_arrow(pyarrow.Table.from_pandas(df))"
   ]
  },
  {
   "cell_type": "code",
   "execution_count": 66,
   "metadata": {},
   "outputs": [],
   "source": [
    "ak['ttH_killer']\n",
    "ak['mva_score']\n",
    "\n",
    "SR1_cut = ak[\"mva_score\"] >= 0.9975\n",
    "ak_SR1 = ak[SR1_cut]\n",
    "\n",
    "signalbb = ak_SR1[\"process_id\"] ==11\n",
    "signaltt = ak_SR1[\"process_id\"] ==12 \n",
    "signalww = ak_SR1[\"process_id\"] ==13\n",
    "signal_filter =  signalbb | signaltt | signalww\n",
    "signal = ak_SR1[signal_filter]\n",
    "bkg_filter = ak_SR1[\"process_id\"] ==10\n",
    "bkg = ak_SR1[bkg_filter]\n",
    "nonres_filter= ~signal_filter & ~bkg_filter"
   ]
  },
  {
   "cell_type": "code",
   "execution_count": 71,
   "metadata": {},
   "outputs": [
    {
     "name": "stdout",
     "output_type": "stream",
     "text": [
      "109529   3555   436353   549437\n"
     ]
    }
   ],
   "source": [
    "nonres = ak_SR1[nonres_filter]\n",
    "print(sum(nonres_filter) , \" \" , sum(bkg_filter), \" \" , sum(signal_filter) , \" \" , len(ak_SR1)  )"
   ]
  },
  {
   "cell_type": "code",
   "execution_count": 86,
   "metadata": {},
   "outputs": [],
   "source": [
    "109529  + 3555 +  436353 ==  549437\n",
    "\n",
    "\n",
    "signal[\"weight_central\"]\n",
    "\n",
    "pre_signalbb = ak[\"process_id\"] ==11\n",
    "pre_signaltt = ak[\"process_id\"] ==12 \n",
    "pre_signalww = ak[\"process_id\"] ==13\n",
    "pre_signal_filter = pre_signalbb | pre_signaltt | pre_signalww\n",
    "pre_bkg_filter = ak[\"process_id\"] ==10\n",
    "pre_nonres_filter= ~pre_signal_filter & ~pre_bkg_filter\n",
    "\n",
    "pre_signal = ak[pre_signal_filter]\n",
    "pre_bkg = ak[pre_bkg_filter]\n",
    "pre_nonres = ak[pre_nonres_filter]\n",
    "\n"
   ]
  },
  {
   "cell_type": "code",
   "execution_count": 88,
   "metadata": {},
   "outputs": [
    {
     "name": "stdout",
     "output_type": "stream",
     "text": [
      "3746181   436353\n"
     ]
    }
   ],
   "source": [
    "print(len(pre_signal), \" \",len(signal))"
   ]
  },
  {
   "cell_type": "code",
   "execution_count": 97,
   "metadata": {},
   "outputs": [],
   "source": [
    "hist = Hist1D( signal[\"ttH_killer\"].to_numpy(allow_missing=True),weights=signal[\"weight_central\"] , bins=np.linspace(0,1,50), label=\"ttHH\")\n",
    "hist2 = Hist1D( bkg[\"ttH_killer\"].to_numpy(allow_missing=True),weights=bkg[\"weight_central\"] , bins=np.linspace(0,1,50), label=\"ttH\")\n",
    "hist3 = Hist1D( nonres[\"ttH_killer\"].to_numpy(allow_missing=True),weights=nonres[\"weight_central\"] , bins=np.linspace(0,1,50), label=\"other\")"
   ]
  },
  {
   "cell_type": "code",
   "execution_count": 98,
   "metadata": {},
   "outputs": [
    {
     "data": {
      "text/plain": [
       "<AxesSubplot:>"
      ]
     },
     "execution_count": 98,
     "metadata": {},
     "output_type": "execute_result"
    },
    {
     "data": {
      "image/png": "[encoded data removed]",
      "text/plain": [
       "<Figure size 720x720 with 1 Axes>"
      ]
     },
     "metadata": {
      "needs_background": "light"
     },
     "output_type": "display_data"
    }
   ],
   "source": [
    "hist.plot(log=True)\n",
    "hist2.plot(log=True)\n",
    "hist3.plot(log=True)"
   ]
  },
  {
   "cell_type": "code",
   "execution_count": 96,
   "metadata": {},
   "outputs": [
    {
     "data": {
      "text/plain": [
       "<AxesSubplot:>"
      ]
     },
     "execution_count": 96,
     "metadata": {},
     "output_type": "execute_result"
    },
    {
     "data": {
      "image/png": "[encoded data removed]",
      "text/plain": [
       "<Figure size 720x720 with 1 Axes>"
      ]
     },
     "metadata": {
      "needs_background": "light"
     },
     "output_type": "display_data"
    }
   ],
   "source": [
    "pre_hist = Hist1D( pre_signal[\"ttH_killer\"].to_numpy(allow_missing=True),weights=pre_signal[\"weight_central\"] , bins=np.linspace(0,1,50),label=\"ttHH\")\n",
    "pre_hist2 = Hist1D( pre_bkg[\"ttH_killer\"].to_numpy(allow_missing=True),weights=pre_bkg[\"weight_central\"] , bins=np.linspace(0,1,50),label=\"ttH\")\n",
    "pre_hist3 = Hist1D( pre_nonres[\"ttH_killer\"].to_numpy(allow_missing=True),weights=pre_nonres[\"weight_central\"] , bins=np.linspace(0,1,50),label=\"other\")\n",
    "\n",
    "pre_hist.normalize().plot(log=True)\n",
    "pre_hist2.normalize().plot(log=True)\n",
    "pre_hist3.normalize().plot(log=True)\n",
    "\n"
   ]
  },
  {
   "cell_type": "code",
   "execution_count": 99,
   "metadata": {},
   "outputs": [
    {
     "data": {
      "text/plain": [
       "<AxesSubplot:>"
      ]
     },
     "execution_count": 99,
     "metadata": {},
     "output_type": "execute_result"
    },
    {
     "data": {
      "image/png": "[encoded data removed]",
      "text/plain": [
       "<Figure size 720x720 with 1 Axes>"
      ]
     },
     "metadata": {
      "needs_background": "light"
     },
     "output_type": "display_data"
    }
   ],
   "source": [
    "pre_hist.plot(log=True)\n",
    "pre_hist2.plot(log=True)\n",
    "pre_hist3.plot(log=True)\n"
   ]
  },
  {
   "cell_type": "code",
   "execution_count": 7,
   "metadata": {},
   "outputs": [
    {
     "data": {
      "text/plain": [
       "7623850"
      ]
     },
     "execution_count": 7,
     "metadata": {},
     "output_type": "execute_result"
    }
   ],
   "source": [
    "akNew = awkward.from_arrow(pyarrow.Table.from_pandas(df1))\n",
    "akOld = awkward.from_arrow(pyarrow.Table.from_pandas(df2))\n",
    "\n",
    "len(akNew)"
   ]
  },
  {
   "cell_type": "code",
   "execution_count": 8,
   "metadata": {},
   "outputs": [],
   "source": [
    "pre_new = Hist1D( akNew[\"mva_score\"].to_numpy(allow_missing=True),weights=akNew[\"weight_central\"] , bins=np.linspace(0,1,50),label=\"New\")\n",
    "pre_old = Hist1D( akOld [\"mva_score\"].to_numpy(allow_missing=True),weights=akOld[\"weight_central\"] , bins=np.linspace(0,1,50),label=\"Old\")"
   ]
  },
  {
   "cell_type": "code",
   "execution_count": 9,
   "metadata": {},
   "outputs": [
    {
     "data": {
      "text/plain": [
       "<AxesSubplot:>"
      ]
     },
     "execution_count": 9,
     "metadata": {},
     "output_type": "execute_result"
    },
    {
     "data": {
      "image/png": "[encoded data removed]",
      "text/plain": [
       "<Figure size 720x720 with 1 Axes>"
      ]
     },
     "metadata": {
      "needs_background": "light"
     },
     "output_type": "display_data"
    }
   ],
   "source": [
    "pre_new.plot(log=True)\n",
    "pre_old.plot(log=True)"
   ]
  },
  {
   "cell_type": "code",
   "execution_count": null,
   "metadata": {},
   "outputs": [],
   "source": []
  }
 ],
 "metadata": {
  "interpreter": {
   "hash": "2ef37c73efb0c58e22e378f5aa1d62817e6cc8439ac38e0744f3b8b8fc278408"
  },
  "kernelspec": {
   "display_name": "Python 3.9.9 ('higgs-dna')",
   "language": "python",
   "name": "python3"
  },
  "language_info": {
   "codemirror_mode": {
    "name": "ipython",
    "version": 3
   },
   "file_extension": ".py",
   "mimetype": "text/x-python",
   "name": "python",
   "nbconvert_exporter": "python",
   "pygments_lexer": "ipython3",
   "version": "3.9.9"
  },
  "orig_nbformat": 4
 },
 "nbformat": 4,
 "nbformat_minor": 2
}
